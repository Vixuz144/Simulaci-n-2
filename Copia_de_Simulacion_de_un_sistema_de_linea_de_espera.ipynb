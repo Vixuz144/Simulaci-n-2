{
  "cells": [
    {
      "cell_type": "markdown",
      "metadata": {
        "id": "view-in-github",
        "colab_type": "text"
      },
      "source": [
        "<a href=\"https://colab.research.google.com/github/Vixuz144/Simulacion2/blob/main/Copia_de_Simulacion_de_un_sistema_de_linea_de_espera.ipynb\" target=\"_parent\"><img src=\"https://colab.research.google.com/assets/colab-badge.svg\" alt=\"Open In Colab\"/></a>"
      ]
    },
    {
      "cell_type": "markdown",
      "metadata": {
        "id": "jRgPrKx8evoL"
      },
      "source": [
        "# Líneas de espera"
      ]
    },
    {
      "cell_type": "markdown",
      "metadata": {
        "id": "6ElaNonfevoO"
      },
      "source": [
        "Un sistema de colas puede describirse como: “clientes” que llegan buscando un servicio,\n",
        "esperan si este no es inmediato y abandonan el sistema una vez atendidos. En algunos casos\n",
        "se puede admitir que los clientes abandonan el sistema si se cansan de esperar."
      ]
    },
    {
      "cell_type": "markdown",
      "metadata": {
        "id": "xJ-gI3UxevoP"
      },
      "source": [
        "![cola](https://i.imgur.com/3SFzirr.jpg)"
      ]
    },
    {
      "cell_type": "markdown",
      "metadata": {
        "id": "JiRton_sevoP"
      },
      "source": [
        "### Características básicas:\n",
        "\n",
        "* Patrón de llegada de los clientes\n",
        "* Patrón de servicio de los servidores\n",
        "* Disciplina de cola\n",
        "* Capacidad del sistema\n",
        "* Número de canales de servicio\n",
        "* Número de etapas de servicio\n",
        "\n",
        "Aveces se incluyen una séptima característica: la población de posibles clientes."
      ]
    },
    {
      "cell_type": "markdown",
      "metadata": {
        "id": "K_XQK7XfevoP"
      },
      "source": [
        "#### Patrón de llegada\n",
        "\n",
        "En situaciones la llegada depende de cierta variable aleatoria. En este caso es necesario conocer la distribución probabilística entre dos llegadas de cliente sucesivas. Además habría que tener en cuenta si los clientes llegan independiente o simultáneamente. En este segundo caso (es decir, si llegan lotes) habría que definir la distribución\n",
        "probabilística de éstos.\n",
        "\n",
        "También es posible considerar clientes \"impacientes\", que lleguen a la cola y si es demasiado larga se vayan, o que tras esperar mucho rato en la cola decidan abandonar.\n",
        "\n",
        "Es posible también que el patrón de llegada varíe con el tiempo. Si se mantiene constante se llama **estacionario**, si por ejemplo varía con las horas del día es **no-estacionario**."
      ]
    },
    {
      "cell_type": "markdown",
      "metadata": {
        "id": "DE7YENNwevoP"
      },
      "source": [
        "#### Patrones de servicio de los servidores\n",
        "\n",
        "Los servidores pueden tener un tiempo de servicio variable, para definirlo hay que asociarle una función de probabilidad. También pueden atender en lotes o de modo individual.\n",
        "\n",
        "El tiempo de servicio también puede variar con el número de clientes en la cola, trabajando más rápido o más lento, y en este caso se llama patrones de servicio dependientes. Al igual que el patrón de llegadas, el patrón de servicio puede ser no-estacionario, variando con el tiempo transcurrido."
      ]
    },
    {
      "cell_type": "markdown",
      "metadata": {
        "id": "TvWqz7bMevoP"
      },
      "source": [
        "#### Disciplina de cola\n",
        "\n",
        "Es la manera en que los clientes se ordenan en el momento de ser servidos. Cuando se piensa en colas se admite que la disciplina de cola normal es **FIFO** (atender primero a quien llegó primero). Sin embargo en muchas colas es habitual el uso de la disciplina **LIFO** (atender primero al último). También es posible encontrar reglas de secuencia con\n",
        "prioridades, como por ejemplo secuenciar primero las tareas con menor duración o según tipos de clientes.\n",
        "\n",
        "En cualquier caso dos son las situaciones generales en las que trabajar. En la primera, llamada\n",
        "en inglés “preemptive”, si un cliente llega a la cola con una orden de prioridad superior al cliente que\n",
        "está siendo atendido, este se retira dando paso al más importante. Dos nuevos subcasos aparecen: el\n",
        "cliente retirado ha de volver a empezar, o el cliente retorna donde se había quedado. La segunda\n",
        "situación es la denominada “no-preemptive” donde el cliente con mayor prioridad espera a que acabe\n",
        "el que está siendo atendido."
      ]
    },
    {
      "cell_type": "markdown",
      "metadata": {
        "id": "PrQ1TEKrevoQ"
      },
      "source": [
        "#### Capacidad del sistema\n",
        "\n",
        "En algunos sistemas existe una limitación respecto al número de clientes que pueden esperar en la cola.\n",
        "A estos casos se les denomina situaciones de cola finitas. Esta limitación puede ser considerada como\n",
        "una simplificación en la modelización de la impaciencia de los clientes."
      ]
    },
    {
      "cell_type": "markdown",
      "metadata": {
        "id": "QbWDrga1evoQ"
      },
      "source": [
        "#### Canales del servicio\n",
        "\n",
        "Es evidente que es preferible utilizar sistemas multiservidos con una única línea de espera para\n",
        "todos que con una cola por servidor. Por tanto, cuando se habla de canales de servicio paralelos, se\n",
        "habla generalmente de una cola que alimenta a varios servidores mientras que el caso de colas\n",
        "independientes se asemeja a múltiples sistemas con sólo un servidor."
      ]
    },
    {
      "cell_type": "markdown",
      "metadata": {
        "id": "RSfdJxP7evoQ"
      },
      "source": [
        "#### Etapas de servicio\n",
        "\n",
        "Un sistema de colas puede ser unietapa o multietapa. En los sistemas multietapa el cliente\n",
        "puede pasar por un número de etapas mayor que uno. Una peluquería es un sistema unietapa, salvo\n",
        "que haya diferentes servicios (manicura, maquillaje) y cada uno de estos servicios sea desarrollado por\n",
        "un servidor diferente.\n",
        "En algunos sistemas multietapa se puede admitir la vuelta atrás o “reciclado”, esto es habitual\n",
        "en sistemas productivos como controles de calidad y reprocesos."
      ]
    },
    {
      "cell_type": "markdown",
      "metadata": {
        "id": "7vFYxQxFevoQ"
      },
      "source": [
        "![cola](http://2.bp.blogspot.com/-SOVrqaCruMA/Ub0OdY2zXLI/AAAAAAAAABE/JE7JTCMJaWU/s1600/32136.png)"
      ]
    },
    {
      "cell_type": "markdown",
      "metadata": {
        "id": "j6McHHhDevoQ"
      },
      "source": [
        "### Notación básica"
      ]
    },
    {
      "cell_type": "markdown",
      "metadata": {
        "id": "-M_k3m54evoR"
      },
      "source": [
        "#### Nomenclatura\n",
        "\n",
        "* $\\lambda$: Número de llegadas por unidad de tiempo.\n",
        "* $\\mu$: Número de servicios por unidad de tiempo si el servidor está ocupado.\n",
        "* $c$: Número de servidores en paralelo.\n",
        "* $\\rho = \\frac{\\lambda}{c \\mu}$: congestión del sistema.\n",
        "* $N(t)$: Número de clientes en el sistema en el instante t.\n",
        "* $N_q(t)$: Número de clientes en la cola en en el instante t.\n",
        "* $N_s(t)$: Número de clientes en servicio en el instante t.\n",
        "* $P_n(t)$: Probabilidad que haya $n$ clientes en el sistema en el instante $t=Pr{N(t)=n}$.\n",
        "* $N$: Número de clientes en el sistema en el estado estable.\n",
        "* $P_n$ : Probabilidad de que haya $n$ clientes en estado estable $P_n=Pr{N=n}$.\n",
        "* $L$ : Número medio de clientes en el sistema.\n",
        "* $L_q$ : Número medio de clientes en la cola.\n",
        "* $T_q$ : Representa el tiempo que un cliente invierte en la cola.\n",
        "* $S$ : Representa el tiempo de servicio.\n",
        "* $T = T_q+S$: Representa el tiempo total que un cliente invierte en el sistema.\n",
        "* $W_q= E[Tq]$: Tiempo medio de espera de los clientes en la cola.\n",
        "* $W=E[T]$: Tiempo medio de estancia de los clientes en el sistema.\n",
        "* $r$: número medio de clientes que se atienden por término medio.\n",
        "* $P_b$: probabilidad de que cualquier servidor esté ocupado."
      ]
    },
    {
      "cell_type": "markdown",
      "metadata": {
        "id": "2eza8x5aevoR"
      },
      "source": [
        "Con el tiempo se ha adoptado una notación para representar los problemas de colas\n",
        "que consta de 5 símbolos separados por barras.\n",
        "\n",
        "$$ A / B / X / Y / Z $$\n",
        "\n",
        "A: indica la distribución de tiempo entre llegadas consecutivas\n",
        "\n",
        "B: alude al patrón de servicio de servidores\n",
        "\n",
        "X: es el número de canales de servicio\n",
        "\n",
        "Y: es la restricción en la capacidad del sistema\n",
        "\n",
        "Z: es la disciplina de cola"
      ]
    },
    {
      "cell_type": "markdown",
      "metadata": {
        "id": "gPccjQabevoR"
      },
      "source": [
        "Los símbolos más utilizados son:"
      ]
    },
    {
      "cell_type": "markdown",
      "metadata": {
        "id": "t-TlTo_kevoR"
      },
      "source": [
        "#### Distribución de tiempos de llegada (A) y de servicio (B)\n",
        "\n",
        "|       **Símbolo**       |    **Explicación**   |\n",
        "|-------------------------|----------------------|\n",
        "|             M           |      Exponencial     |\n",
        "|             D           |      Determinista    |\n",
        "|           $E_k$         |      Erlang          |\n",
        "|             G           |      General         ||\n",
        "\n",
        "#### Número de servidores\n",
        "\n",
        "1, 2, 3, ... $\\infty$\n",
        "\n",
        "#### Disciplina de cola\n",
        "\n",
        "|       **Símbolo**       |            **Explicación**          |\n",
        "|-------------------------|-------------------------------------|\n",
        "|      **FIFO**           |    Servir al primero que llega      |\n",
        "|      **LIFO**           | Servir primero al último que llega  |\n",
        "|      **RSS**            |  Selección aleatoria de servicio    |\n",
        "|      **PR**             |               Prioridad             |\n",
        "|      **GD**             |           Disciplina general        ||"
      ]
    },
    {
      "cell_type": "markdown",
      "metadata": {
        "id": "px_eF8t6evoR"
      },
      "source": [
        "Si no existe restricción de capacidad (Y = $\\infty$) y la política de servicio es FIFO, no se suelen\n",
        "incorporar dichos símbolos en la notación así:\n",
        "\n",
        "**M/D/3** es equivalente a **M/D/3/$\\infty$/FIFO**\n",
        "\n",
        "y significa que los clientes entran según una distribución exponencial, se sirven de manera\n",
        "determinista con tres servidores sin limitación de capacidad en el sistema y siguiendo una estrategia\n",
        "FIFO de servicio."
      ]
    },
    {
      "cell_type": "markdown",
      "metadata": {
        "id": "HbAdGhUfevoR"
      },
      "source": [
        "#### Rendimiento de un sistema\n",
        "\n",
        "La tarea de un analista puede ser de dos tipos:\n",
        "\n",
        "* Establecer mecanismos para medir la efectividad del sistema\n",
        "* Diseñar un sistema “óptimo” (de acuerdo a algún criterio)\n",
        "\n",
        "Diseñar eficientemente consiste, básicamente, en definir un sistema cuyo coste (de diseño y operación) se justifique por el servicio brindado. Dicho servicio se puede evaluar mediante el coste de “no darlo”. De este modo al diseñar se pretende minimizar unos supuestos costes totales.\n",
        "\n",
        "A partir de los datos que nos suministra la teoría de colas se puede obtener la información necesaria para definir el número de asientos necesarios en una sala de espera, o la estructura de etapas de un proceso de atención al cliente."
      ]
    },
    {
      "cell_type": "markdown",
      "metadata": {
        "id": "MCml9dAievoR"
      },
      "source": [
        "### Resultados generales\n",
        "\n",
        "resultados y relaciones para problemas G/G/1 o G/G/c."
      ]
    },
    {
      "cell_type": "markdown",
      "metadata": {
        "id": "-uRAyv3zevoS"
      },
      "source": [
        "Si $\\rho \\leq 1$ el sistema tenderá a crecer inexorablemente."
      ]
    },
    {
      "cell_type": "markdown",
      "metadata": {
        "id": "cebAy3k7evoS"
      },
      "source": [
        "El número de clientes en el instante $t$, $n(t)$, es el número de llegadas que han ocurrido hasta $t$\n",
        "menos el número de servicios completados hasta $t$."
      ]
    },
    {
      "cell_type": "markdown",
      "metadata": {
        "id": "poEFxsUvevoS"
      },
      "source": [
        "El número medio de clientes en el sistema y en la cola se puede calcular de diferentes maneras:\n",
        "\n",
        "$$ L=E[n]= \\sum_{n=0}^{\\infty} n*p_n $$\n",
        "\n",
        "$$ L_q=E[n_q]= \\sum_{n=c+1}^{\\infty} (n-c)*p_n $$"
      ]
    },
    {
      "cell_type": "markdown",
      "metadata": {
        "id": "ZAb9zSfXevoS"
      },
      "source": [
        "La famosa **fórmula de Little** establece una relación entre la longitud de la cola y el tiempo de espera:\n",
        "\n",
        "$$  L = \\lambda W  $$\n",
        "     \n",
        "$$  L_q = \\lambda W_q  $$"
      ]
    },
    {
      "cell_type": "markdown",
      "metadata": {
        "id": "DyKm0RQXevoS"
      },
      "source": [
        "El tiempo de estancia de un cliente en el sistema se relaciona con el tiempo de espera de un\n",
        "cliente en la cola:\n",
        "\n",
        "$$  W = W_q + \\frac{1}{\\mu} $$"
      ]
    },
    {
      "cell_type": "markdown",
      "metadata": {
        "id": "mYWAMKHQevoS"
      },
      "source": [
        "El número de clientes que por término medio se están atendiendo en cualquier momento es:\n",
        "\n",
        "$$  r = L - L_q = \\lambda (W - W_q) = \\frac{\\lambda}{\\mu}  $$"
      ]
    },
    {
      "cell_type": "markdown",
      "metadata": {
        "id": "blQRD4nbevoS"
      },
      "source": [
        "En un sistema de un único servidor:\n",
        "\n",
        "$$ L - L_q = \\sum_{n=0}^{\\infty} n \\cdot p_n - \\sum_{n=0}^{\\infty} (n-1) \\cdot p_n = \\sum_{n=0}^{\\infty} p_n = 1 - p_0$$\n",
        "\n",
        "La probabilidad de que un sistema de un único servidor esté vacío es $p_0 = 1 - \\rho$"
      ]
    },
    {
      "cell_type": "markdown",
      "metadata": {
        "id": "ZF26WotJevoS"
      },
      "source": [
        "La probabilidad de que un servidor (de un sistema de $c$ servidores en paralelo) esté ocupado en\n",
        "el estado estable es:\n",
        "\n",
        "$$ p_b = \\rho = \\frac{\\lambda}{c \\cdot \\mu}  $$"
      ]
    },
    {
      "cell_type": "markdown",
      "metadata": {
        "id": "C35DFTGUevoS"
      },
      "source": [
        "#### Ejercicio: Simulación manual. (100322)\n",
        "\n",
        "1. Completar la tabla."
      ]
    },
    {
      "cell_type": "markdown",
      "metadata": {
        "id": "KF8taG7oevoT"
      },
      "source": [
        "| Pkt No. |Tpll  |tps  |Tiempo de arribo|Inicio de servicio|Hora de salida|Tiempo en fila |Tiempo en el sistema  |\n",
        "|---------|-----|----|--------------|-------------------|----------------|---------------|-----------------|\n",
        "| 1 | 2 |12| 2 | 2 | 14 | 0 | 12 |\n",
        "| 2 | 5 |10| 7 |14|24| 7 |17|\n",
        "| 3 | 1 |16| 8 |24|40|16|32|\n",
        "| 4 | 4 | 9 |12|40|49|28|37|\n",
        "| 5 | 1 |10|13|49|59|36|46|\n",
        "| 6 | 3 |13|16|59|72|46|56|\n",
        "| 7 | 3 |17|19|72|89|53|70|\n",
        "| 8 | 2 |10|21|89|99|68|78|\n",
        "| 9 | 4 |8|25|99|107|74|82|\n",
        "|10| 5 |12|30|107|119|77|89|"
      ]
    },
    {
      "cell_type": "markdown",
      "metadata": {
        "id": "G-yj9gUPevoT"
      },
      "source": [
        "#### Ejercicio: Continuación ... (170322)\n",
        "\n",
        "1. Agregar dos columnas a la tabla anterior: Tamaño de la cola despues de $t$ Clientes en el sistema después de $t$.\n",
        "2. Con la información de la tabla completa, determinar: $\\lambda$, $\\mu$, $L$ y $L_q$."
      ]
    },
    {
      "cell_type": "markdown",
      "metadata": {
        "id": "Fyu4XmLgiIAP"
      },
      "source": [
        "| Pkt No. |Tpll  |tps  |Tiempo de arribo|Inicio de servicio|Hora de salida|Tiempo en fila |Tiempo en el sistema  | Tamaño de la cola | Cantidad de clientes |\n",
        "|---|---|---|---|---|---|---|---|---|---|\n",
        "| 1 | 2 |12| 2 | 2 | 14 | 0 | 12 |0|1|\n",
        "| 2 | 5 |10| 7 |14|24| 7 |17|1|2|\n",
        "| 3 | 1 |16| 8 |24|40|16|32|2|3|\n",
        "| 4 | 4 | 9 |12|40|49|28|37|3|4|\n",
        "| 5 | 1 |10|13|49|59|36|46|4|5|\n",
        "| 6 | 3 |13|16|59|72|46|56|4|5|\n",
        "| 7 | 3 |17|19|72|89|53|70|5|6|\n",
        "| 8 | 2 |10|21|89|99|68|78|6|7|\n",
        "| 9 | 4 |8|25|99|107|74|82|6|7|\n",
        "|10| 5 |12|30|107|119|77|89|7|8|\n",
        "\n",
        "$$λ = \\frac{10}{30} = \\frac{1}{3} ≈ 0.33$$\n",
        "\n",
        "$$ μ = \\frac{10}{119-2} = \\frac{10}{117} ≈ 0.08547 $$"
      ]
    },
    {
      "cell_type": "code",
      "execution_count": null,
      "metadata": {
        "colab": {
          "base_uri": "https://localhost:8080/"
        },
        "id": "3poE5TmNjyFE",
        "outputId": "7cef8d18-9044-461f-aee1-96943452b131"
      },
      "outputs": [
        {
          "output_type": "stream",
          "name": "stdout",
          "text": [
            "0.3333333333333333\n",
            "0.08547008547008547\n"
          ]
        }
      ],
      "source": [
        "l = [2, 5, 1, 4, 1, 3, 3, 2, 4, 5]\n",
        "print(len(l)/sum(l))\n",
        "print(10/117)\n"
      ]
    },
    {
      "cell_type": "markdown",
      "metadata": {
        "id": "QJvJLekyevoT"
      },
      "source": [
        "### Tarea"
      ]
    },
    {
      "cell_type": "markdown",
      "metadata": {
        "id": "OhEGBeX1evoT"
      },
      "source": [
        "|  Cliente i:                       |  1 | 2 | 3 |4 |5 |6 |7 |8 |9 |10 | 11 | 12 |\n",
        "|-----------------------------------|----|---|---|--|--|--|--|--|--|---|----|----|\n",
        "|Tiempo de llegada entre i + 1 e i: |2   | 1 | 3 |1 |1 | 4|2 |5 |1 | 2 | 2  |    |\n",
        "|Tiempo de servicio al cliente:     | 1  | 3 | 6 |2 |1 | 1|4 | 2|5 |1  | 1  | 3  |"
      ]
    },
    {
      "cell_type": "markdown",
      "metadata": {
        "id": "kRSUhF8tevoT"
      },
      "source": [
        "1. Contruir la tabla completa\n",
        "\n",
        "\\begin{array}{|c|c|c|c|c|c|c|c|c|}\n",
        "\\hline\n",
        "t & \\textrm{Entrada} & \\textrm{Salida i} & \\textrm{Tiempo de arribo} & \\textrm{Ini serv i} & \\textrm{Ter serv i} & \\textrm{T en cola} & \\textrm{T en sist} & \\textrm{Tamaño de cola t} & \\textrm{Clientes en el sistema hasta t} \\\\ \\hline\n",
        "1 & 0 & 1 & 0 & 0 & 1 & 0 & 1 & 0 & 1\\\\\n",
        "2 & 2 & 3 & 2 & 2 & 5 & 0 & 3 & 0 & 1\\\\\n",
        "3 & 1 & 6 & 3 & 5 & 11 & 2 & 8 & 1 & 2\\\\\n",
        "4 & 3 & 2 & 6 & 11 & 13 & 5 & 7 & 1 & 2\\\\\n",
        "5 & 1 & 1 & 7 & 13 & 14 & 6 & 7 & 2 & 3\\\\\n",
        "6 & 1 & 1 & 8 & 14 & 15 & 6 & 7 & 3 & 4\\\\\n",
        "7 & 4 & 4 & 12 & 15 & 19 & 3 & 7 & 3 & 4\\\\\n",
        "8 & 2 & 2 & 14 & 19 & 21 & 5 & 7 & 2 & 3\\\\\n",
        "9 & 5 & 5 & 19 & 21 & 26 & 2 & 7 & 1 & 2\\\\\n",
        "10 & 1 & 1 & 20 & 26 & 27 & 6 & 7 & 2 & 3\\\\\n",
        "11 & 2 & 1 & 22 & 27 & 28 & 5 & 6 & 2 & 3\\\\\n",
        "12 & 2 & 3 & 24 & 28 & 31 & 4 & 7 & 3 & 4 \\\\ \\hline\n",
        "\\end{array}\n"
      ]
    },
    {
      "cell_type": "markdown",
      "metadata": {
        "id": "gP4b0E_5evoT"
      },
      "source": [
        "### Para construir la simulación"
      ]
    },
    {
      "cell_type": "markdown",
      "metadata": {
        "id": "wECh0F1sevoU"
      },
      "source": [
        "#### Variables:\n",
        "\n",
        "1. Variable de tiempo $t$: tiempo (simulado) transcurrido.\n",
        "\n",
        "2. Variables de conteo: número de veces que ciertos eventos han ocurrido, hasta el instante $t$.\n",
        "    \n",
        "3. Variables de estado del sistema (ES): Describen el estado del sistema en el instante $t$."
      ]
    },
    {
      "cell_type": "markdown",
      "metadata": {
        "id": "AS4eKnmlevoU"
      },
      "source": [
        "Subrutina para generar $T_s$, el tiempo de la primera llegada después del instante s."
      ]
    },
    {
      "cell_type": "markdown",
      "metadata": {
        "id": "rqeZrSR2evoU"
      },
      "source": [
        "Paso 1: Sea $t = s$.\n",
        "\n",
        "Paso 2: Generar $U$.\n",
        "\n",
        "Paso 3: Sea $t = t - \\frac{1}{\\lambda} logU$.\n",
        "\n",
        "Paso 4: Generar $U$.\n",
        "\n",
        "Paso 5: Si $U \\leq \\frac{\\lambda(t)}{\\lambda}$, hacer $T_s = t$ y terminar.\n",
        "\n",
        "Paso 6: Ir al paso 2."
      ]
    },
    {
      "cell_type": "markdown",
      "metadata": {
        "id": "e-48lQ9qevoU"
      },
      "source": [
        "### Ejercicio (080322):\n",
        "\n",
        "1. Escribir el código para la subrutina que genera $T_s$."
      ]
    },
    {
      "cell_type": "code",
      "execution_count": null,
      "metadata": {
        "id": "Kr6_iUQrevoU"
      },
      "outputs": [],
      "source": [
        "from random import expovariate\n",
        "from matplotlib.pyplot import *\n",
        "from random import seed"
      ]
    },
    {
      "cell_type": "code",
      "execution_count": null,
      "metadata": {
        "colab": {
          "base_uri": "https://localhost:8080/"
        },
        "id": "Ol3Ga6xvevoW",
        "outputId": "028a7eee-edf5-487a-fbdd-85ae9510f026"
      },
      "outputs": [
        {
          "output_type": "stream",
          "name": "stdout",
          "text": [
            "Número total de llegadas =  9\n",
            "Número total de llegadas =  6\n",
            "Número total de llegadas =  9\n",
            "Número total de llegadas =  9\n",
            "Número total de llegadas =  9\n",
            "Número total de llegadas =  5\n",
            "Número total de llegadas =  7\n",
            "Número total de llegadas =  2\n",
            "Número total de llegadas =  17\n",
            "Número total de llegadas =  8\n"
          ]
        }
      ],
      "source": [
        "tpll = 2.0             # Tiempo promedio entre llegadas\n",
        "T = 15                 # Tiempo total de la simulación\n",
        "\n",
        "nr = 10\n",
        "for k in range(nr):\n",
        "  N = 0                  # Variable de estado: número de llegadas\n",
        "  t = 0                  # Hora de simulación actual\n",
        "\n",
        "  while t <= T:\n",
        "      N = N + 1\n",
        "      # Avance del tiempo simulado\n",
        "      t = t + expovariate(1/tpll)\n",
        "\n",
        "  print('Número total de llegadas = ', N)"
      ]
    },
    {
      "cell_type": "markdown",
      "metadata": {
        "id": "0xvWM_VvevoW"
      },
      "source": [
        "### Extraemos los datos del código anterior"
      ]
    },
    {
      "cell_type": "code",
      "execution_count": null,
      "metadata": {
        "colab": {
          "base_uri": "https://localhost:8080/"
        },
        "id": "EXGMRAzzevoW",
        "outputId": "7fef1e98-8b43-4644-bfb2-28a327cf6654"
      },
      "outputs": [
        {
          "output_type": "stream",
          "name": "stdout",
          "text": [
            "Número total de llegadas =  6\n"
          ]
        }
      ],
      "source": [
        "tpll = 2.0             # Tiempo promedio entre llegadas\n",
        "T = 15                 # Tiempo total de la simulación\n",
        "\n",
        "N = 0                  # Variable de estado: número de llegadas\n",
        "\n",
        "t = 0                  # Hora de simulación actual\n",
        "\n",
        "while t <= T:\n",
        "    N = N + 1\n",
        "    # Avance del tiempo simulado\n",
        "    t = t + expovariate(1/tpll)\n",
        "\n",
        "print('Número total de llegadas = ', N)"
      ]
    },
    {
      "cell_type": "markdown",
      "metadata": {
        "id": "ZAFA_mT2evoX"
      },
      "source": [
        "### Línea de espera con un servidor."
      ]
    },
    {
      "cell_type": "markdown",
      "metadata": {
        "id": "qCvK28mtevoX"
      },
      "source": [
        "Se requieren las siguientes variables:\n",
        "\n",
        "1. Variable de tiempo: $t$.\n",
        "\n",
        "2. Variables de conteo:\n",
        "\n",
        "$N_A$: tiempo de llegadas hasta $t$.\n",
        "                        \n",
        "$N_D$: número de salidas hasta $t$.\n",
        "\n",
        "3. Variables de estado del sistema:  $n$: número de clientes en el sistema en el instante $t$.\n",
        "\n",
        "Lista de eventos: $t_A, t_D$, llegadas y salidas."
      ]
    },
    {
      "cell_type": "markdown",
      "metadata": {
        "id": "VP05EmVMevoX"
      },
      "source": [
        "### Inicialización:"
      ]
    },
    {
      "cell_type": "markdown",
      "metadata": {
        "id": "0ewvbePBevoX"
      },
      "source": [
        "Sea $t = N_A = N_D = 0$.\n",
        "\n",
        "Sea ES = 0.\n",
        "\n",
        "Generar $T_0$ y hacer $t_A = T_0, t_D = \\infty$"
      ]
    },
    {
      "cell_type": "markdown",
      "metadata": {
        "id": "xlkFmsPgevoX"
      },
      "source": [
        "### Tarea: Codificar inicialización y casos (pp. 89-91)"
      ]
    },
    {
      "cell_type": "markdown",
      "metadata": {
        "id": "XZbCEqa7evoX"
      },
      "source": [
        "## Construyendo el código para simular la línea de espera..."
      ]
    },
    {
      "cell_type": "markdown",
      "metadata": {
        "id": "E3_s51v5evoX"
      },
      "source": [
        "El tiempo entre arrivos sigue una distribución exponencial, por lo cual multiples llegadas integran un proceso de Poisson."
      ]
    },
    {
      "cell_type": "code",
      "execution_count": null,
      "metadata": {
        "id": "CBZgImSIevoX"
      },
      "outputs": [],
      "source": [
        "from random import expovariate\n",
        "from matplotlib.pyplot import *\n",
        "from random import seed\n",
        "from math import inf as Infinity\n",
        "from statistics import mean"
      ]
    },
    {
      "cell_type": "code",
      "execution_count": null,
      "metadata": {
        "colab": {
          "base_uri": "https://localhost:8080/",
          "height": 270
        },
        "id": "MMO1ff2UevoY",
        "outputId": "aa4bf0e8-d19f-4b7c-aa87-5dded5834d28"
      },
      "outputs": [
        {
          "output_type": "stream",
          "name": "stdout",
          "text": [
            "Número total de llegadas =  9\n"
          ]
        },
        {
          "output_type": "display_data",
          "data": {
            "text/plain": [
              "<Figure size 640x480 with 1 Axes>"
            ],
            "image/png": "[encoded data removed]"
          },
          "metadata": {}
        }
      ],
      "source": [
        "tpll = 2.0             # Tiempo promedio entre llegadas\n",
        "T = 15                 # Tiempo total de la simulación\n",
        "\n",
        "N = 0                  # Variable de estado: número de llegadas\n",
        "\n",
        "t = 0                  # Hora de simulación actual\n",
        "\n",
        "llegadas = []\n",
        "num = []\n",
        "\n",
        "while t <= T:\n",
        "    N = N + 1\n",
        "    # Avance del tiempo simulado\n",
        "    t = t + expovariate(1/tpll)\n",
        "    llegadas.append(t)\n",
        "    num.append(N)\n",
        "\n",
        "step(llegadas, num)\n",
        "print('Número total de llegadas = ', N)"
      ]
    },
    {
      "cell_type": "markdown",
      "metadata": {
        "id": "YAW8nZjrevoY"
      },
      "source": [
        "El proceso de Poisson es un caso especial de otro tipo de proceso aleatorio, llamado de Nacimiento-Muerte."
      ]
    },
    {
      "cell_type": "code",
      "execution_count": null,
      "metadata": {
        "colab": {
          "base_uri": "https://localhost:8080/",
          "height": 163
        },
        "id": "-5Zy5FC-evoY",
        "outputId": "36bd51bc-fdb5-4206-957e-ce73b2f23b55"
      },
      "outputs": [
        {
          "output_type": "stream",
          "name": "stdout",
          "text": [
            "1.4123711340206186\n"
          ]
        },
        {
          "output_type": "display_data",
          "data": {
            "text/plain": [
              "<Figure size 2000x800 with 1 Axes>"
            ],
            "image/png": "[encoded data removed]"
          },
          "metadata": {}
        }
      ],
      "source": [
        "tpll = 2.0                      # Tiempo de inter arrivo promedio\n",
        "tps = 1.0                       # Tiempo de servicio promedio\n",
        "T = 500.0                       # Tiempo total de la simulación\n",
        "t = 0.0                         # Tiempo de simulación actual\n",
        "\n",
        "N = 0                           # Variable de estado: número de clientes en el sistema\n",
        "\n",
        "# Hora de arrivo del siguiente evento\n",
        "\n",
        "T_arrivo = expovariate(1.0/tpll)\n",
        "\n",
        "# Hora del próximo evento de salida\n",
        "\n",
        "T_salida = Infinity\n",
        "\n",
        "X = []\n",
        "Y = []\n",
        "\n",
        "while t <= T:\n",
        "    tll = expovariate(1.0/tpll)\n",
        "    ts = expovariate(1.0/tps)\n",
        "    if tll < ts:\n",
        "        N += 1\n",
        "        t = t + tll\n",
        "        X.append(t)\n",
        "        Y.append(N)\n",
        "\n",
        "    else:\n",
        "        if N > 0:\n",
        "            N -= 1\n",
        "            t = t + ts\n",
        "            X.append(t)\n",
        "            Y.append(N)\n",
        "\n",
        "fig = figure(1, figsize=(20, 8))\n",
        "step(X, Y, linewidth=1.2, where = 'mid', color='black')\n",
        "xlabel('Tiempo', size=16)\n",
        "ylabel('N', size=16)\n",
        "print(np.mean(Y))\n",
        "show()"
      ]
    },
    {
      "cell_type": "markdown",
      "metadata": {
        "id": "i-RVFJoTuX6C"
      },
      "source": [
        "**SEPARACION**"
      ]
    },
    {
      "cell_type": "code",
      "execution_count": null,
      "metadata": {
        "colab": {
          "base_uri": "https://localhost:8080/"
        },
        "id": "GDyngBbRevoZ",
        "outputId": "d304ad2e-e15f-47e6-dd5f-d86826f5c819"
      },
      "outputs": [
        {
          "output_type": "stream",
          "name": "stdout",
          "text": [
            "Número de clientes en el sistema=  0.0\n",
            "Número de clientes en el sistema=  3.0\n",
            "Número de clientes en el sistema=  1.0\n"
          ]
        }
      ],
      "source": [
        "for k in range(3):\n",
        "  tpll = 2.0                      # Tiempo de inter arrivo promedio\n",
        "  tps = 1.0                       # Tiempo de servicio promedio\n",
        "  T = 100.0                       # Tiempo total de la simulación\n",
        "  t = 0.0                         # Tiempo de simulación actual\n",
        "\n",
        "  N = 0                           # Variable de estado: número de clientes en el sistema\n",
        "\n",
        "  # Hora de arrivo del siguiente evento\n",
        "\n",
        "  T_arrivo = expovariate(1.0/tpll)\n",
        "\n",
        "  # Hora del próximo evento de salida\n",
        "\n",
        "  T_salida = Infinity\n",
        "\n",
        "  while t <= T:\n",
        "      if T_arrivo < T_salida:                                  # Evento de arrivo\n",
        "          t = T_arrivo\n",
        "          N = N + 1.0\n",
        "          T_arrivo = t + expovariate(1.0/tpll)\n",
        "          if N == 1:\n",
        "              T_salida = t + expovariate(1.0/tps)\n",
        "      else:                                                    # Evento de salida\n",
        "          t = T_salida\n",
        "          N = N - 1.0\n",
        "          if N > 0:\n",
        "              T_salida = t + expovariate(1.0/tps)\n",
        "          else:\n",
        "              T_salida = Infinity\n",
        "\n",
        "  print('Número de clientes en el sistema= ', N)"
      ]
    },
    {
      "cell_type": "markdown",
      "metadata": {
        "id": "RiRYr4HKevoZ"
      },
      "source": [
        "## Recolección de datos de la simulación"
      ]
    },
    {
      "cell_type": "markdown",
      "metadata": {
        "id": "e-dSr-zQevoZ"
      },
      "source": [
        "El **rendimiento**, $\\tau$, de cuántos paquetes puede procesar el sistema en una unidad de tiempo; se define como la razón del número de salidas, $D$, dividido entre el tiempo total de la simulación. $T$.\n",
        "\n",
        "$$ \\tau = \\frac{D}{T} $$\n",
        "\n",
        "Se mide en paquetes/clientes por unidad de tiempo."
      ]
    },
    {
      "cell_type": "markdown",
      "metadata": {
        "id": "fORX-DRMevoa"
      },
      "source": [
        "La **utilización** es la proporción del tiempo de simulación durante el cual el servidor estuvo ocupado. Esto es el producto del rendimiento y el tiempo promedio de servicio por cliente/paquete.\n",
        "\n",
        "$$ U = \\tau T_s $$\n",
        "\n",
        "donde $T_s$ es el tiempo de servicio promedio por cliente/paquete:\n",
        "\n",
        "$$ T_s = \\frac{B}{D} $$\n",
        "\n",
        "donde $B$ es tiempo total en que el servidor estuvo ocupado:\n",
        "\n",
        "$$ B = \\sum_{i=1}^D T_i$$\n",
        "\n",
        "donde $T_i$ es el tiempo de servicio del cliente/paquete $i$."
      ]
    },
    {
      "cell_type": "markdown",
      "metadata": {
        "id": "B7-GsFFXevoa"
      },
      "source": [
        "El **tiempo de respuesta** o **retraso** es el tiempo total que un cliente/paquete pasa en el sistema; incluye el tiempo de espera (tiempo en la cola) y el tiempo de servicio.\n",
        "\n",
        "Si $W_i$ es el tiempo pasado en el sistema por el i-esimo cliente/paquete simulado, entonces el tiempo de respuesta promedio del sistema es:\n",
        "\n",
        "$$ W = \\frac{\\sum_{i=1}^D W_i}{D} $$\n",
        "\n",
        "Así, el número promedio de paquetes en el sistema puede ser calculado como:\n",
        "\n",
        "$$ L=\\tau \\cdot W $$"
      ]
    },
    {
      "cell_type": "markdown",
      "metadata": {
        "id": "YJMIuNqaevoa"
      },
      "source": [
        "### Estimación del tiempo promedio de respuesta del sistema"
      ]
    },
    {
      "cell_type": "code",
      "execution_count": null,
      "metadata": {
        "id": "-UjIxktXevoa"
      },
      "outputs": [],
      "source": [
        "from random import expovariate\n",
        "from statistics import mean\n",
        "from math import inf as Infinity"
      ]
    },
    {
      "cell_type": "code",
      "execution_count": null,
      "metadata": {
        "colab": {
          "base_uri": "https://localhost:8080/"
        },
        "id": "mNkvt95Fevoa",
        "outputId": "c22f6b11-4f8b-4e38-95dd-4ef1735420b3"
      },
      "outputs": [
        {
          "output_type": "stream",
          "name": "stdout",
          "text": [
            "Retraso promedio =  1.4251\n"
          ]
        }
      ],
      "source": [
        "# Parametros\n",
        "\n",
        "lamda = 1.3                         # Razón de arrivos (1/Lambda)  Ojo\n",
        "mu = 2.0                            # Razón de salida (1/Mu)       Ojo\n",
        "\n",
        "\n",
        "Num_Pkts = 100000                   # Numero de paquetes a simular\n",
        "#T = 100000\n",
        "count = 0                           # Contador de paquetes simulados\n",
        "t = 0\n",
        "N = 0                               # Variable de estado: numero de paquetes en el sistema\n",
        "\n",
        "tll = expovariate(lamda)            # Tiempo de llegada\n",
        "ts = Infinity                       # Tiempo de salida\n",
        "\n",
        "# Variables de salida\n",
        "tll_Data = []                       # Lista de tiempos de llegada\n",
        "ts_Data = []                        # Lista de tiempos de salida\n",
        "r_Data = []                         # Lista de retrasos individuales\n",
        "\n",
        "while count < Num_Pkts:\n",
        "#while t < T:\n",
        "    if tll < ts:                           # Evento de llegada\n",
        "        t = tll\n",
        "        tll_Data.append(t)\n",
        "        N = N + 1.0\n",
        "        tll = t + expovariate(lamda)\n",
        "        if N == 1:\n",
        "            ts = t + expovariate(mu)\n",
        "    else:                                         # Evento de salida\n",
        "        t = ts\n",
        "        ts_Data.append(t)\n",
        "        N = N - 1.0\n",
        "        count = count + 1                         # Paquetes simulados\n",
        "        if N > 0:\n",
        "            ts = t + expovariate(mu)\n",
        "        else:\n",
        "            ts = Infinity\n",
        "\n",
        "# Estimación del retraso promedio:\n",
        "\n",
        "for i in range(Num_Pkts):\n",
        "#for i in range(T):\n",
        "    d = ts_Data[i] - tll_Data[i]\n",
        "    r_Data.append(d)\n",
        "\n",
        "print( \"Retraso promedio = \", round( mean(r_Data), 4) )"
      ]
    },
    {
      "cell_type": "markdown",
      "metadata": {
        "id": "7idse0N7evoa"
      },
      "source": [
        "### Tarea: Graficar los datos de salida del código anterior"
      ]
    },
    {
      "cell_type": "code",
      "execution_count": null,
      "metadata": {
        "id": "to96krdPevoa"
      },
      "outputs": [],
      "source": [
        "def f(lamda = 1.3, mu = 2.0, Num_Pkts = 100000, rep = 10**3):\n",
        "  lr = []\n",
        "  l=[]\n",
        "  for i in range(rep):\n",
        "    count = 0                           # Contador de paquetes simulados\n",
        "    t = 0\n",
        "    N = 0                               # Variable de estado: numero de paquetes en el sistema\n",
        "\n",
        "    tll = expovariate(lamda)            # Tiempo de llegada\n",
        "    ts = Infinity                       # Tiempo de salida\n",
        "\n",
        "    tll_Data = []                       # Lista de tiempos de llegada\n",
        "    ts_Data = []                        # Lista de tiempos de salida\n",
        "    r_Data = []                         # Lista de retrasos individuales\n",
        "\n",
        "    while count < Num_Pkts:\n",
        "      if tll < ts:                           # Evento de llegada\n",
        "        t = tll\n",
        "        tll_Data.append(t)\n",
        "        N = N + 1.0\n",
        "        tll = t + expovariate(lamda)\n",
        "        if N == 1:\n",
        "            ts = t + expovariate(mu)\n",
        "      else:                                         # Evento de salida\n",
        "        t = ts\n",
        "        ts_Data.append(t)\n",
        "        N = N - 1.0\n",
        "        count = count + 1                         # Paquetes simulados\n",
        "        if N > 0:\n",
        "            ts = t + expovariate(mu)\n",
        "        else:\n",
        "            ts = Infinity\n",
        "\n",
        "    for i in range(Num_Pkts):\n",
        "      d = ts_Data[i] - tll_Data[i]\n",
        "      r_Data.append(d)\n",
        "    lr.append(mean(r_Data))\n",
        "    l.append(mean(lr))\n",
        "  return l, lr"
      ]
    },
    {
      "cell_type": "code",
      "execution_count": null,
      "metadata": {
        "colab": {
          "base_uri": "https://localhost:8080/",
          "height": 240
        },
        "id": "Z0RBjlWcevob",
        "outputId": "23b9d709-96d4-41b3-edce-5dcedb31899c"
      },
      "outputs": [
        {
          "output_type": "display_data",
          "data": {
            "text/plain": [
              "<Figure size 640x480 with 1 Axes>"
            ],
            "image/png": "[encoded data removed]"
          },
          "metadata": {}
        }
      ],
      "source": [
        "import matplotlib.pyplot as plt\n",
        "l, r = f(rep = 10**2)\n",
        "plt.plot(l)\n",
        "plt.show()"
      ]
    },
    {
      "cell_type": "markdown",
      "metadata": {
        "id": "ktk7gfpFevob"
      },
      "source": [
        "### Estimación del número promedio de clientes en el sistema\n",
        "\n",
        "\n"
      ]
    },
    {
      "cell_type": "markdown",
      "metadata": {
        "id": "pdth_dZ_evob"
      },
      "source": [
        "La variable de estado $N(t)$ representa el número de clientes/paquetes en el sistema al tiempo $t$, también designado con $L$ (verificar). Esta cantidad se puede calcular directamente como:\n",
        "\n",
        "$$\\mathbb{E}[N(t)] = \\frac{1}{T}\\int_0^T N(t) dt $$\n",
        "\n",
        "donde $T$ es el tiempo total de la simulación. Esta integral se puede interpretar geometricamente como el área de los escalones en la gráfica $N(t)$ vs $t$."
      ]
    },
    {
      "cell_type": "code",
      "execution_count": null,
      "metadata": {
        "colab": {
          "base_uri": "https://localhost:8080/"
        },
        "id": "H_G4DgByevob",
        "outputId": "277a3fc1-3c9e-4d19-922c-77aef629dc95"
      },
      "outputs": [
        {
          "output_type": "stream",
          "name": "stdout",
          "text": [
            "Retraso promedio = W =  0.5008\n",
            "E[ N(t)] = L =  2.0105\n"
          ]
        }
      ],
      "source": [
        "# Parametros\n",
        "\n",
        "lamda = 4.0                         # Razón de arrivos (1/Lambda)  Ojo\n",
        "mu = 6.0                            # Razón de salida (1/Mu)       Ojo\n",
        "\n",
        "\n",
        "Num_Pkts = 100000                   # Numero de paquetes a simular\n",
        "#T = 100000\n",
        "count = 0                           # Contador de paquetes simulados\n",
        "t = 0\n",
        "N = 0                               # Variable de estado: numero de paquetes en el sistema\n",
        "\n",
        "tll = expovariate(lamda)            # Tiempo de llegada\n",
        "ts = Infinity                       # Tiempo de salida\n",
        "\n",
        "t_evento_anterior = 0.0             # tiempo del último evento ****************Nuevas líneas de código***********\n",
        "\n",
        "\n",
        "# Variables de salida\n",
        "tll_Data = []                       # Lista de tiempos de llegada\n",
        "ts_Data = []                        # Lista de tiempos de salida\n",
        "r_Data = []                         # Lista de retrasos individuales\n",
        "Area = []                           # Area de escalón ***********************************************************\n",
        "\n",
        "\n",
        "while count < Num_Pkts:\n",
        "#while t < T:\n",
        "    if tll < ts:                           # Evento de llegada\n",
        "        t = tll\n",
        "        tll_Data.append(t)\n",
        "\n",
        "        # Area del escalón ***********************************************************************************\n",
        "        Area.append((t - t_evento_anterior)*N)\n",
        "        t_evento_anterior = t\n",
        "\n",
        "\n",
        "        N = N + 1.0\n",
        "        tll = t + expovariate(lamda)\n",
        "        if N == 1:\n",
        "            ts = t + expovariate(mu)\n",
        "    else:                                         # Evento de salida\n",
        "        t = ts\n",
        "        ts_Data.append(t)\n",
        "\n",
        "        # Area del escalón ***********************************************************************************\n",
        "        Area.append((t - t_evento_anterior)*N)\n",
        "        t_evento_anterior = t\n",
        "\n",
        "\n",
        "        N = N - 1.0\n",
        "        count = count + 1                         # Paquetes simulados\n",
        "        if N > 0:\n",
        "            ts = t + expovariate(mu)\n",
        "        else:\n",
        "            ts = Infinity\n",
        "\n",
        "# Estimación del retraso promedio:\n",
        "\n",
        "for i in range(Num_Pkts):\n",
        "#for i in range(T):\n",
        "    d = ts_Data[i] - tll_Data[i]\n",
        "    r_Data.append(d)\n",
        "\n",
        "print( \"Retraso promedio = W = \", round( mean(r_Data), 4) )\n",
        "print( \"E[ N(t)] = L = \", round(sum(Area)/t, 4))"
      ]
    },
    {
      "cell_type": "markdown",
      "metadata": {
        "id": "lWzbcGVJevob"
      },
      "source": [
        "### Ejemplo:"
      ]
    },
    {
      "cell_type": "markdown",
      "metadata": {
        "id": "-OM_xUCAevob"
      },
      "source": [
        "Lavado Automata para automóviles funciona sólo con un lugar. Los autos llegan siguiendo\n",
        "una distribución de Poisson, con 4 autos por hora, que pueden esperar en el estacionamiento de\n",
        "la instalación, si el lugar de lavado está ocupado. El tiempo para lavar y limpiar un automóvil\n",
        "es exponencial, con 10 minutos de promedio. Los automóviles que no se pueden estacionar en\n",
        "la instalación pueden esperar en el arrollo junto al lavado. Eso quiere decir que para todo fin\n",
        "práctico no hay límite del tamaño del sistema. El gerente de la instalación desea determinar el\n",
        "tamaño del estacionamiento.\n",
        "\n",
        "Para resolver este problema, hay que determinar $L_q$, pero de momento estimemos $L$ y $W$ usando la simulación."
      ]
    },
    {
      "cell_type": "code",
      "execution_count": null,
      "metadata": {
        "id": "xcQExC7oevoc"
      },
      "outputs": [],
      "source": [
        "import numpy as np\n",
        "from random import random\n",
        "from numba import jit\n",
        "import matplotlib.pyplot as plt"
      ]
    },
    {
      "cell_type": "code",
      "execution_count": null,
      "metadata": {
        "id": "aJJvjm95evoc"
      },
      "outputs": [],
      "source": [
        "@jit(nopython = True)\n",
        "def g(lamb = 4, mu = 6, no_pkts = 10**4, rep = 10**5):\n",
        "  R_L, R_W = [], []\n",
        "  L, W = [], []\n",
        "  for i in range(rep):\n",
        "    n, t, N = 0, 0, 0\n",
        "\n",
        "    tll = -np.log(random())/lamb\n",
        "    ts = np.inf\n",
        "\n",
        "    l, w = 0, 0\n",
        "    llegadas, salidas = [], []\n",
        "\n",
        "    while n < no_pkts:\n",
        "      ta = t\n",
        "      if tll < ts:\n",
        "        t = tll\n",
        "        llegadas.append(t)\n",
        "        N = N + 1.0\n",
        "        tll = t - np.log(random())/lamb\n",
        "        if N == 1:\n",
        "            ts = t - np.log(random())/mu\n",
        "      else:\n",
        "        t = ts\n",
        "        salidas.append(t)\n",
        "        N = N - 1.0\n",
        "        n = n + 1\n",
        "        if N > 0:\n",
        "            ts = t - np.log(random())/mu\n",
        "        else:\n",
        "            ts = Infinity\n",
        "      l += N * (t - ta)\n",
        "    w = np.array(salidas) - np.array(llegadas[:no_pkts])\n",
        "    L.append(l)\n",
        "    W.append(sum(w)/no_pkts)\n",
        "    R_L.append(sum(L)/(i+1))\n",
        "    R_W.append(sum(W)/(i+1))\n",
        "  return R_L, R_W"
      ]
    },
    {
      "cell_type": "code",
      "execution_count": null,
      "metadata": {
        "colab": {
          "base_uri": "https://localhost:8080/",
          "height": 503
        },
        "id": "WjpeOslWJ3Gi",
        "outputId": "49e358f5-1dfc-4e74-c79f-4b819240379f"
      },
      "outputs": [
        {
          "output_type": "stream",
          "name": "stdout",
          "text": [
            "Retraso promedio = W = 0.5002\n",
            "E[ N(t)] = L = 5503.0413\n"
          ]
        },
        {
          "output_type": "display_data",
          "data": {
            "text/plain": [
              "<Figure size 640x480 with 1 Axes>"
            ],
            "image/png": "[encoded data removed]"
          },
          "metadata": {}
        },
        {
          "output_type": "display_data",
          "data": {
            "text/plain": [
              "<Figure size 640x480 with 1 Axes>"
            ],
            "image/png": "[encoded data removed]"
          },
          "metadata": {}
        }
      ],
      "source": [
        "l, w = g(rep = 7 * 10**3)\n",
        "\n",
        "print( f\"Retraso promedio = W = {round(w[-1], 4)}\" )\n",
        "print( f\"E[ N(t)] = L = {round(l[-1], 4)}\" )\n",
        "\n",
        "plt.plot(l, color = 'pink')\n",
        "plt.xlabel('Repeticiones')\n",
        "plt.ylabel('Número medio de clientes en el sistema')\n",
        "plt.show()\n",
        "plt.plot(w, color = 'cyan')\n",
        "plt.xlabel('Repeticiones')\n",
        "plt.ylabel('Retraso promedio')\n",
        "plt.show()"
      ]
    },
    {
      "cell_type": "markdown",
      "metadata": {
        "id": "vKIwKu2Vevoc"
      },
      "source": [
        "### Ejercicios:\n",
        "\n",
        "Calcular $L_q$ para el ejemplo anterior, usando las fórmulas de arriba."
      ]
    },
    {
      "cell_type": "code",
      "execution_count": null,
      "metadata": {
        "colab": {
          "base_uri": "https://localhost:8080/"
        },
        "id": "Drp_HZonevoc",
        "outputId": "bc3a917d-93a9-45fa-d6d1-dd26e25b15cd"
      },
      "outputs": [
        {
          "output_type": "stream",
          "name": "stdout",
          "text": [
            "L = 1.9999999999999996\n",
            "W = 0.4999999999999999\n",
            "L_q = 1.333333333333333\n",
            "W_q = 0.33333333333333326\n"
          ]
        }
      ],
      "source": [
        "lamb = 4\n",
        "mu = 6\n",
        "rho = lamb/mu\n",
        "n= 10**6\n",
        "\n",
        "L = 0\n",
        "for i in range(n):\n",
        "  L += i * (1 - rho) * rho**i\n",
        "\n",
        "print(f\"L = {L}\")\n",
        "print(f'W = {L/lamb}')\n",
        "\n",
        "print(f\"L_q = {L - lamb/mu}\")\n",
        "print(f'W_q = {L/lamb - 1/mu}')"
      ]
    },
    {
      "cell_type": "code",
      "execution_count": null,
      "metadata": {
        "colab": {
          "base_uri": "https://localhost:8080/"
        },
        "id": "mFaUy2_DUQRD",
        "outputId": "e7d0262d-f30f-46ce-b9d4-947253a8fdaf"
      },
      "outputs": [
        {
          "output_type": "stream",
          "name": "stdout",
          "text": [
            "L_q = 1.333333333333333\n"
          ]
        }
      ],
      "source": [
        "lamb = 4\n",
        "mu = 6\n",
        "rho = lamb/mu\n",
        "\n",
        "print(f\"L_q = {rho**2/(1-rho)}\")"
      ]
    },
    {
      "cell_type": "markdown",
      "metadata": {
        "id": "euN5d95mUdSN"
      },
      "source": [
        "**Nota:** $l_q = \\frac{ρ^2}{1-ρ}$ y $W_q = \\frac{ρ}{μ(1 - ρ)}$"
      ]
    },
    {
      "cell_type": "markdown",
      "metadata": {
        "id": "f6X-xZ9devoc"
      },
      "source": [
        "\n",
        "En una estación con un solo servidor llegan en promedio 45 clientes por hora. Se tiene capacidad para atender\n",
        "en promedio a 60 clientes por hora. Se sabe que los clientes esperan en promedio 3 minutos en la cola.\n",
        "Se solicita determinar:\n",
        "* Tiempo promedio que un cliente pasa en el sistema.\n",
        "* Número promedio de clientes en la cola.\n",
        "* Número promedio de clientes en el Sistema en un momento dado.\n",
        "\n",
        "Use la simulación para responder y luego verifique los resultados usando las fórmulas de arriba."
      ]
    },
    {
      "cell_type": "code",
      "execution_count": null,
      "metadata": {
        "id": "m5Ne2Ql1VTQ4"
      },
      "outputs": [],
      "source": [
        "@jit(nopython = True)\n",
        "def h(lamb = 4, mu = 6, T = 72, rep = 10**5):\n",
        "  R_L, R_W, R_C = [], [], []\n",
        "  L, W, C = [], [], []\n",
        "  for i in range(rep):\n",
        "    n, t, N = 0, 0, 0\n",
        "\n",
        "    tll = -np.log(random())/lamb\n",
        "    ts = np.inf\n",
        "\n",
        "    l, w = 0, 0\n",
        "    llegadas, salidas = [], []\n",
        "    c = []\n",
        "\n",
        "    while t < T:\n",
        "      ta = t\n",
        "      if tll < ts:\n",
        "        t = tll\n",
        "        llegadas.append(t)\n",
        "        N = N + 1.0\n",
        "        tll = t - np.log(random())/lamb\n",
        "        if N == 1:\n",
        "            ts = t - np.log(random())/mu\n",
        "      else:\n",
        "        t = ts\n",
        "        salidas.append(t)\n",
        "        N = N - 1.0\n",
        "        n = n + 1\n",
        "        if N > 0:\n",
        "            ts = t - np.log(random())/mu\n",
        "        else:\n",
        "            ts = Infinity\n",
        "      l += N * (t - ta)\n",
        "\n",
        "      if N > 1:\n",
        "        c.append(N-1)\n",
        "      else:\n",
        "        c.append(0)\n",
        "\n",
        "\n",
        "    no_pkts = len(salidas)\n",
        "    w = np.array(salidas) - np.array(llegadas[:no_pkts])\n",
        "    L.append(l)\n",
        "    W.append(sum(w)/no_pkts)\n",
        "    C.append(sum(c)/len(c))\n",
        "    R_L.append(sum(L)/(i+1))\n",
        "    R_W.append(sum(W)/(i+1))\n",
        "    R_C.append(sum(C)/(i+1))\n",
        "  return R_L, R_W, R_C"
      ]
    },
    {
      "cell_type": "code",
      "execution_count": null,
      "metadata": {
        "colab": {
          "base_uri": "https://localhost:8080/"
        },
        "id": "VsU745Gtevoc",
        "outputId": "1edd26bf-1983-414f-b0b5-3e8cc13a75a9"
      },
      "outputs": [
        {
          "output_type": "stream",
          "name": "stdout",
          "text": [
            "Tiempo promedio en cola: 3 minutos\n",
            "313.824397213724 0.06649628503621456 2.6168946163287226\n"
          ]
        }
      ],
      "source": [
        "l = 45 # clientes/hora\n",
        "m = 60 # clientes/hora\n",
        "r = l/m\n",
        "print(f'Tiempo promedio en cola: {int(60 * r/(m*(1-r)))} minutos')\n",
        "T = 100\n",
        "a, b, c = h(l, m, T, 10**4)\n",
        "print(a[-1], b[-1], c[-1])"
      ]
    },
    {
      "cell_type": "markdown",
      "metadata": {
        "id": "vTQWLHY-evod"
      },
      "source": [
        "Podemos determinar la probabilidad de que en cierto tiempo haya exactamente $k$ clientes/paquetes en el sistema.\n",
        "\n",
        "$$\\mathbb{P}[N=k]$$\n"
      ]
    },
    {
      "cell_type": "code",
      "execution_count": null,
      "metadata": {
        "id": "LJgbI9FLevod"
      },
      "outputs": [],
      "source": [
        "from random import expovariate, random\n",
        "from statistics import mean\n",
        "from math import inf as Infinity\n",
        "from random import seed\n",
        "from matplotlib.pyplot import *\n",
        "from numba import jit"
      ]
    },
    {
      "cell_type": "code",
      "execution_count": null,
      "metadata": {
        "id": "0SdZ_LQtevod",
        "colab": {
          "base_uri": "https://localhost:8080/"
        },
        "outputId": "ab42eac3-6777-4daa-95cd-4164e1c3d1d0"
      },
      "outputs": [
        {
          "output_type": "stream",
          "name": "stdout",
          "text": [
            "Retraso promedio =  0.4916\n",
            "Suma de probabilidades = 0.9999999999999999\n",
            "0 0.333\n",
            "1.0 0.2248\n",
            "2.0 0.1484\n",
            "3.0 0.0998\n",
            "4.0 0.0653\n",
            "5.0 0.044\n",
            "6.0 0.0288\n",
            "7.0 0.0194\n",
            "8.0 0.0126\n",
            "9.0 0.0085\n",
            "10.0 0.0054\n",
            "11.0 0.0036\n",
            "12.0 0.0024\n",
            "13.0 0.0017\n",
            "14.0 0.0011\n",
            "15.0 0.0006\n",
            "16.0 0.0003\n",
            "17.0 0.0002\n",
            "18.0 0.0002\n",
            "19.0 0.0001\n",
            "20.0 0.0\n",
            "21.0 0.0\n",
            "E[N] =  1.970392385952472\n"
          ]
        }
      ],
      "source": [
        "# Parametros\n",
        "\n",
        "lamda = 4.0                         # Razón de arrivos (1/Lambda)  Ojo\n",
        "mu = 6.0                            # Razón de salida (1/Mu)       Ojo\n",
        "\n",
        "\n",
        "Num_Pkts = 100000                   # Numero de paquetes a simular\n",
        "#T = 100000\n",
        "count = 0                           # Contador de paquetes simulados\n",
        "t = 0\n",
        "N = 0                               # Variable de estado: numero de paquetes en el sistema\n",
        "\n",
        "tll = expovariate(lamda)            # Tiempo de llegada\n",
        "ts = Infinity                       # Tiempo de salida\n",
        "t_evento_anterior = 0.0             # tiempo del último evento ****************Nuevas líneas de código***********\n",
        "\n",
        "# Variables de salida\n",
        "tll_Data = []                       # Lista de tiempos de llegada\n",
        "ts_Data = []                        # Lista de tiempos de salida\n",
        "r_Data = []                         # Lista de retrasos individuales\n",
        "\n",
        "Data = {}                           # Diccionario *****************************************************************\n",
        "\n",
        "while count < Num_Pkts:\n",
        "#while t < T:\n",
        "    if tll < ts:                           # Evento de llegada\n",
        "        t = tll\n",
        "\n",
        "        # longitud del intervalo entre llegadas *********************************************************************\n",
        "        delta = t - t_evento_anterior\n",
        "        if N in Data:\n",
        "            Data[N] += delta\n",
        "        else:\n",
        "            Data[N] = delta\n",
        "        t_evento_anterior = t\n",
        "\n",
        "        tll_Data.append(t)\n",
        "        N = N + 1.0\n",
        "        tll = t + expovariate(lamda)\n",
        "        if N == 1:\n",
        "            ts = t + expovariate(mu)\n",
        "    else:                                         # Evento de salida\n",
        "        t = ts\n",
        "\n",
        "        # Longitud del intervalo de tiempo **************************************************************************\n",
        "        delta = t - t_evento_anterior\n",
        "        if N in Data:\n",
        "            Data[N] += delta\n",
        "        else:\n",
        "            Data[N] = delta\n",
        "        t_evento_anterior = t\n",
        "\n",
        "        ts_Data.append(t)\n",
        "        N = N - 1.0\n",
        "        count = count + 1                         # Paquetes simulados\n",
        "        if N > 0:\n",
        "            ts = t + expovariate(mu)\n",
        "        else:\n",
        "            ts = Infinity\n",
        "\n",
        "##################################### se procesan los datos de salida ########################################\n",
        "\n",
        "# Estimación del retraso promedio:\n",
        "\n",
        "for i in range(Num_Pkts):\n",
        "#for i in range(T):\n",
        "    d = ts_Data[i] - tll_Data[i]\n",
        "    r_Data.append(d)\n",
        "\n",
        "print( \"Retraso promedio = \", round( mean(r_Data), 4) )\n",
        "\n",
        "# Estimación de la probabilidad de P(N=k):\n",
        "for (key, value) in Data.items():\n",
        "    Data[key] = value/t\n",
        "\n",
        "# Se verifica que la probabilidad total es 1.0\n",
        "\n",
        "print('Suma de probabilidades =', sum(Data.values()))\n",
        "\n",
        "# Se verifican los valores de expectación\n",
        "media = 0.0\n",
        "\n",
        "for (key, value) in Data.items():\n",
        "    media = media + key*value\n",
        "    print(key, round(value, 4))\n",
        "print('E[N] = ', media)"
      ]
    },
    {
      "cell_type": "markdown",
      "metadata": {
        "id": "REfKITMievoe"
      },
      "source": [
        "### Tarea:\n",
        "\n",
        "Convierta los códigos anteriores para determinar W, L y P(N=k) en una función y usela para resolver los ejercicios propuestos (más tarde por classroom)"
      ]
    },
    {
      "cell_type": "code",
      "execution_count": null,
      "metadata": {
        "id": "uoupBYrgTnpW"
      },
      "outputs": [],
      "source": [
        "@jit(nopython = True)\n",
        "def paq(lamb = 4, mu = 6, no_pkts = 10000, rep = 10**2):\n",
        "  lw, lp = [], []\n",
        "  for i in range(rep):\n",
        "    cont = 0\n",
        "    t = 0\n",
        "    p = 0\n",
        "    ta = 0\n",
        "\n",
        "    tll = -np.log(random()) / lamb\n",
        "    ts = np.inf\n",
        "\n",
        "    #Listas de salida\n",
        "    l_ll = []\n",
        "    l_s = []\n",
        "    diccionario_no_diccionario = []\n",
        "\n",
        "    while cont < no_pkts:\n",
        "      ta = t\n",
        "      if tll < ts:    # Evento: LLEGADA\n",
        "        t = tll\n",
        "        try:\n",
        "          diccionario_no_diccionario[p] += t - ta\n",
        "        except:\n",
        "          diccionario_no_diccionario.append(t - ta)\n",
        "        l_ll.append(t)\n",
        "        p += 1\n",
        "        tll = t - np.log(random()) / lamb\n",
        "        if p == 1:\n",
        "          ts = t - np.log(random()) / mu\n",
        "\n",
        "      else:           # Evento: SALIDA\n",
        "        t = ts\n",
        "        l_s.append(t)\n",
        "        try:\n",
        "          diccionario_no_diccionario[p] += t - ta\n",
        "        except:\n",
        "          diccionario_no_diccionario.append(t - ta)\n",
        "        p -= 1\n",
        "        cont += 1\n",
        "        if p >= 1:\n",
        "          ts = t - np.log(random()) / mu\n",
        "        else:\n",
        "          ts = np.inf\n",
        "\n",
        "    lw.append((np.array(l_s) - np.array(l_ll[:no_pkts])) / no_pkts)\n",
        "    lp.append(np.array(diccionario_no_diccionario) / sum(diccionario_no_diccionario))\n",
        "  return lp, lw"
      ]
    },
    {
      "cell_type": "code",
      "execution_count": null,
      "metadata": {
        "colab": {
          "base_uri": "https://localhost:8080/"
        },
        "id": "ycFWrV6nYKKB",
        "outputId": "c13ebc49-9866-4f92-deca-17780997e395"
      },
      "outputs": [
        {
          "output_type": "stream",
          "name": "stdout",
          "text": [
            "Tiempo de retrasos promedio = 4.948944695032654e-05\n",
            "\n",
            "P(N=0) = 0.33709\n",
            "P(N=1) = 0.22298\n",
            "P(N=2) = 0.14838\n",
            "P(N=3) = 0.09822\n",
            "P(N=4) = 0.06485\n",
            "P(N=5) = 0.04303\n",
            "P(N=6) = 0.02851\n",
            "P(N=7) = 0.01904\n",
            "P(N=8) = 0.01255\n",
            "P(N=9) = 0.00836\n",
            "P(N=10) = 0.00554\n",
            "P(N=11) = 0.00368\n",
            "P(N=12) = 0.00244\n",
            "P(N=13) = 0.00171\n",
            "E[N] = 1.91627\n"
          ]
        }
      ],
      "source": [
        "p, r = paq()\n",
        "print(f'Tiempo de retrasos promedio = {np.mean(r)}\\n')\n",
        "l = []\n",
        "numero_magico = 14\n",
        "for k in range(numero_magico):\n",
        "  s = []\n",
        "  for i in range(len(p)):\n",
        "    s.append(p[i][k])\n",
        "  l.append(np.mean(s))\n",
        "for k in range(len(l)):\n",
        "  print(f'P(N={k}) = {round(l[k], 5)}')\n",
        "\n",
        "print(f\"E[N] = {round(sum(l * np.arange(numero_magico)), 5)}\")"
      ]
    },
    {
      "cell_type": "code",
      "execution_count": null,
      "metadata": {
        "id": "5Hm6XuN9evof"
      },
      "outputs": [],
      "source": [
        "from random import expovariate\n",
        "from statistics import mean, pstdev\n",
        "from math import inf as Infinity\n",
        "from random import seed\n",
        "from matplotlib.pyplot import *\n",
        "from time import time"
      ]
    },
    {
      "cell_type": "markdown",
      "metadata": {
        "id": "Dq6v3NtZevof"
      },
      "source": [
        "Convertimos el código para estimar el tiempo de respuesta del sistema o retraso promedio en una función mm1_W de tres parámetros, que nos devuelve el retraso promedio W. Observar que la salida es un número: el promedio de los datos guardados en r_Data."
      ]
    },
    {
      "cell_type": "code",
      "execution_count": null,
      "metadata": {
        "id": "h3iFZSzrevof"
      },
      "outputs": [],
      "source": [
        "def mm1_W(lamda, mu, Num_Pkts):\n",
        "    #Num_Pkts = 100000                   # Numero de paquetes a simular\n",
        "    #T = 100000\n",
        "    count = 0                           # Contador de paquetes simulados\n",
        "    t = 0\n",
        "    N = 0                               # Variable de estado: numero de paquetes en el sistema\n",
        "\n",
        "    tll = expovariate(lamda)            # Tiempo de llegada\n",
        "    ts = Infinity                       # Tiempo de salida\n",
        "\n",
        "    # Variables de salida\n",
        "    tll_Data = []                       # Lista de tiempos de llegada\n",
        "    ts_Data = []                        # Lista de tiempos de salida\n",
        "    r_Data = []                         # Lista de retrasos individuales\n",
        "\n",
        "    while count < Num_Pkts:\n",
        "    #while t < T:\n",
        "        if tll < ts:                           # Evento de llegada\n",
        "            t = tll\n",
        "            tll_Data.append(t)\n",
        "            N = N + 1.0\n",
        "            tll = t + expovariate(lamda)\n",
        "            if N == 1:\n",
        "                ts = t + expovariate(mu)\n",
        "        else:                                         # Evento de salida\n",
        "            t = ts\n",
        "            ts_Data.append(t)\n",
        "            N = N - 1.0\n",
        "            count = count + 1                         # Paquetes simulados\n",
        "            if N > 0:\n",
        "                ts = t + expovariate(mu)\n",
        "            else:\n",
        "                ts = Infinity\n",
        "\n",
        "    # Estimación del retraso promedio:\n",
        "\n",
        "    for i in range(Num_Pkts):\n",
        "    #for i in range(T):\n",
        "        d = ts_Data[i] - tll_Data[i]\n",
        "        r_Data.append(d)\n",
        "\n",
        "    return mean(r_Data)"
      ]
    },
    {
      "cell_type": "markdown",
      "metadata": {
        "id": "JWmsib5wevog"
      },
      "source": [
        "Comprobamos que nuestro programa funciona correctamente."
      ]
    },
    {
      "cell_type": "code",
      "execution_count": null,
      "metadata": {
        "id": "2qGkqn5Vevog",
        "colab": {
          "base_uri": "https://localhost:8080/"
        },
        "outputId": "4860cf99-296e-4576-81ab-d2f80f2fab03"
      },
      "outputs": [
        {
          "output_type": "execute_result",
          "data": {
            "text/plain": [
              "0.4539051026518409"
            ]
          },
          "metadata": {},
          "execution_count": 27
        }
      ],
      "source": [
        "mm1_W(4.0,6.0,100)"
      ]
    },
    {
      "cell_type": "code",
      "source": [
        "a,b = g(4.0, 6.0, 100, 10**5)\n",
        "print(f'No. medio de clientes en el sistema: {a[-1]}')\n",
        "print(f'Retraso promedio: {b[-1]}')"
      ],
      "metadata": {
        "id": "8RpRLW7p0eoc",
        "colab": {
          "base_uri": "https://localhost:8080/"
        },
        "outputId": "8d38adbb-6e38-443a-b0bd-72e09cb4ccaf"
      },
      "execution_count": null,
      "outputs": [
        {
          "output_type": "stream",
          "name": "stdout",
          "text": [
            "No. medio de clientes en el sistema: 53.49309302494034\n",
            "Retraso promedio: 0.46989411218359606\n"
          ]
        }
      ]
    },
    {
      "cell_type": "markdown",
      "metadata": {
        "id": "kmT3u2Oeevog"
      },
      "source": [
        "Ahora podemos meter la función en un bucle y analizar visualmente la variabilidad de los resultados que se obtienen al repetir muchas veces el experimento."
      ]
    },
    {
      "cell_type": "code",
      "execution_count": null,
      "metadata": {
        "id": "Rdrv4B-Levog",
        "colab": {
          "base_uri": "https://localhost:8080/",
          "height": 232
        },
        "outputId": "9de9e282-6dd6-415d-ea99-d4011b623654"
      },
      "outputs": [
        {
          "output_type": "display_data",
          "data": {
            "text/plain": [
              "<Figure size 1600x800 with 1 Axes>"
            ],
            "image/png": "[encoded data removed]"
          },
          "metadata": {}
        },
        {
          "output_type": "stream",
          "name": "stdout",
          "text": [
            "Retraso promedio W =  0.5029\n",
            "Con un error de = 0.0917\n",
            "W está entre: 0.4113 y 0.5946\n"
          ]
        }
      ],
      "source": [
        "lamda = 4.0\n",
        "mu = 6.0\n",
        "\n",
        "\n",
        "Num_Rep = 100                       # Numero de repeticiones\n",
        "Delay = []                          # Lista de resultados para el retraso promedio W\n",
        "\n",
        "for i in range(Num_Rep):\n",
        "    seed()\n",
        "    d = mm1_W(lamda, mu,1000)\n",
        "    Delay.append(d)\n",
        "\n",
        "# Estimación del promedio de las repeticiones\n",
        "\n",
        "fig = figure(1, figsize=(16,8))\n",
        "plot(Delay, linewidth=2, label='W')\n",
        "axhline(y=mean(Delay), color='red',label='W promedio')\n",
        "axhline(y=mean(Delay) + pstdev(Delay), color='green')\n",
        "axhline(y=mean(Delay) - pstdev(Delay), color='green')\n",
        "title(\"Estimación de W\", color = 'red')\n",
        "xlabel('Número de experimentos')\n",
        "ylabel('W (hrs)')\n",
        "legend()\n",
        "show()\n",
        "\n",
        "\n",
        "print(\"Retraso promedio W = \" , round( mean(Delay), 4) )\n",
        "print(\"Con un error de =\", round(pstdev(Delay), 4))\n",
        "print(\"W está entre:\" , round(mean(Delay) - pstdev(Delay), 4), \"y\", round(mean(Delay) + pstdev(Delay), 4) )"
      ]
    },
    {
      "cell_type": "markdown",
      "metadata": {
        "id": "FUXFe7vHevog"
      },
      "source": [
        "Surgen de manera natural algunas preguntas:\n",
        "\n",
        "* ¿Cuántos experimentos debemos realizar antes de reportar un resultado?\n",
        "* ¿De qué manera depende el resultado de los experimentos del tiempo total/número de paquetes simulados?\n",
        "* ¿Cómo construir y mejorar el intervalo de confianza de nuestros resultados?"
      ]
    },
    {
      "cell_type": "markdown",
      "metadata": {
        "id": "OQ8I7Zr5evog"
      },
      "source": [
        "## Estado transitorio y estado estable"
      ]
    },
    {
      "cell_type": "markdown",
      "metadata": {
        "id": "RJNQeUsYevog"
      },
      "source": [
        "Usaremos la misma función mm1_W pero ahora pediremos que devuelva la lista de datos completos, no solamente la media."
      ]
    },
    {
      "cell_type": "code",
      "execution_count": null,
      "metadata": {
        "id": "Y2p8ssgAevoh"
      },
      "outputs": [],
      "source": [
        "def mm1_W(lamda, mu, Num_Pkts):\n",
        "    #Num_Pkts = 100000                   # Numero de paquetes a simular\n",
        "    #T = 100000\n",
        "    count = 0                           # Contador de paquetes simulados\n",
        "    t = 0\n",
        "    N = 0                               # Variable de estado: numero de paquetes en el sistema\n",
        "\n",
        "    tll = expovariate(lamda)            # Tiempo de llegada\n",
        "    ts = Infinity                       # Tiempo de salida\n",
        "\n",
        "    # Variables de salida\n",
        "    tll_Data = []                       # Lista de tiempos de llegada\n",
        "    ts_Data = []                        # Lista de tiempos de salida\n",
        "    r_Data = []                         # Lista de retrasos individuales\n",
        "\n",
        "    while count < Num_Pkts:\n",
        "    #while t < T:\n",
        "        if tll < ts:                           # Evento de llegada\n",
        "            t = tll\n",
        "            tll_Data.append(t)\n",
        "            N = N + 1.0\n",
        "            tll = t + expovariate(lamda)\n",
        "            if N == 1:\n",
        "                ts = t + expovariate(mu)\n",
        "        else:                                         # Evento de salida\n",
        "            t = ts\n",
        "            ts_Data.append(t)\n",
        "            N = N - 1.0\n",
        "            count = count + 1                         # Paquetes simulados\n",
        "            if N > 0:\n",
        "                ts = t + expovariate(mu)\n",
        "            else:\n",
        "                ts = Infinity\n",
        "\n",
        "    # Estimación del retraso promedio:\n",
        "\n",
        "    for i in range(Num_Pkts):\n",
        "    #for i in range(T):\n",
        "        d = ts_Data[i] - tll_Data[i]\n",
        "        r_Data.append(d)\n",
        "\n",
        "    return r_Data"
      ]
    },
    {
      "cell_type": "markdown",
      "metadata": {
        "id": "T8sjz2xJevoh"
      },
      "source": [
        "Ahora definiremos una nueva función que ejecuté mm1_W y vaya actualizando los promedios de las salidas."
      ]
    },
    {
      "cell_type": "code",
      "execution_count": null,
      "metadata": {
        "id": "NEBYCQh-evoh"
      },
      "outputs": [],
      "source": [
        "def mm1_W_cum(lamda, mu, Num_Pkts):\n",
        "    Delay = mm1_W(lamda, mu, Num_Pkts)\n",
        "    Delay_Cum = []\n",
        "    for i in range(Num_Pkts):\n",
        "        Delay_Cum.append( sum(Delay[0:i+1])/(i+1) )\n",
        "\n",
        "    return Delay_Cum"
      ]
    },
    {
      "cell_type": "markdown",
      "metadata": {
        "id": "Pj-hDP0Gevoh"
      },
      "source": [
        "Esto nos permitirá implementar un método sencillo para determinar visulmente un punto de división entre los estados transitorio y estable."
      ]
    },
    {
      "cell_type": "markdown",
      "metadata": {
        "id": "HDmUNBrkevoh"
      },
      "source": [
        "### Método de Welch"
      ]
    },
    {
      "cell_type": "markdown",
      "metadata": {
        "id": "MU6hnoZ-evoh"
      },
      "source": [
        "1. Para cada variable de salida correr la simulación al menos 5 veces, cada una de tamaño $m$.\n",
        "\n",
        "2. Calcular el promedio $Z$ de las realizaciones del paso 1.\n",
        "\n",
        "3. Graficar la secuencia $Z$.\n",
        "\n",
        "4. Elija el punto de corte. En el estado estable la gráfica de $Z$ es plana."
      ]
    },
    {
      "cell_type": "code",
      "execution_count": null,
      "metadata": {
        "id": "qay0tBogevoh",
        "colab": {
          "base_uri": "https://localhost:8080/",
          "height": 417
        },
        "outputId": "353e3cb7-3ee9-4421-8e70-93f6d6291038"
      },
      "outputs": [
        {
          "output_type": "stream",
          "name": "stderr",
          "text": [
            "<ipython-input-40-b495511fdbbb>:21: UserWarning: color is redundantly defined by the 'color' keyword argument and the fmt string \"k--\" (-> color='k'). The keyword argument will take precedence.\n",
            "  plot(Y[0], \"k--\", label=\"Y[0]\", color='blue')\n",
            "<ipython-input-40-b495511fdbbb>:22: UserWarning: color is redundantly defined by the 'color' keyword argument and the fmt string \"k--\" (-> color='k'). The keyword argument will take precedence.\n",
            "  plot(Y[1], \"k--\", label=\"Y[1]\", color='green')\n",
            "<ipython-input-40-b495511fdbbb>:23: UserWarning: color is redundantly defined by the 'color' keyword argument and the fmt string \"k--\" (-> color='k'). The keyword argument will take precedence.\n",
            "  plot(Y[2], \"k--\", label=\"Y[2]\", color='red')\n",
            "<ipython-input-40-b495511fdbbb>:24: UserWarning: color is redundantly defined by the 'color' keyword argument and the fmt string \"k--\" (-> color='k'). The keyword argument will take precedence.\n",
            "  plot(Y[3], \"k--\", label=\"Y[3]\", color='magenta')\n",
            "<ipython-input-40-b495511fdbbb>:25: UserWarning: color is redundantly defined by the 'color' keyword argument and the fmt string \"k--\" (-> color='k'). The keyword argument will take precedence.\n",
            "  plot(Y[4], \"k--\", label=\"Y[4]\", color='cyan')\n"
          ]
        },
        {
          "output_type": "display_data",
          "data": {
            "text/plain": [
              "<Figure size 1200x800 with 1 Axes>"
            ],
            "image/png": "[encoded data removed]"
          },
          "metadata": {}
        }
      ],
      "source": [
        "lamda = 4.0\n",
        "mu = 6.0\n",
        "\n",
        "n = 10000                         # Número de clientes/paquetes simulados\n",
        "R = 5                             # Número de repeticiones\n",
        "\n",
        "Y =  np.zeros( shape = (R, n) )   # Variable de salida W\n",
        "\n",
        "# Generamos las muestras/repeticiones\n",
        "for i in range(R):\n",
        "    seed()\n",
        "    Y[i] = mm1_W_cum(lamda, mu, n)\n",
        "\n",
        "# Calculamos la media\n",
        "Z = []\n",
        "for i in range(n):\n",
        "    Z.append( sum(Y[:,i]) / R )\n",
        "\n",
        "# Graficamos Y y Z\n",
        "fig = figure(1, figsize=(12, 8))\n",
        "plot(Y[0], \"k--\", label=\"Y[0]\", color='blue')\n",
        "plot(Y[1], \"k--\", label=\"Y[1]\", color='green')\n",
        "plot(Y[2], \"k--\", label=\"Y[2]\", color='red')\n",
        "plot(Y[3], \"k--\", label=\"Y[3]\", color='magenta')\n",
        "plot(Y[4], \"k--\", label=\"Y[4]\", color='cyan')\n",
        "plot(Z, \"k\", linewidth=2, label=\"Z\")\n",
        "\n",
        "\n",
        "xlabel(\"$n$\", size=16)\n",
        "ylabel(\"$W_{cum}$\", size=16)\n",
        "legend(loc='upper right', shadow=True)\n",
        "\n",
        "plt.axvline(2000)\n",
        "show()"
      ]
    },
    {
      "cell_type": "markdown",
      "metadata": {
        "id": "xS8u9xrUevoi"
      },
      "source": [
        "### Ejercicio (01/04/22):\n",
        "\n",
        "Elija el punto de corte, agregue las líneas de código necesarias para graficar una línea vertical y rotular el punto de corte."
      ]
    },
    {
      "cell_type": "markdown",
      "metadata": {
        "id": "XZHWSGoRevoi"
      },
      "source": [
        "### Tarea:\n",
        "\n",
        "Determinar los puntos de corte para la función que nos da $L$."
      ]
    },
    {
      "cell_type": "code",
      "source": [
        "def f(lamda = 1.3, mu = 2.0, Num_Pkts = 100000, rep = 10**3):\n",
        "  lr = []\n",
        "  l=[]\n",
        "  for i in range(rep):\n",
        "    count = 0                           # Contador de paquetes simulados\n",
        "    t = 0\n",
        "    N = 0                               # Variable de estado: numero de paquetes en el sistema\n",
        "\n",
        "    tll = expovariate(lamda)            # Tiempo de llegada\n",
        "    ts = Infinity                       # Tiempo de salida\n",
        "\n",
        "    li= []\n",
        "\n",
        "    while count < Num_Pkts:\n",
        "      if tll < ts:                           # Evento de llegada\n",
        "        t = tll\n",
        "        tll_Data.append(t)\n",
        "        N = N + 1.0\n",
        "        tll = t + expovariate(lamda)\n",
        "        if N == 1:\n",
        "            ts = t + expovariate(mu)\n",
        "      else:                                         # Evento de salida\n",
        "        t = ts\n",
        "        ts_Data.append(t)\n",
        "        N = N - 1.0\n",
        "        count = count + 1                         # Paquetes simulados\n",
        "        if N > 0:\n",
        "            ts = t + expovariate(mu)\n",
        "        else:\n",
        "            ts = Infinity\n",
        "\n",
        "    for i in range(Num_Pkts):\n",
        "      d = ts_Data[i] - tll_Data[i]\n",
        "      r_Data.append(d)\n",
        "    lr.append(mean(r_Data))\n",
        "    l.append(mean(lr))\n",
        "  return l, lr"
      ],
      "metadata": {
        "id": "xa92j_O4yn-U"
      },
      "execution_count": null,
      "outputs": []
    },
    {
      "cell_type": "code",
      "execution_count": null,
      "metadata": {
        "id": "CwNJo2BQevoi"
      },
      "outputs": [],
      "source": [
        "lamda = 4.0\n",
        "mu = 6.0\n",
        "\n",
        "n = 10000                         # Número de clientes/paquetes simulados\n",
        "R = 5                             # Número de repeticiones\n",
        "\n",
        "Y =  np.zeros( shape = (R, n) )   # Variable de salida W\n",
        "\n",
        "# Generamos las muestras/repeticiones\n",
        "for i in range(R):\n",
        "    seed()\n",
        "    Y[i] = g(lamda, mu, n, R"
      ]
    }
  ],
  "metadata": {
    "colab": {
      "provenance": [],
      "include_colab_link": true
    },
    "kernelspec": {
      "display_name": "Python 3",
      "language": "python",
      "name": "python3"
    },
    "language_info": {
      "codemirror_mode": {
        "name": "ipython",
        "version": 3
      },
      "file_extension": ".py",
      "mimetype": "text/x-python",
      "name": "python",
      "nbconvert_exporter": "python",
      "pygments_lexer": "ipython3",
      "version": "3.7.3"
    }
  },
  "nbformat": 4,
  "nbformat_minor": 0
}