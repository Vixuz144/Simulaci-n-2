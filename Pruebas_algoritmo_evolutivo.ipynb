{
  "nbformat": 4,
  "nbformat_minor": 0,
  "metadata": {
    "colab": {
      "provenance": [],
      "authorship_tag": "ABX9TyNeQEv7e7o7cjqw+FrhKXRv",
      "include_colab_link": true
    },
    "kernelspec": {
      "name": "python3",
      "display_name": "Python 3"
    },
    "language_info": {
      "name": "python"
    }
  },
  "cells": [
    {
      "cell_type": "markdown",
      "metadata": {
        "id": "view-in-github",
        "colab_type": "text"
      },
      "source": [
        "<a href=\"https://colab.research.google.com/github/Vixuz144/Simulaci-n-2/blob/main/Pruebas_algoritmo_evolutivo.ipynb\" target=\"_parent\"><img src=\"https://colab.research.google.com/assets/colab-badge.svg\" alt=\"Open In Colab\"/></a>"
      ]
    },
    {
      "cell_type": "code",
      "execution_count": null,
      "metadata": {
        "id": "6qb-rJCikEjQ"
      },
      "outputs": [],
      "source": [
        "import numpy as np\n",
        "from random import random, randint"
      ]
    },
    {
      "cell_type": "code",
      "source": [
        "def cruza_pareja(l1, l2, prob = [1/3, 2/3]):\n",
        "  l1, l2 = np.array(l1), np.array(l2)\n",
        "  n = len(l1)\n",
        "\n",
        "  nl = []\n",
        "  for p in prob:\n",
        "    nl.append(p*l1 + (1-p)*l2)\n",
        "  return np.array(nl)"
      ],
      "metadata": {
        "id": "SBH0Hp03kKwh"
      },
      "execution_count": null,
      "outputs": []
    },
    {
      "cell_type": "markdown",
      "source": [
        "Lo que diferencia a cada version de \"cruza_poblacion\" es el como empareja a la población para su recombinación"
      ],
      "metadata": {
        "id": "H_1SN-ZFOLFf"
      }
    },
    {
      "cell_type": "code",
      "source": [
        "def cruza_poblacion_v1(poblacion, prob = [1/3, 2/3]):\n",
        "  p = np.array(poblacion)\n",
        "  n = len(p[0,:])\n",
        "  r = np.random.random((2,n))\n",
        "  par = np.argsort(r,axis = 1)\n",
        "  padres = p[:,par[0,:]]\n",
        "  madres = p[:,par[1,:]]\n",
        "  for p in prob:\n",
        "    try:\n",
        "      hijos = np.append(hijos, p*madres + (1-p)*padres, axis = 1)\n",
        "    except:\n",
        "      hijos = p*madres + (1-p)*padres\n",
        "  return hijos"
      ],
      "metadata": {
        "id": "n1Gv6nHsIasq"
      },
      "execution_count": null,
      "outputs": []
    },
    {
      "cell_type": "code",
      "source": [
        "def cruza_poblacion_v2(poblacion, prob = [1/3, 2/3]):\n",
        "  p = np.array(poblacion)\n",
        "  n = len(p[0,:])\n",
        "  r = np.random.random(n)\n",
        "  r1 = np.argsort(r)\n",
        "  r2 = []\n",
        "  for i in r1:\n",
        "    r = np.pi\n",
        "    while r != i:\n",
        "      r = randint(0,n-1)\n",
        "    r2.append(r)\n",
        "  r2 = np.array(r2)\n",
        "  padres = p[:,r1]\n",
        "  madres = p[:,r2]\n",
        "\n",
        "  for p in prob:\n",
        "    try:\n",
        "      hijos = np.hstack((hijos, p*madres + (1-p)*padres))\n",
        "    except:\n",
        "      hijos = p*madres + (1-p)*padres\n",
        "  return hijos"
      ],
      "metadata": {
        "id": "HPjIusnRN-Z1"
      },
      "execution_count": null,
      "outputs": []
    },
    {
      "cell_type": "code",
      "source": [
        "def cruza_poblacion_v3(poblacion, prob = [1/3, 2/3]):\n",
        "  p = np.array(poblacion)\n",
        "  n = len(p[0,:])\n",
        "  r = np.random.random(n)\n",
        "  r1 = np.argsort(r)\n",
        "  r2 = r1[-1:n:1]\n",
        "  padres = p[:,r1]\n",
        "  madres = p[:,r2]\n",
        "\n",
        "  for p in prob:\n",
        "    try:\n",
        "      hijos = np.append(hijos, p*madres + (1-p)*padres, axis = 1)\n",
        "    except:\n",
        "      hijos = p*madres + (1-p)*padres\n",
        "  return hijos"
      ],
      "metadata": {
        "id": "DFoSoprmRPbY"
      },
      "execution_count": null,
      "outputs": []
    },
    {
      "cell_type": "markdown",
      "source": [
        "Hay muchas maneras de mutar a un individuo. Dos de las que se  me ocurrieron son las siguientes:"
      ],
      "metadata": {
        "id": "ux_CnGUQOYO_"
      }
    },
    {
      "cell_type": "code",
      "source": [
        "def mutacion_suma(l = np.array([1/4, 1/4, 1/4, 1/4]), intensidad = 0.1):\n",
        "  n = len(l)\n",
        "  r = randint(0,n-1)\n",
        "  for i in range(n):\n",
        "    if i == r:\n",
        "      nl = l - intensidad\n",
        "      nl[i] += intensidad*n\n",
        "  return nl"
      ],
      "metadata": {
        "id": "yOFUYnF1kKoi"
      },
      "execution_count": null,
      "outputs": []
    },
    {
      "cell_type": "code",
      "source": [
        "def mutacion_promedio(l = np.array([1/4, 1/4, 1/4, 1/4]), pond = 1/2):\n",
        "  l = np.array(l)\n",
        "  n = len(l)\n",
        "  p = np.random.random(n)\n",
        "  l = l[list(np.argsort(p))]\n",
        "  nl = []\n",
        "  for i in range(n):\n",
        "    nl.append(l[i]*pond + l[i-1]*(1-pond))\n",
        "  return np.array(nl)"
      ],
      "metadata": {
        "id": "aUlmpZQEkKsx"
      },
      "execution_count": null,
      "outputs": []
    },
    {
      "cell_type": "markdown",
      "source": [
        "Pruebas"
      ],
      "metadata": {
        "id": "DdBL0eWtOjFZ"
      }
    },
    {
      "cell_type": "code",
      "source": [
        "l = np.array([0.1, 0.2, 0.3, 0.4])\n",
        "a = np.array([0.3, 0.3, 0.3, 0.1])\n",
        "\n",
        "nl = cruza_pareja(a,l, [0.1, 0.9, 0.5])\n",
        "print(nl)\n",
        "\n",
        "k = 1\n",
        "nl[k] = mutacion_suma(nl[k],10)\n",
        "print(nl)\n",
        "\n",
        "j = 0\n",
        "nl[j] = mutacion_promedio(nl[j],0.5)\n",
        "print(nl)"
      ],
      "metadata": {
        "colab": {
          "base_uri": "https://localhost:8080/"
        },
        "id": "BgAt7DmakQC4",
        "outputId": "c4bdf2f7-9a01-48dc-e06e-b9dfe777020c"
      },
      "execution_count": null,
      "outputs": [
        {
          "output_type": "stream",
          "name": "stdout",
          "text": [
            "[[0.12 0.21 0.3  0.37]\n",
            " [0.28 0.29 0.3  0.13]\n",
            " [0.2  0.25 0.3  0.25]]\n",
            "[[ 0.12  0.21  0.3   0.37]\n",
            " [-9.72 -9.71 30.3  -9.87]\n",
            " [ 0.2   0.25  0.3   0.25]]\n",
            "[[ 0.165  0.29   0.335  0.21 ]\n",
            " [-9.72  -9.71  30.3   -9.87 ]\n",
            " [ 0.2    0.25   0.3    0.25 ]]\n"
          ]
        }
      ]
    },
    {
      "cell_type": "code",
      "source": [
        "def seleccion(lista_participantes, n_ganadores, f_evaluacion, min = False):\n",
        "  l = np.array(lista_participantes)\n",
        "  puntuacion = f_evaluacion(l)\n",
        "  if min:\n",
        "    ind = np.argsort(puntuacion)[:n_ganadores]\n",
        "  else:\n",
        "    ind = np.argsort(-puntuacion)[:n_ganadores]\n",
        "\n",
        "  #print(ind)\n",
        "  ganadores = l[:,ind]\n",
        "  puntuacion = puntuacion[ind]\n",
        "  return ganadores, puntuacion"
      ],
      "metadata": {
        "id": "D7TwMc7VnHbR"
      },
      "execution_count": null,
      "outputs": []
    },
    {
      "cell_type": "markdown",
      "source": [
        "***EL CODIGO***"
      ],
      "metadata": {
        "id": "LVpftvweOnAe"
      }
    },
    {
      "cell_type": "code",
      "source": [
        "# población inicia, tamaño de selección, funcion, probabilidad de mutación, número de generaciones\n",
        "def alg_evol(p0, tam, func, pm, no_gen):\n",
        "  mej_gen = []\n",
        "  punt = []\n",
        "  p, s = seleccion(p0, tam, func, min = True)\n",
        "  for i in range(no_gen):\n",
        "    p, s = seleccion(p, tam, func, min = True)\n",
        "    mej_gen.append(p[:,0].tolist())\n",
        "    punt.append(s[0])\n",
        "\n",
        "    p_nva = cruza_poblacion_v1(p, np.arange(0.1,0.9, 0.5))\n",
        "    n = len(p_nva[0,:])\n",
        "    # print(n)\n",
        "    for i in range(n):\n",
        "      r = random()\n",
        "      if r < pm:\n",
        "        p_nva[:,i] = mutacion_suma(p_nva[:,i], 0.1)\n",
        "    p = p_nva\n",
        "\n",
        "  return mej_gen, punt"
      ],
      "metadata": {
        "id": "ZcWnJ9lRpxig"
      },
      "execution_count": null,
      "outputs": []
    },
    {
      "cell_type": "markdown",
      "source": [
        "Función:\n",
        "$$ f(x_1, x_2, x_3, ..., x_n) = x_1^2 + x_2^2 + x_3^2 + ... + x_n^2 $$"
      ],
      "metadata": {
        "id": "Y6fxyA4POv7G"
      }
    },
    {
      "cell_type": "code",
      "source": [
        "def f_prueba(x):\n",
        "  a = np.array(x)\n",
        "  return sum(a**2)"
      ],
      "metadata": {
        "id": "_HhEJJ5TqbTi"
      },
      "execution_count": null,
      "outputs": []
    },
    {
      "cell_type": "code",
      "source": [
        "a = np.array([[1,2],[3,4]])\n",
        "print(f_prueba(a))\n",
        "b = np.append(a,a,1)\n",
        "print(np.append(b,a,1))"
      ],
      "metadata": {
        "colab": {
          "base_uri": "https://localhost:8080/"
        },
        "id": "vU6lqK6n57yw",
        "outputId": "0ea98655-a8f0-4b20-ec2f-cd356ae81e8f"
      },
      "execution_count": null,
      "outputs": [
        {
          "output_type": "stream",
          "name": "stdout",
          "text": [
            "[10 20]\n",
            "[[1 2 1 2 1 2]\n",
            " [3 4 3 4 3 4]]\n"
          ]
        }
      ]
    },
    {
      "cell_type": "code",
      "source": [
        "n = 10000                                             #Tamaño de la población\n",
        "p0 = 2 * np.random.random((8,n)) - 1                  #Se genera una población aleatoria\n",
        "#print(p0)\n",
        "sol, feval = alg_evol(p0, 1000, f_prueba, 0.001, 100)\n",
        "# print(sol, '\\n')\n",
        "\n",
        "print(feval[0])     #El puntaje del mejor individuo de la primera generación\n",
        "print(feval[-1])    #El puntaje del mejor individuo de la última generación\n",
        "print(min(feval))   #El puntaje del mejor individuo de todas las generaciones"
      ],
      "metadata": {
        "colab": {
          "base_uri": "https://localhost:8080/"
        },
        "id": "4AB3SeBPrRJI",
        "outputId": "dbd3f9bf-aec5-4f58-eb9e-5b0ccad29780"
      },
      "execution_count": null,
      "outputs": [
        {
          "output_type": "stream",
          "name": "stdout",
          "text": [
            "0.30775820698854023\n",
            "1.0261711826793093e-08\n",
            "8.95003836109415e-09\n"
          ]
        }
      ]
    }
  ]
}