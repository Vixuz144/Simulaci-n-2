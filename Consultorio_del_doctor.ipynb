{
  "nbformat": 4,
  "nbformat_minor": 0,
  "metadata": {
    "colab": {
      "provenance": [],
      "authorship_tag": "ABX9TyP/k3t1LuesTc6xxO9+McBh",
      "include_colab_link": true
    },
    "kernelspec": {
      "name": "python3",
      "display_name": "Python 3"
    },
    "language_info": {
      "name": "python"
    }
  },
  "cells": [
    {
      "cell_type": "markdown",
      "metadata": {
        "id": "view-in-github",
        "colab_type": "text"
      },
      "source": [
        "<a href=\"https://colab.research.google.com/github/Vixuz144/Simulaci-n-2/blob/main/Consultorio_del_doctor.ipynb\" target=\"_parent\"><img src=\"https://colab.research.google.com/assets/colab-badge.svg\" alt=\"Open In Colab\"/></a>"
      ]
    },
    {
      "cell_type": "markdown",
      "source": [
        "#Problema de lineas de espera"
      ],
      "metadata": {
        "id": "rSeBiIt8wfl8"
      }
    },
    {
      "cell_type": "markdown",
      "source": [
        "Se desea encontrar el número de pacientes promedio en el consultorio de un doctor, para ello se realizan observaciones cada 5 minutos y se registraron en la tabla.\n",
        "\n",
        "|   || 0 | 1 | 2 | 3 | 4 |\n",
        "|---||---|---|---|---|---|\n",
        "| 0 || 3 | 5 | 2 | 0 | 0 |\n",
        "| 1 || 8 | 7 | 0 | 1 | 4 |\n",
        "| 2 || 5 | 5 | 5 | 5 | 5 |\n",
        "| 3 || 5 | 0 | 10 | 0 | 0 |\n",
        "| 4 || 1 | 0 | 0 | 0 | 1 |"
      ],
      "metadata": {
        "id": "CEQ_M9cUu39j"
      }
    },
    {
      "cell_type": "code",
      "execution_count": 35,
      "metadata": {
        "id": "i3FK9NfGovzm"
      },
      "outputs": [],
      "source": [
        "import numpy as np\n",
        "from random import random, randint\n",
        "from numba import jit\n",
        "import matplotlib.pyplot as plt\n",
        "from scipy.stats import norm"
      ]
    },
    {
      "cell_type": "markdown",
      "source": [
        "#Solución analítica"
      ],
      "metadata": {
        "id": "2wVt_lUywYNt"
      }
    },
    {
      "cell_type": "code",
      "source": [
        "A = np.array([[3/10, 1/2, 1/5, 0, 0],\n",
        "              [2/5, 7/20, 0, 1/20, 1/5],\n",
        "              [0.2, 0.2, 0.2, 0.2, 0.2],\n",
        "              [1/3, 0, 2/3, 0, 0],\n",
        "              [0.5, 0, 0, 0, 0.5]])"
      ],
      "metadata": {
        "id": "q7Fhk1QPw0mv"
      },
      "execution_count": 36,
      "outputs": []
    },
    {
      "cell_type": "code",
      "source": [
        "c = True\n",
        "n = 1\n",
        "while c:\n",
        "  a = np.linalg.matrix_power(A, n)\n",
        "  aa = np.linalg.matrix_power(A, n+1)\n",
        "  c = not np.allclose(a, aa)\n",
        "  n += 1\n",
        "\n",
        "print(n, '\\n')\n",
        "print(aa)\n",
        "\n",
        "b = [0, 1, 2, 3, 4]\n",
        "print()\n",
        "print(f\"El número de pacientes promedio en el consultorio es: {np.dot(b,aa[1])}\")"
      ],
      "metadata": {
        "colab": {
          "base_uri": "https://localhost:8080/"
        },
        "id": "_PQdjifCo19d",
        "outputId": "ba8f34f7-247a-4810-8785-f373ceb2b947"
      },
      "execution_count": 37,
      "outputs": [
        {
          "output_type": "stream",
          "name": "stdout",
          "text": [
            "15 \n",
            "\n",
            "[[0.35476716 0.31042123 0.12195127 0.03991133 0.17294901]\n",
            " [0.35476721 0.31042136 0.12195115 0.03991128 0.17294899]\n",
            " [0.3547671  0.31042108 0.1219514  0.03991138 0.17294903]\n",
            " [0.35476701 0.31042088 0.1219516  0.03991146 0.17294906]\n",
            " [0.35476728 0.31042151 0.12195101 0.03991123 0.17294898]]\n",
            "\n",
            "El número de pacientes promedio en el consultorio es: 1.3658534812298906\n"
          ]
        }
      ]
    },
    {
      "cell_type": "markdown",
      "source": [
        "#Solución Simulada"
      ],
      "metadata": {
        "id": "khKYRsYDwbzL"
      }
    },
    {
      "cell_type": "code",
      "source": [
        "@jit(nopython = True)\n",
        "def consultorio(n = 10**6):\n",
        "  p = 0\n",
        "  l = [p]\n",
        "  n = 10**6\n",
        "  for k in range(n):\n",
        "    b = A[p]\n",
        "    r = random()\n",
        "    i = 0\n",
        "    s = b[i]\n",
        "    while s < r:\n",
        "      i+=1\n",
        "      s += b[i]\n",
        "    p = i\n",
        "    l.append(p)\n",
        "  return l"
      ],
      "metadata": {
        "id": "bjKDX4yYxODI"
      },
      "execution_count": 38,
      "outputs": []
    },
    {
      "cell_type": "code",
      "source": [
        "n = 10**8\n",
        "l = consultorio(n)\n",
        "print(f\"El número de pacientes promedio en el consultorio es: {np.mean(l)}\")\n",
        "plt.style.use('dark_background')\n",
        "plt.hist(l, bins = 20, density = True, color = 'purple', edgecolor = 'w')\n",
        "plt.show()\n",
        "\n",
        "# plt.style.use('dark_background')\n",
        "plt.plot(np.sort(l), color = 'gray')\n",
        "plt.show()"
      ],
      "metadata": {
        "colab": {
          "base_uri": "https://localhost:8080/",
          "height": 879
        },
        "id": "S2uG6RIrtapE",
        "outputId": "5a5ae444-ad8e-485f-e52c-3be3d15336f7"
      },
      "execution_count": 39,
      "outputs": [
        {
          "output_type": "stream",
          "name": "stdout",
          "text": [
            "El número de pacientes promedio en el consultorio es: 1.3677246322753678\n"
          ]
        },
        {
          "output_type": "display_data",
          "data": {
            "text/plain": [
              "<Figure size 640x480 with 1 Axes>"
            ],
            "image/png": "[encoded data removed]"
          },
          "metadata": {}
        },
        {
          "output_type": "display_data",
          "data": {
            "text/plain": [
              "<Figure size 640x480 with 1 Axes>"
            ],
            "image/png": "[encoded data removed]"
          },
          "metadata": {}
        }
      ]
    },
    {
      "cell_type": "code",
      "source": [
        "med = np.mean(l)\n",
        "desv = np.std(l, ddof = 1)\n",
        "z = norm.ppf(0.975)\n",
        "print(z)\n",
        "print(f'Un intervalo de confianza al 95% es [{med - z*desv/np.sqrt(n)},{med + z*desv/np.sqrt(n)}]')"
      ],
      "metadata": {
        "colab": {
          "base_uri": "https://localhost:8080/"
        },
        "id": "Bs7nf85bzotI",
        "outputId": "a3c1344d-5385-4df9-a04d-04a017bfabf1"
      },
      "execution_count": 40,
      "outputs": [
        {
          "output_type": "stream",
          "name": "stdout",
          "text": [
            "1.959963984540054\n",
            "Un intervalo de confianza al 95% es [1.3674431455900748,1.3680061189606607]\n"
          ]
        }
      ]
    }
  ]
}