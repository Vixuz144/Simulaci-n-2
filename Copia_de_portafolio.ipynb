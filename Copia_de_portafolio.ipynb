{
  "cells": [
    {
      "cell_type": "markdown",
      "metadata": {
        "id": "view-in-github",
        "colab_type": "text"
      },
      "source": [
        "<a href=\"https://colab.research.google.com/github/Vixuz144/Simulaci-n-2/blob/main/Copia_de_portafolio.ipynb\" target=\"_parent\"><img src=\"https://colab.research.google.com/assets/colab-badge.svg\" alt=\"Open In Colab\"/></a>"
      ]
    },
    {
      "cell_type": "code",
      "execution_count": 1,
      "metadata": {
        "id": "6wBFRmA38OuX"
      },
      "outputs": [],
      "source": [
        "import numpy as np\n",
        "import pandas as pd\n",
        "import yfinance as yf\n",
        "import matplotlib.pyplot as plt\n",
        "import datetime"
      ]
    },
    {
      "cell_type": "code",
      "execution_count": 2,
      "metadata": {
        "id": "Pps2S2k58OuY",
        "colab": {
          "base_uri": "https://localhost:8080/"
        },
        "outputId": "a82b9000-ddaa-4a50-a6ff-1ce9c620c53b"
      },
      "outputs": [
        {
          "output_type": "stream",
          "name": "stderr",
          "text": [
            "[*********************100%%**********************]  1 of 1 completed\n",
            "[*********************100%%**********************]  1 of 1 completed\n",
            "[*********************100%%**********************]  1 of 1 completed\n",
            "[*********************100%%**********************]  1 of 1 completed\n"
          ]
        }
      ],
      "source": [
        "tickers = ['PG', 'MSFT', 'F', 'GE']\n",
        "start = datetime.datetime(2010,1,1)\n",
        "end = datetime.datetime(2024,1,1)\n",
        "mydata = pd.DataFrame()\n",
        "for t in tickers:\n",
        "    mydata[t] = yf.download(t, start=start, end=end)['Adj Close']"
      ]
    },
    {
      "cell_type": "code",
      "execution_count": 3,
      "metadata": {
        "id": "enlw7ivo8OuZ",
        "colab": {
          "base_uri": "https://localhost:8080/"
        },
        "outputId": "a431d443-e245-42b5-90f2-3b7babb34938"
      },
      "outputs": [
        {
          "output_type": "stream",
          "name": "stdout",
          "text": [
            "<class 'pandas.core.frame.DataFrame'>\n",
            "DatetimeIndex: 3522 entries, 2010-01-04 to 2023-12-29\n",
            "Data columns (total 4 columns):\n",
            " #   Column  Non-Null Count  Dtype  \n",
            "---  ------  --------------  -----  \n",
            " 0   PG      3522 non-null   float64\n",
            " 1   MSFT    3522 non-null   float64\n",
            " 2   F       3522 non-null   float64\n",
            " 3   GE      3522 non-null   float64\n",
            "dtypes: float64(4)\n",
            "memory usage: 137.6 KB\n"
          ]
        }
      ],
      "source": [
        "mydata.info()"
      ]
    },
    {
      "cell_type": "code",
      "execution_count": 4,
      "metadata": {
        "id": "-Bqldu5Z8OuZ",
        "colab": {
          "base_uri": "https://localhost:8080/",
          "height": 237
        },
        "outputId": "e79da425-e87a-4ddc-9d88-f2e78dec93dc"
      },
      "outputs": [
        {
          "output_type": "execute_result",
          "data": {
            "text/plain": [
              "                   PG       MSFT         F         GE\n",
              "Date                                                 \n",
              "2010-01-04  39.902405  23.389399  5.846006  50.052280\n",
              "2010-01-05  39.915455  23.396957  6.232706  50.311428\n",
              "2010-01-06  39.726147  23.253368  6.465865  50.052280\n",
              "2010-01-07  39.510693  23.011543  6.630783  52.643970\n",
              "2010-01-08  39.458466  23.170242  6.647838  53.777840"
            ],
            "text/html": [
              "\n",
              "  <div id=\"df-02421655-7f32-41b2-96c0-80d69cbb3436\" class=\"colab-df-container\">\n",
              "    <div>\n",
              "<style scoped>\n",
              "    .dataframe tbody tr th:only-of-type {\n",
              "        vertical-align: middle;\n",
              "    }\n",
              "\n",
              "    .dataframe tbody tr th {\n",
              "        vertical-align: top;\n",
              "    }\n",
              "\n",
              "    .dataframe thead th {\n",
              "        text-align: right;\n",
              "    }\n",
              "</style>\n",
              "<table border=\"1\" class=\"dataframe\">\n",
              "  <thead>\n",
              "    <tr style=\"text-align: right;\">\n",
              "      <th></th>\n",
              "      <th>PG</th>\n",
              "      <th>MSFT</th>\n",
              "      <th>F</th>\n",
              "      <th>GE</th>\n",
              "    </tr>\n",
              "    <tr>\n",
              "      <th>Date</th>\n",
              "      <th></th>\n",
              "      <th></th>\n",
              "      <th></th>\n",
              "      <th></th>\n",
              "    </tr>\n",
              "  </thead>\n",
              "  <tbody>\n",
              "    <tr>\n",
              "      <th>2010-01-04</th>\n",
              "      <td>39.902405</td>\n",
              "      <td>23.389399</td>\n",
              "      <td>5.846006</td>\n",
              "      <td>50.052280</td>\n",
              "    </tr>\n",
              "    <tr>\n",
              "      <th>2010-01-05</th>\n",
              "      <td>39.915455</td>\n",
              "      <td>23.396957</td>\n",
              "      <td>6.232706</td>\n",
              "      <td>50.311428</td>\n",
              "    </tr>\n",
              "    <tr>\n",
              "      <th>2010-01-06</th>\n",
              "      <td>39.726147</td>\n",
              "      <td>23.253368</td>\n",
              "      <td>6.465865</td>\n",
              "      <td>50.052280</td>\n",
              "    </tr>\n",
              "    <tr>\n",
              "      <th>2010-01-07</th>\n",
              "      <td>39.510693</td>\n",
              "      <td>23.011543</td>\n",
              "      <td>6.630783</td>\n",
              "      <td>52.643970</td>\n",
              "    </tr>\n",
              "    <tr>\n",
              "      <th>2010-01-08</th>\n",
              "      <td>39.458466</td>\n",
              "      <td>23.170242</td>\n",
              "      <td>6.647838</td>\n",
              "      <td>53.777840</td>\n",
              "    </tr>\n",
              "  </tbody>\n",
              "</table>\n",
              "</div>\n",
              "    <div class=\"colab-df-buttons\">\n",
              "\n",
              "  <div class=\"colab-df-container\">\n",
              "    <button class=\"colab-df-convert\" onclick=\"convertToInteractive('df-02421655-7f32-41b2-96c0-80d69cbb3436')\"\n",
              "            title=\"Convert this dataframe to an interactive table.\"\n",
              "            style=\"display:none;\">\n",
              "\n",
              "  <svg xmlns=\"http://www.w3.org/2000/svg\" height=\"24px\" viewBox=\"0 -960 960 960\">\n",
              "    <path d=\"M120-120v-720h720v720H120Zm60-500h600v-160H180v160Zm220 220h160v-160H400v160Zm0 220h160v-160H400v160ZM180-400h160v-160H180v160Zm440 0h160v-160H620v160ZM180-180h160v-160H180v160Zm440 0h160v-160H620v160Z\"/>\n",
              "  </svg>\n",
              "    </button>\n",
              "\n",
              "  <style>\n",
              "    .colab-df-container {\n",
              "      display:flex;\n",
              "      gap: 12px;\n",
              "    }\n",
              "\n",
              "    .colab-df-convert {\n",
              "      background-color: #E8F0FE;\n",
              "      border: none;\n",
              "      border-radius: 50%;\n",
              "      cursor: pointer;\n",
              "      display: none;\n",
              "      fill: #1967D2;\n",
              "      height: 32px;\n",
              "      padding: 0 0 0 0;\n",
              "      width: 32px;\n",
              "    }\n",
              "\n",
              "    .colab-df-convert:hover {\n",
              "      background-color: #E2EBFA;\n",
              "      box-shadow: 0px 1px 2px rgba(60, 64, 67, 0.3), 0px 1px 3px 1px rgba(60, 64, 67, 0.15);\n",
              "      fill: #174EA6;\n",
              "    }\n",
              "\n",
              "    .colab-df-buttons div {\n",
              "      margin-bottom: 4px;\n",
              "    }\n",
              "\n",
              "    [theme=dark] .colab-df-convert {\n",
              "      background-color: #3B4455;\n",
              "      fill: #D2E3FC;\n",
              "    }\n",
              "\n",
              "    [theme=dark] .colab-df-convert:hover {\n",
              "      background-color: #434B5C;\n",
              "      box-shadow: 0px 1px 3px 1px rgba(0, 0, 0, 0.15);\n",
              "      filter: drop-shadow(0px 1px 2px rgba(0, 0, 0, 0.3));\n",
              "      fill: #FFFFFF;\n",
              "    }\n",
              "  </style>\n",
              "\n",
              "    <script>\n",
              "      const buttonEl =\n",
              "        document.querySelector('#df-02421655-7f32-41b2-96c0-80d69cbb3436 button.colab-df-convert');\n",
              "      buttonEl.style.display =\n",
              "        google.colab.kernel.accessAllowed ? 'block' : 'none';\n",
              "\n",
              "      async function convertToInteractive(key) {\n",
              "        const element = document.querySelector('#df-02421655-7f32-41b2-96c0-80d69cbb3436');\n",
              "        const dataTable =\n",
              "          await google.colab.kernel.invokeFunction('convertToInteractive',\n",
              "                                                    [key], {});\n",
              "        if (!dataTable) return;\n",
              "\n",
              "        const docLinkHtml = 'Like what you see? Visit the ' +\n",
              "          '<a target=\"_blank\" href=https://colab.research.google.com/notebooks/data_table.ipynb>data table notebook</a>'\n",
              "          + ' to learn more about interactive tables.';\n",
              "        element.innerHTML = '';\n",
              "        dataTable['output_type'] = 'display_data';\n",
              "        await google.colab.output.renderOutput(dataTable, element);\n",
              "        const docLink = document.createElement('div');\n",
              "        docLink.innerHTML = docLinkHtml;\n",
              "        element.appendChild(docLink);\n",
              "      }\n",
              "    </script>\n",
              "  </div>\n",
              "\n",
              "\n",
              "<div id=\"df-85548280-d395-4712-87cc-067178fbeb0d\">\n",
              "  <button class=\"colab-df-quickchart\" onclick=\"quickchart('df-85548280-d395-4712-87cc-067178fbeb0d')\"\n",
              "            title=\"Suggest charts\"\n",
              "            style=\"display:none;\">\n",
              "\n",
              "<svg xmlns=\"http://www.w3.org/2000/svg\" height=\"24px\"viewBox=\"0 0 24 24\"\n",
              "     width=\"24px\">\n",
              "    <g>\n",
              "        <path d=\"M19 3H5c-1.1 0-2 .9-2 2v14c0 1.1.9 2 2 2h14c1.1 0 2-.9 2-2V5c0-1.1-.9-2-2-2zM9 17H7v-7h2v7zm4 0h-2V7h2v10zm4 0h-2v-4h2v4z\"/>\n",
              "    </g>\n",
              "</svg>\n",
              "  </button>\n",
              "\n",
              "<style>\n",
              "  .colab-df-quickchart {\n",
              "      --bg-color: #E8F0FE;\n",
              "      --fill-color: #1967D2;\n",
              "      --hover-bg-color: #E2EBFA;\n",
              "      --hover-fill-color: #174EA6;\n",
              "      --disabled-fill-color: #AAA;\n",
              "      --disabled-bg-color: #DDD;\n",
              "  }\n",
              "\n",
              "  [theme=dark] .colab-df-quickchart {\n",
              "      --bg-color: #3B4455;\n",
              "      --fill-color: #D2E3FC;\n",
              "      --hover-bg-color: #434B5C;\n",
              "      --hover-fill-color: #FFFFFF;\n",
              "      --disabled-bg-color: #3B4455;\n",
              "      --disabled-fill-color: #666;\n",
              "  }\n",
              "\n",
              "  .colab-df-quickchart {\n",
              "    background-color: var(--bg-color);\n",
              "    border: none;\n",
              "    border-radius: 50%;\n",
              "    cursor: pointer;\n",
              "    display: none;\n",
              "    fill: var(--fill-color);\n",
              "    height: 32px;\n",
              "    padding: 0;\n",
              "    width: 32px;\n",
              "  }\n",
              "\n",
              "  .colab-df-quickchart:hover {\n",
              "    background-color: var(--hover-bg-color);\n",
              "    box-shadow: 0 1px 2px rgba(60, 64, 67, 0.3), 0 1px 3px 1px rgba(60, 64, 67, 0.15);\n",
              "    fill: var(--button-hover-fill-color);\n",
              "  }\n",
              "\n",
              "  .colab-df-quickchart-complete:disabled,\n",
              "  .colab-df-quickchart-complete:disabled:hover {\n",
              "    background-color: var(--disabled-bg-color);\n",
              "    fill: var(--disabled-fill-color);\n",
              "    box-shadow: none;\n",
              "  }\n",
              "\n",
              "  .colab-df-spinner {\n",
              "    border: 2px solid var(--fill-color);\n",
              "    border-color: transparent;\n",
              "    border-bottom-color: var(--fill-color);\n",
              "    animation:\n",
              "      spin 1s steps(1) infinite;\n",
              "  }\n",
              "\n",
              "  @keyframes spin {\n",
              "    0% {\n",
              "      border-color: transparent;\n",
              "      border-bottom-color: var(--fill-color);\n",
              "      border-left-color: var(--fill-color);\n",
              "    }\n",
              "    20% {\n",
              "      border-color: transparent;\n",
              "      border-left-color: var(--fill-color);\n",
              "      border-top-color: var(--fill-color);\n",
              "    }\n",
              "    30% {\n",
              "      border-color: transparent;\n",
              "      border-left-color: var(--fill-color);\n",
              "      border-top-color: var(--fill-color);\n",
              "      border-right-color: var(--fill-color);\n",
              "    }\n",
              "    40% {\n",
              "      border-color: transparent;\n",
              "      border-right-color: var(--fill-color);\n",
              "      border-top-color: var(--fill-color);\n",
              "    }\n",
              "    60% {\n",
              "      border-color: transparent;\n",
              "      border-right-color: var(--fill-color);\n",
              "    }\n",
              "    80% {\n",
              "      border-color: transparent;\n",
              "      border-right-color: var(--fill-color);\n",
              "      border-bottom-color: var(--fill-color);\n",
              "    }\n",
              "    90% {\n",
              "      border-color: transparent;\n",
              "      border-bottom-color: var(--fill-color);\n",
              "    }\n",
              "  }\n",
              "</style>\n",
              "\n",
              "  <script>\n",
              "    async function quickchart(key) {\n",
              "      const quickchartButtonEl =\n",
              "        document.querySelector('#' + key + ' button');\n",
              "      quickchartButtonEl.disabled = true;  // To prevent multiple clicks.\n",
              "      quickchartButtonEl.classList.add('colab-df-spinner');\n",
              "      try {\n",
              "        const charts = await google.colab.kernel.invokeFunction(\n",
              "            'suggestCharts', [key], {});\n",
              "      } catch (error) {\n",
              "        console.error('Error during call to suggestCharts:', error);\n",
              "      }\n",
              "      quickchartButtonEl.classList.remove('colab-df-spinner');\n",
              "      quickchartButtonEl.classList.add('colab-df-quickchart-complete');\n",
              "    }\n",
              "    (() => {\n",
              "      let quickchartButtonEl =\n",
              "        document.querySelector('#df-85548280-d395-4712-87cc-067178fbeb0d button');\n",
              "      quickchartButtonEl.style.display =\n",
              "        google.colab.kernel.accessAllowed ? 'block' : 'none';\n",
              "    })();\n",
              "  </script>\n",
              "</div>\n",
              "\n",
              "    </div>\n",
              "  </div>\n"
            ],
            "application/vnd.google.colaboratory.intrinsic+json": {
              "type": "dataframe",
              "variable_name": "mydata",
              "summary": "{\n  \"name\": \"mydata\",\n  \"rows\": 3522,\n  \"fields\": [\n    {\n      \"column\": \"Date\",\n      \"properties\": {\n        \"dtype\": \"date\",\n        \"min\": \"2010-01-04 00:00:00\",\n        \"max\": \"2023-12-29 00:00:00\",\n        \"num_unique_values\": 3522,\n        \"samples\": [\n          \"2022-08-30 00:00:00\",\n          \"2017-06-30 00:00:00\",\n          \"2021-10-14 00:00:00\"\n        ],\n        \"semantic_type\": \"\",\n        \"description\": \"\"\n      }\n    },\n    {\n      \"column\": \"PG\",\n      \"properties\": {\n        \"dtype\": \"number\",\n        \"std\": 35.5086639675672,\n        \"min\": 39.30177307128906,\n        \"max\": 155.23159790039062,\n        \"num_unique_values\": 3346,\n        \"samples\": [\n          61.36220932006836,\n          98.44122314453125,\n          68.9912109375\n        ],\n        \"semantic_type\": \"\",\n        \"description\": \"\"\n      }\n    },\n    {\n      \"column\": \"MSFT\",\n      \"properties\": {\n        \"dtype\": \"number\",\n        \"std\": 102.28245555293624,\n        \"min\": 17.549161911010742,\n        \"max\": 381.30584716796875,\n        \"num_unique_values\": 3341,\n        \"samples\": [\n          23.948583602905273,\n          104.91722106933594,\n          23.031572341918945\n        ],\n        \"semantic_type\": \"\",\n        \"description\": \"\"\n      }\n    },\n    {\n      \"column\": \"F\",\n      \"properties\": {\n        \"dtype\": \"number\",\n        \"std\": 2.3427933902945277,\n        \"min\": 3.364042043685913,\n        \"max\": 21.23862648010254,\n        \"num_unique_values\": 2845,\n        \"samples\": [\n          6.890875816345215,\n          9.840450286865234,\n          8.632204055786133\n        ],\n        \"semantic_type\": \"\",\n        \"description\": \"\"\n      }\n    },\n    {\n      \"column\": \"GE\",\n      \"properties\": {\n        \"dtype\": \"number\",\n        \"std\": 28.132543404024364,\n        \"min\": 26.821483612060547,\n        \"max\": 139.6820068359375,\n        \"num_unique_values\": 3101,\n        \"samples\": [\n          85.25037384033203,\n          80.86515045166016,\n          88.99737548828125\n        ],\n        \"semantic_type\": \"\",\n        \"description\": \"\"\n      }\n    }\n  ]\n}"
            }
          },
          "metadata": {},
          "execution_count": 4
        }
      ],
      "source": [
        "mydata.head()"
      ]
    },
    {
      "cell_type": "code",
      "execution_count": 5,
      "metadata": {
        "id": "btTqiA-I8OuZ",
        "colab": {
          "base_uri": "https://localhost:8080/",
          "height": 237
        },
        "outputId": "e707828f-0111-4979-fbce-5ab6f258ea52"
      },
      "outputs": [
        {
          "output_type": "execute_result",
          "data": {
            "text/plain": [
              "                    PG        MSFT          F          GE\n",
              "Date                                                     \n",
              "2023-12-22  143.442017  373.215393  11.881211  100.850426\n",
              "2023-12-26  144.093689  373.295135  11.977414  101.471336\n",
              "2023-12-27  144.212158  372.707275  11.919693  102.132759\n",
              "2023-12-28  143.886322  373.912842  11.871591  102.228363\n",
              "2023-12-29  144.686081  374.670074  11.727283  101.678658"
            ],
            "text/html": [
              "\n",
              "  <div id=\"df-c55c3e89-f6d9-4e6c-b33e-539288895fc4\" class=\"colab-df-container\">\n",
              "    <div>\n",
              "<style scoped>\n",
              "    .dataframe tbody tr th:only-of-type {\n",
              "        vertical-align: middle;\n",
              "    }\n",
              "\n",
              "    .dataframe tbody tr th {\n",
              "        vertical-align: top;\n",
              "    }\n",
              "\n",
              "    .dataframe thead th {\n",
              "        text-align: right;\n",
              "    }\n",
              "</style>\n",
              "<table border=\"1\" class=\"dataframe\">\n",
              "  <thead>\n",
              "    <tr style=\"text-align: right;\">\n",
              "      <th></th>\n",
              "      <th>PG</th>\n",
              "      <th>MSFT</th>\n",
              "      <th>F</th>\n",
              "      <th>GE</th>\n",
              "    </tr>\n",
              "    <tr>\n",
              "      <th>Date</th>\n",
              "      <th></th>\n",
              "      <th></th>\n",
              "      <th></th>\n",
              "      <th></th>\n",
              "    </tr>\n",
              "  </thead>\n",
              "  <tbody>\n",
              "    <tr>\n",
              "      <th>2023-12-22</th>\n",
              "      <td>143.442017</td>\n",
              "      <td>373.215393</td>\n",
              "      <td>11.881211</td>\n",
              "      <td>100.850426</td>\n",
              "    </tr>\n",
              "    <tr>\n",
              "      <th>2023-12-26</th>\n",
              "      <td>144.093689</td>\n",
              "      <td>373.295135</td>\n",
              "      <td>11.977414</td>\n",
              "      <td>101.471336</td>\n",
              "    </tr>\n",
              "    <tr>\n",
              "      <th>2023-12-27</th>\n",
              "      <td>144.212158</td>\n",
              "      <td>372.707275</td>\n",
              "      <td>11.919693</td>\n",
              "      <td>102.132759</td>\n",
              "    </tr>\n",
              "    <tr>\n",
              "      <th>2023-12-28</th>\n",
              "      <td>143.886322</td>\n",
              "      <td>373.912842</td>\n",
              "      <td>11.871591</td>\n",
              "      <td>102.228363</td>\n",
              "    </tr>\n",
              "    <tr>\n",
              "      <th>2023-12-29</th>\n",
              "      <td>144.686081</td>\n",
              "      <td>374.670074</td>\n",
              "      <td>11.727283</td>\n",
              "      <td>101.678658</td>\n",
              "    </tr>\n",
              "  </tbody>\n",
              "</table>\n",
              "</div>\n",
              "    <div class=\"colab-df-buttons\">\n",
              "\n",
              "  <div class=\"colab-df-container\">\n",
              "    <button class=\"colab-df-convert\" onclick=\"convertToInteractive('df-c55c3e89-f6d9-4e6c-b33e-539288895fc4')\"\n",
              "            title=\"Convert this dataframe to an interactive table.\"\n",
              "            style=\"display:none;\">\n",
              "\n",
              "  <svg xmlns=\"http://www.w3.org/2000/svg\" height=\"24px\" viewBox=\"0 -960 960 960\">\n",
              "    <path d=\"M120-120v-720h720v720H120Zm60-500h600v-160H180v160Zm220 220h160v-160H400v160Zm0 220h160v-160H400v160ZM180-400h160v-160H180v160Zm440 0h160v-160H620v160ZM180-180h160v-160H180v160Zm440 0h160v-160H620v160Z\"/>\n",
              "  </svg>\n",
              "    </button>\n",
              "\n",
              "  <style>\n",
              "    .colab-df-container {\n",
              "      display:flex;\n",
              "      gap: 12px;\n",
              "    }\n",
              "\n",
              "    .colab-df-convert {\n",
              "      background-color: #E8F0FE;\n",
              "      border: none;\n",
              "      border-radius: 50%;\n",
              "      cursor: pointer;\n",
              "      display: none;\n",
              "      fill: #1967D2;\n",
              "      height: 32px;\n",
              "      padding: 0 0 0 0;\n",
              "      width: 32px;\n",
              "    }\n",
              "\n",
              "    .colab-df-convert:hover {\n",
              "      background-color: #E2EBFA;\n",
              "      box-shadow: 0px 1px 2px rgba(60, 64, 67, 0.3), 0px 1px 3px 1px rgba(60, 64, 67, 0.15);\n",
              "      fill: #174EA6;\n",
              "    }\n",
              "\n",
              "    .colab-df-buttons div {\n",
              "      margin-bottom: 4px;\n",
              "    }\n",
              "\n",
              "    [theme=dark] .colab-df-convert {\n",
              "      background-color: #3B4455;\n",
              "      fill: #D2E3FC;\n",
              "    }\n",
              "\n",
              "    [theme=dark] .colab-df-convert:hover {\n",
              "      background-color: #434B5C;\n",
              "      box-shadow: 0px 1px 3px 1px rgba(0, 0, 0, 0.15);\n",
              "      filter: drop-shadow(0px 1px 2px rgba(0, 0, 0, 0.3));\n",
              "      fill: #FFFFFF;\n",
              "    }\n",
              "  </style>\n",
              "\n",
              "    <script>\n",
              "      const buttonEl =\n",
              "        document.querySelector('#df-c55c3e89-f6d9-4e6c-b33e-539288895fc4 button.colab-df-convert');\n",
              "      buttonEl.style.display =\n",
              "        google.colab.kernel.accessAllowed ? 'block' : 'none';\n",
              "\n",
              "      async function convertToInteractive(key) {\n",
              "        const element = document.querySelector('#df-c55c3e89-f6d9-4e6c-b33e-539288895fc4');\n",
              "        const dataTable =\n",
              "          await google.colab.kernel.invokeFunction('convertToInteractive',\n",
              "                                                    [key], {});\n",
              "        if (!dataTable) return;\n",
              "\n",
              "        const docLinkHtml = 'Like what you see? Visit the ' +\n",
              "          '<a target=\"_blank\" href=https://colab.research.google.com/notebooks/data_table.ipynb>data table notebook</a>'\n",
              "          + ' to learn more about interactive tables.';\n",
              "        element.innerHTML = '';\n",
              "        dataTable['output_type'] = 'display_data';\n",
              "        await google.colab.output.renderOutput(dataTable, element);\n",
              "        const docLink = document.createElement('div');\n",
              "        docLink.innerHTML = docLinkHtml;\n",
              "        element.appendChild(docLink);\n",
              "      }\n",
              "    </script>\n",
              "  </div>\n",
              "\n",
              "\n",
              "<div id=\"df-ef09c6e8-e13c-40f3-88fb-a56707d41853\">\n",
              "  <button class=\"colab-df-quickchart\" onclick=\"quickchart('df-ef09c6e8-e13c-40f3-88fb-a56707d41853')\"\n",
              "            title=\"Suggest charts\"\n",
              "            style=\"display:none;\">\n",
              "\n",
              "<svg xmlns=\"http://www.w3.org/2000/svg\" height=\"24px\"viewBox=\"0 0 24 24\"\n",
              "     width=\"24px\">\n",
              "    <g>\n",
              "        <path d=\"M19 3H5c-1.1 0-2 .9-2 2v14c0 1.1.9 2 2 2h14c1.1 0 2-.9 2-2V5c0-1.1-.9-2-2-2zM9 17H7v-7h2v7zm4 0h-2V7h2v10zm4 0h-2v-4h2v4z\"/>\n",
              "    </g>\n",
              "</svg>\n",
              "  </button>\n",
              "\n",
              "<style>\n",
              "  .colab-df-quickchart {\n",
              "      --bg-color: #E8F0FE;\n",
              "      --fill-color: #1967D2;\n",
              "      --hover-bg-color: #E2EBFA;\n",
              "      --hover-fill-color: #174EA6;\n",
              "      --disabled-fill-color: #AAA;\n",
              "      --disabled-bg-color: #DDD;\n",
              "  }\n",
              "\n",
              "  [theme=dark] .colab-df-quickchart {\n",
              "      --bg-color: #3B4455;\n",
              "      --fill-color: #D2E3FC;\n",
              "      --hover-bg-color: #434B5C;\n",
              "      --hover-fill-color: #FFFFFF;\n",
              "      --disabled-bg-color: #3B4455;\n",
              "      --disabled-fill-color: #666;\n",
              "  }\n",
              "\n",
              "  .colab-df-quickchart {\n",
              "    background-color: var(--bg-color);\n",
              "    border: none;\n",
              "    border-radius: 50%;\n",
              "    cursor: pointer;\n",
              "    display: none;\n",
              "    fill: var(--fill-color);\n",
              "    height: 32px;\n",
              "    padding: 0;\n",
              "    width: 32px;\n",
              "  }\n",
              "\n",
              "  .colab-df-quickchart:hover {\n",
              "    background-color: var(--hover-bg-color);\n",
              "    box-shadow: 0 1px 2px rgba(60, 64, 67, 0.3), 0 1px 3px 1px rgba(60, 64, 67, 0.15);\n",
              "    fill: var(--button-hover-fill-color);\n",
              "  }\n",
              "\n",
              "  .colab-df-quickchart-complete:disabled,\n",
              "  .colab-df-quickchart-complete:disabled:hover {\n",
              "    background-color: var(--disabled-bg-color);\n",
              "    fill: var(--disabled-fill-color);\n",
              "    box-shadow: none;\n",
              "  }\n",
              "\n",
              "  .colab-df-spinner {\n",
              "    border: 2px solid var(--fill-color);\n",
              "    border-color: transparent;\n",
              "    border-bottom-color: var(--fill-color);\n",
              "    animation:\n",
              "      spin 1s steps(1) infinite;\n",
              "  }\n",
              "\n",
              "  @keyframes spin {\n",
              "    0% {\n",
              "      border-color: transparent;\n",
              "      border-bottom-color: var(--fill-color);\n",
              "      border-left-color: var(--fill-color);\n",
              "    }\n",
              "    20% {\n",
              "      border-color: transparent;\n",
              "      border-left-color: var(--fill-color);\n",
              "      border-top-color: var(--fill-color);\n",
              "    }\n",
              "    30% {\n",
              "      border-color: transparent;\n",
              "      border-left-color: var(--fill-color);\n",
              "      border-top-color: var(--fill-color);\n",
              "      border-right-color: var(--fill-color);\n",
              "    }\n",
              "    40% {\n",
              "      border-color: transparent;\n",
              "      border-right-color: var(--fill-color);\n",
              "      border-top-color: var(--fill-color);\n",
              "    }\n",
              "    60% {\n",
              "      border-color: transparent;\n",
              "      border-right-color: var(--fill-color);\n",
              "    }\n",
              "    80% {\n",
              "      border-color: transparent;\n",
              "      border-right-color: var(--fill-color);\n",
              "      border-bottom-color: var(--fill-color);\n",
              "    }\n",
              "    90% {\n",
              "      border-color: transparent;\n",
              "      border-bottom-color: var(--fill-color);\n",
              "    }\n",
              "  }\n",
              "</style>\n",
              "\n",
              "  <script>\n",
              "    async function quickchart(key) {\n",
              "      const quickchartButtonEl =\n",
              "        document.querySelector('#' + key + ' button');\n",
              "      quickchartButtonEl.disabled = true;  // To prevent multiple clicks.\n",
              "      quickchartButtonEl.classList.add('colab-df-spinner');\n",
              "      try {\n",
              "        const charts = await google.colab.kernel.invokeFunction(\n",
              "            'suggestCharts', [key], {});\n",
              "      } catch (error) {\n",
              "        console.error('Error during call to suggestCharts:', error);\n",
              "      }\n",
              "      quickchartButtonEl.classList.remove('colab-df-spinner');\n",
              "      quickchartButtonEl.classList.add('colab-df-quickchart-complete');\n",
              "    }\n",
              "    (() => {\n",
              "      let quickchartButtonEl =\n",
              "        document.querySelector('#df-ef09c6e8-e13c-40f3-88fb-a56707d41853 button');\n",
              "      quickchartButtonEl.style.display =\n",
              "        google.colab.kernel.accessAllowed ? 'block' : 'none';\n",
              "    })();\n",
              "  </script>\n",
              "</div>\n",
              "\n",
              "    </div>\n",
              "  </div>\n"
            ],
            "application/vnd.google.colaboratory.intrinsic+json": {
              "type": "dataframe",
              "summary": "{\n  \"name\": \"mydata\",\n  \"rows\": 5,\n  \"fields\": [\n    {\n      \"column\": \"Date\",\n      \"properties\": {\n        \"dtype\": \"date\",\n        \"min\": \"2023-12-22 00:00:00\",\n        \"max\": \"2023-12-29 00:00:00\",\n        \"num_unique_values\": 5,\n        \"samples\": [\n          \"2023-12-26 00:00:00\",\n          \"2023-12-29 00:00:00\",\n          \"2023-12-27 00:00:00\"\n        ],\n        \"semantic_type\": \"\",\n        \"description\": \"\"\n      }\n    },\n    {\n      \"column\": \"PG\",\n      \"properties\": {\n        \"dtype\": \"number\",\n        \"std\": 0.4550411443665159,\n        \"min\": 143.4420166015625,\n        \"max\": 144.6860809326172,\n        \"num_unique_values\": 5,\n        \"samples\": [\n          144.09368896484375,\n          144.6860809326172,\n          144.212158203125\n        ],\n        \"semantic_type\": \"\",\n        \"description\": \"\"\n      }\n    },\n    {\n      \"column\": \"MSFT\",\n      \"properties\": {\n        \"dtype\": \"number\",\n        \"std\": 0.7537919052284117,\n        \"min\": 372.707275390625,\n        \"max\": 374.6700744628906,\n        \"num_unique_values\": 5,\n        \"samples\": [\n          373.2951354980469,\n          374.6700744628906,\n          372.707275390625\n        ],\n        \"semantic_type\": \"\",\n        \"description\": \"\"\n      }\n    },\n    {\n      \"column\": \"F\",\n      \"properties\": {\n        \"dtype\": \"number\",\n        \"std\": 0.09267622584476412,\n        \"min\": 11.727283477783203,\n        \"max\": 11.97741413116455,\n        \"num_unique_values\": 5,\n        \"samples\": [\n          11.97741413116455,\n          11.727283477783203,\n          11.919692993164062\n        ],\n        \"semantic_type\": \"\",\n        \"description\": \"\"\n      }\n    },\n    {\n      \"column\": \"GE\",\n      \"properties\": {\n        \"dtype\": \"number\",\n        \"std\": 0.5561323608265613,\n        \"min\": 100.85042572021484,\n        \"max\": 102.22836303710938,\n        \"num_unique_values\": 5,\n        \"samples\": [\n          101.4713363647461,\n          101.67865753173828,\n          102.13275909423828\n        ],\n        \"semantic_type\": \"\",\n        \"description\": \"\"\n      }\n    }\n  ]\n}"
            }
          },
          "metadata": {},
          "execution_count": 5
        }
      ],
      "source": [
        "mydata.tail()"
      ]
    },
    {
      "cell_type": "markdown",
      "metadata": {
        "id": "80BUBcuN8OuZ"
      },
      "source": [
        "Normalización a 100:$$\\frac{P_i}{P_0}*100$$"
      ]
    },
    {
      "cell_type": "code",
      "execution_count": 6,
      "metadata": {
        "id": "A9QHSddN8Oua",
        "colab": {
          "base_uri": "https://localhost:8080/"
        },
        "outputId": "ca391a40-c10c-4149-a19b-53773a399bd9"
      },
      "outputs": [
        {
          "output_type": "execute_result",
          "data": {
            "text/plain": [
              "PG      39.902405\n",
              "MSFT    23.389399\n",
              "F        5.846006\n",
              "GE      50.052280\n",
              "Name: 2010-01-04 00:00:00, dtype: float64"
            ]
          },
          "metadata": {},
          "execution_count": 6
        }
      ],
      "source": [
        "mydata.iloc[0]"
      ]
    },
    {
      "cell_type": "code",
      "execution_count": 7,
      "metadata": {
        "id": "6vPHUbfo8Oua",
        "colab": {
          "base_uri": "https://localhost:8080/",
          "height": 504
        },
        "outputId": "3f8e448a-f716-4f2b-ef66-70de482dbcda"
      },
      "outputs": [
        {
          "output_type": "display_data",
          "data": {
            "text/plain": [
              "<Figure size 1500x600 with 1 Axes>"
            ],
            "image/png": "[encoded data removed]"
          },
          "metadata": {}
        }
      ],
      "source": [
        "(mydata / mydata.iloc[0]*100).plot(figsize=(15,6))\n",
        "plt.show()"
      ]
    },
    {
      "cell_type": "code",
      "execution_count": 8,
      "metadata": {
        "id": "e2KCPZyB8Oub",
        "colab": {
          "base_uri": "https://localhost:8080/",
          "height": 509
        },
        "outputId": "c541a45d-bbea-4e7a-cbb5-a76142df15d1"
      },
      "outputs": [
        {
          "output_type": "display_data",
          "data": {
            "text/plain": [
              "<Figure size 1500x600 with 1 Axes>"
            ],
            "image/png": "[encoded data removed]"
          },
          "metadata": {}
        }
      ],
      "source": [
        "mydata.plot(figsize=(15,6))\n",
        "plt.show()"
      ]
    },
    {
      "cell_type": "code",
      "execution_count": 9,
      "metadata": {
        "id": "gGbhqpET8Oub",
        "colab": {
          "base_uri": "https://localhost:8080/"
        },
        "outputId": "fc0f41a0-439e-43a0-a1d9-a33102fdbfdd"
      },
      "outputs": [
        {
          "output_type": "execute_result",
          "data": {
            "text/plain": [
              "PG      39.902405\n",
              "MSFT    23.389399\n",
              "F        5.846006\n",
              "GE      50.052280\n",
              "Name: 2010-01-04 00:00:00, dtype: float64"
            ]
          },
          "metadata": {},
          "execution_count": 9
        }
      ],
      "source": [
        "mydata.loc['2010-01-04']"
      ]
    },
    {
      "cell_type": "code",
      "execution_count": 10,
      "metadata": {
        "id": "rnRc4HqU8Oub",
        "colab": {
          "base_uri": "https://localhost:8080/"
        },
        "outputId": "23c2fed1-af63-464e-943a-8430a1dab64b"
      },
      "outputs": [
        {
          "output_type": "execute_result",
          "data": {
            "text/plain": [
              "PG      39.902405\n",
              "MSFT    23.389399\n",
              "F        5.846006\n",
              "GE      50.052280\n",
              "Name: 2010-01-04 00:00:00, dtype: float64"
            ]
          },
          "metadata": {},
          "execution_count": 10
        }
      ],
      "source": [
        "mydata.iloc[0]"
      ]
    },
    {
      "cell_type": "markdown",
      "metadata": {
        "id": "s4VP9-LC8Oub"
      },
      "source": [
        "### Calculo de los retornos de un portafolio"
      ]
    },
    {
      "cell_type": "code",
      "execution_count": 11,
      "metadata": {
        "id": "d-9kshcB8Ouc",
        "colab": {
          "base_uri": "https://localhost:8080/",
          "height": 237
        },
        "outputId": "4c70f773-06b7-4f09-8976-2f382e547e71"
      },
      "outputs": [
        {
          "output_type": "execute_result",
          "data": {
            "text/plain": [
              "                  PG      MSFT         F        GE\n",
              "Date                                              \n",
              "2010-01-04       NaN       NaN       NaN       NaN\n",
              "2010-01-05  0.000327  0.000323  0.066148  0.005178\n",
              "2010-01-06 -0.004743 -0.006137  0.037409 -0.005151\n",
              "2010-01-07 -0.005423 -0.010400  0.025506  0.051780\n",
              "2010-01-08 -0.001322  0.006896  0.002572  0.021538"
            ],
            "text/html": [
              "\n",
              "  <div id=\"df-4e02256a-e9f5-450d-8a01-db6b1f5a4bfe\" class=\"colab-df-container\">\n",
              "    <div>\n",
              "<style scoped>\n",
              "    .dataframe tbody tr th:only-of-type {\n",
              "        vertical-align: middle;\n",
              "    }\n",
              "\n",
              "    .dataframe tbody tr th {\n",
              "        vertical-align: top;\n",
              "    }\n",
              "\n",
              "    .dataframe thead th {\n",
              "        text-align: right;\n",
              "    }\n",
              "</style>\n",
              "<table border=\"1\" class=\"dataframe\">\n",
              "  <thead>\n",
              "    <tr style=\"text-align: right;\">\n",
              "      <th></th>\n",
              "      <th>PG</th>\n",
              "      <th>MSFT</th>\n",
              "      <th>F</th>\n",
              "      <th>GE</th>\n",
              "    </tr>\n",
              "    <tr>\n",
              "      <th>Date</th>\n",
              "      <th></th>\n",
              "      <th></th>\n",
              "      <th></th>\n",
              "      <th></th>\n",
              "    </tr>\n",
              "  </thead>\n",
              "  <tbody>\n",
              "    <tr>\n",
              "      <th>2010-01-04</th>\n",
              "      <td>NaN</td>\n",
              "      <td>NaN</td>\n",
              "      <td>NaN</td>\n",
              "      <td>NaN</td>\n",
              "    </tr>\n",
              "    <tr>\n",
              "      <th>2010-01-05</th>\n",
              "      <td>0.000327</td>\n",
              "      <td>0.000323</td>\n",
              "      <td>0.066148</td>\n",
              "      <td>0.005178</td>\n",
              "    </tr>\n",
              "    <tr>\n",
              "      <th>2010-01-06</th>\n",
              "      <td>-0.004743</td>\n",
              "      <td>-0.006137</td>\n",
              "      <td>0.037409</td>\n",
              "      <td>-0.005151</td>\n",
              "    </tr>\n",
              "    <tr>\n",
              "      <th>2010-01-07</th>\n",
              "      <td>-0.005423</td>\n",
              "      <td>-0.010400</td>\n",
              "      <td>0.025506</td>\n",
              "      <td>0.051780</td>\n",
              "    </tr>\n",
              "    <tr>\n",
              "      <th>2010-01-08</th>\n",
              "      <td>-0.001322</td>\n",
              "      <td>0.006896</td>\n",
              "      <td>0.002572</td>\n",
              "      <td>0.021538</td>\n",
              "    </tr>\n",
              "  </tbody>\n",
              "</table>\n",
              "</div>\n",
              "    <div class=\"colab-df-buttons\">\n",
              "\n",
              "  <div class=\"colab-df-container\">\n",
              "    <button class=\"colab-df-convert\" onclick=\"convertToInteractive('df-4e02256a-e9f5-450d-8a01-db6b1f5a4bfe')\"\n",
              "            title=\"Convert this dataframe to an interactive table.\"\n",
              "            style=\"display:none;\">\n",
              "\n",
              "  <svg xmlns=\"http://www.w3.org/2000/svg\" height=\"24px\" viewBox=\"0 -960 960 960\">\n",
              "    <path d=\"M120-120v-720h720v720H120Zm60-500h600v-160H180v160Zm220 220h160v-160H400v160Zm0 220h160v-160H400v160ZM180-400h160v-160H180v160Zm440 0h160v-160H620v160ZM180-180h160v-160H180v160Zm440 0h160v-160H620v160Z\"/>\n",
              "  </svg>\n",
              "    </button>\n",
              "\n",
              "  <style>\n",
              "    .colab-df-container {\n",
              "      display:flex;\n",
              "      gap: 12px;\n",
              "    }\n",
              "\n",
              "    .colab-df-convert {\n",
              "      background-color: #E8F0FE;\n",
              "      border: none;\n",
              "      border-radius: 50%;\n",
              "      cursor: pointer;\n",
              "      display: none;\n",
              "      fill: #1967D2;\n",
              "      height: 32px;\n",
              "      padding: 0 0 0 0;\n",
              "      width: 32px;\n",
              "    }\n",
              "\n",
              "    .colab-df-convert:hover {\n",
              "      background-color: #E2EBFA;\n",
              "      box-shadow: 0px 1px 2px rgba(60, 64, 67, 0.3), 0px 1px 3px 1px rgba(60, 64, 67, 0.15);\n",
              "      fill: #174EA6;\n",
              "    }\n",
              "\n",
              "    .colab-df-buttons div {\n",
              "      margin-bottom: 4px;\n",
              "    }\n",
              "\n",
              "    [theme=dark] .colab-df-convert {\n",
              "      background-color: #3B4455;\n",
              "      fill: #D2E3FC;\n",
              "    }\n",
              "\n",
              "    [theme=dark] .colab-df-convert:hover {\n",
              "      background-color: #434B5C;\n",
              "      box-shadow: 0px 1px 3px 1px rgba(0, 0, 0, 0.15);\n",
              "      filter: drop-shadow(0px 1px 2px rgba(0, 0, 0, 0.3));\n",
              "      fill: #FFFFFF;\n",
              "    }\n",
              "  </style>\n",
              "\n",
              "    <script>\n",
              "      const buttonEl =\n",
              "        document.querySelector('#df-4e02256a-e9f5-450d-8a01-db6b1f5a4bfe button.colab-df-convert');\n",
              "      buttonEl.style.display =\n",
              "        google.colab.kernel.accessAllowed ? 'block' : 'none';\n",
              "\n",
              "      async function convertToInteractive(key) {\n",
              "        const element = document.querySelector('#df-4e02256a-e9f5-450d-8a01-db6b1f5a4bfe');\n",
              "        const dataTable =\n",
              "          await google.colab.kernel.invokeFunction('convertToInteractive',\n",
              "                                                    [key], {});\n",
              "        if (!dataTable) return;\n",
              "\n",
              "        const docLinkHtml = 'Like what you see? Visit the ' +\n",
              "          '<a target=\"_blank\" href=https://colab.research.google.com/notebooks/data_table.ipynb>data table notebook</a>'\n",
              "          + ' to learn more about interactive tables.';\n",
              "        element.innerHTML = '';\n",
              "        dataTable['output_type'] = 'display_data';\n",
              "        await google.colab.output.renderOutput(dataTable, element);\n",
              "        const docLink = document.createElement('div');\n",
              "        docLink.innerHTML = docLinkHtml;\n",
              "        element.appendChild(docLink);\n",
              "      }\n",
              "    </script>\n",
              "  </div>\n",
              "\n",
              "\n",
              "<div id=\"df-4be7d22a-a926-41e8-9af2-a1706336baee\">\n",
              "  <button class=\"colab-df-quickchart\" onclick=\"quickchart('df-4be7d22a-a926-41e8-9af2-a1706336baee')\"\n",
              "            title=\"Suggest charts\"\n",
              "            style=\"display:none;\">\n",
              "\n",
              "<svg xmlns=\"http://www.w3.org/2000/svg\" height=\"24px\"viewBox=\"0 0 24 24\"\n",
              "     width=\"24px\">\n",
              "    <g>\n",
              "        <path d=\"M19 3H5c-1.1 0-2 .9-2 2v14c0 1.1.9 2 2 2h14c1.1 0 2-.9 2-2V5c0-1.1-.9-2-2-2zM9 17H7v-7h2v7zm4 0h-2V7h2v10zm4 0h-2v-4h2v4z\"/>\n",
              "    </g>\n",
              "</svg>\n",
              "  </button>\n",
              "\n",
              "<style>\n",
              "  .colab-df-quickchart {\n",
              "      --bg-color: #E8F0FE;\n",
              "      --fill-color: #1967D2;\n",
              "      --hover-bg-color: #E2EBFA;\n",
              "      --hover-fill-color: #174EA6;\n",
              "      --disabled-fill-color: #AAA;\n",
              "      --disabled-bg-color: #DDD;\n",
              "  }\n",
              "\n",
              "  [theme=dark] .colab-df-quickchart {\n",
              "      --bg-color: #3B4455;\n",
              "      --fill-color: #D2E3FC;\n",
              "      --hover-bg-color: #434B5C;\n",
              "      --hover-fill-color: #FFFFFF;\n",
              "      --disabled-bg-color: #3B4455;\n",
              "      --disabled-fill-color: #666;\n",
              "  }\n",
              "\n",
              "  .colab-df-quickchart {\n",
              "    background-color: var(--bg-color);\n",
              "    border: none;\n",
              "    border-radius: 50%;\n",
              "    cursor: pointer;\n",
              "    display: none;\n",
              "    fill: var(--fill-color);\n",
              "    height: 32px;\n",
              "    padding: 0;\n",
              "    width: 32px;\n",
              "  }\n",
              "\n",
              "  .colab-df-quickchart:hover {\n",
              "    background-color: var(--hover-bg-color);\n",
              "    box-shadow: 0 1px 2px rgba(60, 64, 67, 0.3), 0 1px 3px 1px rgba(60, 64, 67, 0.15);\n",
              "    fill: var(--button-hover-fill-color);\n",
              "  }\n",
              "\n",
              "  .colab-df-quickchart-complete:disabled,\n",
              "  .colab-df-quickchart-complete:disabled:hover {\n",
              "    background-color: var(--disabled-bg-color);\n",
              "    fill: var(--disabled-fill-color);\n",
              "    box-shadow: none;\n",
              "  }\n",
              "\n",
              "  .colab-df-spinner {\n",
              "    border: 2px solid var(--fill-color);\n",
              "    border-color: transparent;\n",
              "    border-bottom-color: var(--fill-color);\n",
              "    animation:\n",
              "      spin 1s steps(1) infinite;\n",
              "  }\n",
              "\n",
              "  @keyframes spin {\n",
              "    0% {\n",
              "      border-color: transparent;\n",
              "      border-bottom-color: var(--fill-color);\n",
              "      border-left-color: var(--fill-color);\n",
              "    }\n",
              "    20% {\n",
              "      border-color: transparent;\n",
              "      border-left-color: var(--fill-color);\n",
              "      border-top-color: var(--fill-color);\n",
              "    }\n",
              "    30% {\n",
              "      border-color: transparent;\n",
              "      border-left-color: var(--fill-color);\n",
              "      border-top-color: var(--fill-color);\n",
              "      border-right-color: var(--fill-color);\n",
              "    }\n",
              "    40% {\n",
              "      border-color: transparent;\n",
              "      border-right-color: var(--fill-color);\n",
              "      border-top-color: var(--fill-color);\n",
              "    }\n",
              "    60% {\n",
              "      border-color: transparent;\n",
              "      border-right-color: var(--fill-color);\n",
              "    }\n",
              "    80% {\n",
              "      border-color: transparent;\n",
              "      border-right-color: var(--fill-color);\n",
              "      border-bottom-color: var(--fill-color);\n",
              "    }\n",
              "    90% {\n",
              "      border-color: transparent;\n",
              "      border-bottom-color: var(--fill-color);\n",
              "    }\n",
              "  }\n",
              "</style>\n",
              "\n",
              "  <script>\n",
              "    async function quickchart(key) {\n",
              "      const quickchartButtonEl =\n",
              "        document.querySelector('#' + key + ' button');\n",
              "      quickchartButtonEl.disabled = true;  // To prevent multiple clicks.\n",
              "      quickchartButtonEl.classList.add('colab-df-spinner');\n",
              "      try {\n",
              "        const charts = await google.colab.kernel.invokeFunction(\n",
              "            'suggestCharts', [key], {});\n",
              "      } catch (error) {\n",
              "        console.error('Error during call to suggestCharts:', error);\n",
              "      }\n",
              "      quickchartButtonEl.classList.remove('colab-df-spinner');\n",
              "      quickchartButtonEl.classList.add('colab-df-quickchart-complete');\n",
              "    }\n",
              "    (() => {\n",
              "      let quickchartButtonEl =\n",
              "        document.querySelector('#df-4be7d22a-a926-41e8-9af2-a1706336baee button');\n",
              "      quickchartButtonEl.style.display =\n",
              "        google.colab.kernel.accessAllowed ? 'block' : 'none';\n",
              "    })();\n",
              "  </script>\n",
              "</div>\n",
              "\n",
              "    </div>\n",
              "  </div>\n"
            ],
            "application/vnd.google.colaboratory.intrinsic+json": {
              "type": "dataframe",
              "variable_name": "returns",
              "summary": "{\n  \"name\": \"returns\",\n  \"rows\": 3522,\n  \"fields\": [\n    {\n      \"column\": \"Date\",\n      \"properties\": {\n        \"dtype\": \"date\",\n        \"min\": \"2010-01-04 00:00:00\",\n        \"max\": \"2023-12-29 00:00:00\",\n        \"num_unique_values\": 3522,\n        \"samples\": [\n          \"2022-08-30 00:00:00\",\n          \"2017-06-30 00:00:00\",\n          \"2021-10-14 00:00:00\"\n        ],\n        \"semantic_type\": \"\",\n        \"description\": \"\"\n      }\n    },\n    {\n      \"column\": \"PG\",\n      \"properties\": {\n        \"dtype\": \"number\",\n        \"std\": 0.010855178001927044,\n        \"min\": -0.0873734035267264,\n        \"max\": 0.12009022007733927,\n        \"num_unique_values\": 3495,\n        \"samples\": [\n          0.0006947213775643224,\n          0.026597886059260833,\n          -0.018061046700727057\n        ],\n        \"semantic_type\": \"\",\n        \"description\": \"\"\n      }\n    },\n    {\n      \"column\": \"MSFT\",\n      \"properties\": {\n        \"dtype\": \"number\",\n        \"std\": 0.016334218403755492,\n        \"min\": -0.14739067985478194,\n        \"max\": 0.14216897020627295,\n        \"num_unique_values\": 3492,\n        \"samples\": [\n          -0.01853982798665399,\n          0.007918456825161568,\n          0.0005628553637124778\n        ],\n        \"semantic_type\": \"\",\n        \"description\": \"\"\n      }\n    },\n    {\n      \"column\": \"F\",\n      \"properties\": {\n        \"dtype\": \"number\",\n        \"std\": 0.02146916160638223,\n        \"min\": -0.13411355521729873,\n        \"max\": 0.23441405858262487,\n        \"num_unique_values\": 3435,\n        \"samples\": [\n          -0.010954594373608906,\n          0.007270105261427906,\n          0.018856579031903076\n        ],\n        \"semantic_type\": \"\",\n        \"description\": \"\"\n      }\n    },\n    {\n      \"column\": \"GE\",\n      \"properties\": {\n        \"dtype\": \"number\",\n        \"std\": 0.019832256773124807,\n        \"min\": -0.1515923561810586,\n        \"max\": 0.14729942471235935,\n        \"num_unique_values\": 3463,\n        \"samples\": [\n          0.013076014103920786,\n          0.011786146463405034,\n          0.005750323425200099\n        ],\n        \"semantic_type\": \"\",\n        \"description\": \"\"\n      }\n    }\n  ]\n}"
            }
          },
          "metadata": {},
          "execution_count": 11
        }
      ],
      "source": [
        "returns = (mydata / mydata.shift(1))-1\n",
        "returns.head()"
      ]
    },
    {
      "cell_type": "code",
      "execution_count": 12,
      "metadata": {
        "id": "TWrgbzGW8Ouc"
      },
      "outputs": [],
      "source": [
        "weights = np.array([0.25, 0.25, 0.25, 0.25])"
      ]
    },
    {
      "cell_type": "code",
      "execution_count": 13,
      "metadata": {
        "id": "0F_Wf5lv8Ouc",
        "colab": {
          "base_uri": "https://localhost:8080/"
        },
        "outputId": "4d9fca8d-f4bf-4236-9d4d-687810e50544"
      },
      "outputs": [
        {
          "output_type": "stream",
          "name": "stdout",
          "text": [
            "[0.25 0.25 0.25 0.25]\n"
          ]
        }
      ],
      "source": [
        "print(weights)"
      ]
    },
    {
      "cell_type": "code",
      "execution_count": 14,
      "metadata": {
        "id": "PjdKbXr88Ouc",
        "colab": {
          "base_uri": "https://localhost:8080/"
        },
        "outputId": "4b3ca2f0-0580-4ad1-a0a1-87b121eab0f8"
      },
      "outputs": [
        {
          "output_type": "execute_result",
          "data": {
            "text/plain": [
              "array([        nan,  0.01799384,  0.00534459, ...,  0.00023663,\n",
              "       -0.00053107, -0.00248737])"
            ]
          },
          "metadata": {},
          "execution_count": 14
        }
      ],
      "source": [
        "np.dot(returns,weights)"
      ]
    },
    {
      "cell_type": "code",
      "execution_count": 15,
      "metadata": {
        "id": "oyW6gvcq8Ouc",
        "colab": {
          "base_uri": "https://localhost:8080/"
        },
        "outputId": "6c75e6d8-947e-4a39-f5ec-b22d484491f2"
      },
      "outputs": [
        {
          "output_type": "stream",
          "name": "stdout",
          "text": [
            "PG      0.106188\n",
            "MSFT    0.230358\n",
            "F       0.106942\n",
            "GE      0.099457\n",
            "dtype: float64\n"
          ]
        }
      ],
      "source": [
        "annual_returns= returns.mean()*250\n",
        "print(annual_returns)"
      ]
    },
    {
      "cell_type": "code",
      "execution_count": 16,
      "metadata": {
        "id": "QWh8MeSe8Ouc",
        "colab": {
          "base_uri": "https://localhost:8080/"
        },
        "outputId": "5d6a44e1-8c98-411f-a93b-1fa7d651efd1"
      },
      "outputs": [
        {
          "output_type": "execute_result",
          "data": {
            "text/plain": [
              "0.13573644976180288"
            ]
          },
          "metadata": {},
          "execution_count": 16
        }
      ],
      "source": [
        "np.dot(annual_returns, weights)"
      ]
    },
    {
      "cell_type": "code",
      "execution_count": 17,
      "metadata": {
        "id": "CkEKF1Fr8Ouc",
        "colab": {
          "base_uri": "https://localhost:8080/"
        },
        "outputId": "aa6b613e-4186-469d-f2b1-560a7762ee43"
      },
      "outputs": [
        {
          "output_type": "stream",
          "name": "stdout",
          "text": [
            "13.57364%\n"
          ]
        }
      ],
      "source": [
        "pfolio_1 = str(round(np.dot(annual_returns, weights) * 100, 5)) + '%'\n",
        "print(pfolio_1)"
      ]
    },
    {
      "cell_type": "code",
      "execution_count": 18,
      "metadata": {
        "id": "PkXOpLQN8Oud"
      },
      "outputs": [],
      "source": [
        "weights_2= np.array([0.4, 0.4, 0.15, 0.05])"
      ]
    },
    {
      "cell_type": "code",
      "execution_count": 19,
      "metadata": {
        "id": "VNuMaLUI8Oud",
        "colab": {
          "base_uri": "https://localhost:8080/"
        },
        "outputId": "c72f99f4-efe9-4104-e9ce-bd292ff78411"
      },
      "outputs": [
        {
          "output_type": "stream",
          "name": "stdout",
          "text": [
            "13.57364%\n",
            "15.56329%\n"
          ]
        }
      ],
      "source": [
        "pfolio_2 = str(round(np.dot(annual_returns, weights_2) * 100, 5)) + '%'\n",
        "print(pfolio_1)\n",
        "print(pfolio_2)"
      ]
    },
    {
      "cell_type": "code",
      "execution_count": 19,
      "metadata": {
        "id": "enA4uRR58Oud"
      },
      "outputs": [],
      "source": []
    },
    {
      "cell_type": "markdown",
      "source": [
        "#Sección del algoritmo genético\n",
        "\n",
        "Recordemos la idea de Darwin acerca la evolución de las especies conforme a su entorno."
      ],
      "metadata": {
        "id": "tNFA0mUk08j-"
      }
    },
    {
      "cell_type": "code",
      "source": [
        "import numpy as np\n",
        "from random import random, randint"
      ],
      "metadata": {
        "id": "AjWIzHTj07Fi"
      },
      "execution_count": 20,
      "outputs": []
    },
    {
      "cell_type": "markdown",
      "source": [
        "##Cruza o recombinación\n",
        "Nos dice que a partir de dos individuos (datos) se puede producir uno nuevo que comparta características de los dos originales"
      ],
      "metadata": {
        "id": "EEgYSGFYI4vi"
      }
    },
    {
      "cell_type": "code",
      "source": [
        "def cruza_poblacion_v1(poblacion, prob = [1/3, 2/3]):\n",
        "  p = np.array(poblacion)\n",
        "  n = len(p[0,:])\n",
        "  r = np.random.random((2,n))\n",
        "  par = np.argsort(r,axis = 1)\n",
        "  padres = p[:,par[0,:]]\n",
        "  madres = p[:,par[1,:]]\n",
        "  for p in prob:\n",
        "    try:\n",
        "      hijos = np.append(hijos, p*madres + (1-p)*padres, axis = 1)\n",
        "    except:\n",
        "      hijos = p*madres + (1-p)*padres\n",
        "  return hijos"
      ],
      "metadata": {
        "id": "bXi-B0L61GYQ"
      },
      "execution_count": 21,
      "outputs": []
    },
    {
      "cell_type": "code",
      "source": [
        "def cruza_poblacion_v2(poblacion, prob = [1/3, 2/3]):\n",
        "  p = np.array(poblacion)\n",
        "  n = len(p[0,:])\n",
        "  r = np.random.random(n)\n",
        "  r1 = np.argsort(r)\n",
        "  r2 = []\n",
        "  for i in r1:\n",
        "    r = np.pi\n",
        "    while r != i:\n",
        "      r = randint(0,n-1)\n",
        "    r2.append(r)\n",
        "  r2 = np.array(r2)\n",
        "  padres = p[:,r1]\n",
        "  madres = p[:,r2]\n",
        "\n",
        "  for p in prob:\n",
        "    try:\n",
        "      hijos = np.hstack((hijos, p*madres + (1-p)*padres))\n",
        "    except:\n",
        "      hijos = p*madres + (1-p)*padres\n",
        "  return hijos"
      ],
      "metadata": {
        "id": "6xQp7gIG1GnF"
      },
      "execution_count": 22,
      "outputs": []
    },
    {
      "cell_type": "code",
      "source": [
        "def cruza_poblacion_v3(poblacion, prob = [1/3, 2/3]):\n",
        "  p = np.array(poblacion)\n",
        "  n = len(p[0,:])\n",
        "  r = np.random.random(n)\n",
        "  r1 = np.argsort(r)\n",
        "  r2 = r1[-1:n:1]\n",
        "  padres = p[:,r1]\n",
        "  madres = p[:,r2]\n",
        "\n",
        "  for p in prob:\n",
        "    try:\n",
        "      hijos = np.append(hijos, p*madres + (1-p)*padres, axis = 1)\n",
        "    except:\n",
        "      hijos = p*madres + (1-p)*padres\n",
        "  return hijos"
      ],
      "metadata": {
        "id": "wJa_jd1X1Gwy"
      },
      "execution_count": 23,
      "outputs": []
    },
    {
      "cell_type": "markdown",
      "source": [
        "##Mutación\n",
        "Nacen, se crean raritos."
      ],
      "metadata": {
        "id": "TIpmzZFpJfV1"
      }
    },
    {
      "cell_type": "markdown",
      "source": [],
      "metadata": {
        "id": "DLALyaXVJfSs"
      }
    },
    {
      "cell_type": "code",
      "source": [
        "def mutacion_suma(l = np.array([1/4, 1/4, 1/4, 1/4]), intensidad = 0.1):\n",
        "  n = len(l)\n",
        "  i = randint(0,n-1)\n",
        "  nl = l - intensidad\n",
        "  nl[i] += intensidad*n\n",
        "  while np.any(nl < 0):\n",
        "    nl -= min(nl)\n",
        "  return nl/sum(nl)"
      ],
      "metadata": {
        "id": "XEMbkjv51UbE"
      },
      "execution_count": 24,
      "outputs": []
    },
    {
      "cell_type": "code",
      "source": [
        "def mutacion_promedio(l = np.array([1/4, 1/4, 1/4, 1/4]), pond = 1/2):\n",
        "  l = np.array(l)\n",
        "  n = len(l)\n",
        "  p = np.random.random(n)\n",
        "  l = l[list(np.argsort(p))]\n",
        "  nl = []\n",
        "  for i in range(n):\n",
        "    nl.append(l[i]*pond + l[i-1]*(1-pond))\n",
        "  return np.array(nl)"
      ],
      "metadata": {
        "id": "ehZJJ-Gg1Um4"
      },
      "execution_count": 25,
      "outputs": []
    },
    {
      "cell_type": "markdown",
      "source": [
        "##Seleccion\n",
        "Solo se seleccionan a los más aptos."
      ],
      "metadata": {
        "id": "O3gsxrJfJoCG"
      }
    },
    {
      "cell_type": "code",
      "source": [
        "def seleccion(lista_participantes, n_ganadores, f_evaluacion, min = True):\n",
        "  l = np.array(lista_participantes)\n",
        "  puntuacion = f_evaluacion(l)\n",
        "  if min:\n",
        "    ind = np.argsort(puntuacion)[:n_ganadores]\n",
        "  else:\n",
        "    ind = np.argsort(-puntuacion)[:n_ganadores]\n",
        "\n",
        "  #print(ind)\n",
        "  ganadores = l[:,ind]\n",
        "  puntuacion = puntuacion[ind]\n",
        "  return ganadores, puntuacion"
      ],
      "metadata": {
        "id": "21VuDWIOHv5j"
      },
      "execution_count": 26,
      "outputs": []
    },
    {
      "cell_type": "markdown",
      "source": [
        "##Las entrañas del código"
      ],
      "metadata": {
        "id": "NIPJD-iNKNIx"
      }
    },
    {
      "cell_type": "code",
      "source": [
        "def alg_evol(p0, tam, func, min, pm, no_gen):\n",
        "  mej_gen = []\n",
        "  punt = []\n",
        "  p = p0\n",
        "  for i in range(no_gen):\n",
        "    p, s = seleccion(p, tam, func, min)\n",
        "    mej_gen.append(p[:,0].tolist())\n",
        "    punt.append(s[0])\n",
        "\n",
        "    p_nva = cruza_poblacion_v2(p, np.arange(0.1,0.9, 0.2))\n",
        "    n = len(p_nva[0,:])\n",
        "    # print(n)\n",
        "    for i in range(n):\n",
        "      r = random()\n",
        "      if r < pm:\n",
        "        p_nva[:,i] = mutacion_suma(p_nva[:,i], 0.03)\n",
        "    p = p_nva\n",
        "\n",
        "  return mej_gen, punt"
      ],
      "metadata": {
        "id": "2uUhNjZg1gAD"
      },
      "execution_count": 27,
      "outputs": []
    },
    {
      "cell_type": "markdown",
      "source": [
        "##Nuestra función objetivo."
      ],
      "metadata": {
        "id": "cWmt_g_MKRee"
      }
    },
    {
      "cell_type": "code",
      "source": [
        "def f(w):\n",
        "  annual_returns= returns.mean()*250\n",
        "  return 100* np.dot(annual_returns, w)"
      ],
      "metadata": {
        "id": "Azf04XDU8R4K"
      },
      "execution_count": 28,
      "outputs": []
    },
    {
      "cell_type": "code",
      "source": [
        "def gen_pob_0(n,tam):\n",
        "  r = np.random.random(tam)\n",
        "  x = [r]\n",
        "  for i in range(n-2):\n",
        "    r = (1-np.sum(x,axis=0))*random()\n",
        "    x.append(r)\n",
        "  x.append(1-np.sum(x,axis=0))\n",
        "  return x"
      ],
      "metadata": {
        "id": "CQDPA2Q8Nv8G"
      },
      "execution_count": 29,
      "outputs": []
    },
    {
      "cell_type": "code",
      "source": [
        "n = 10000\n",
        "p0 = gen_pob_0(4,1000)\n",
        "tam_sel = 10\n",
        "p_mut = 0.01\n",
        "\n",
        "sol, feval = alg_evol(p0, tam_sel, f, False, p_mut, 1000)\n",
        "\n",
        "print(feval[0])\n",
        "print(feval[-1])\n",
        "print(max(feval))"
      ],
      "metadata": {
        "id": "Eqjo_7h-2W7o",
        "colab": {
          "base_uri": "https://localhost:8080/"
        },
        "outputId": "ea38a15b-f1c9-4997-cac0-3763ea7666f6"
      },
      "execution_count": 30,
      "outputs": [
        {
          "output_type": "stream",
          "name": "stdout",
          "text": [
            "15.129078038073141\n",
            "23.0346924709897\n",
            "23.0346924709897\n"
          ]
        }
      ]
    },
    {
      "cell_type": "code",
      "source": [
        "lm = []\n",
        "lp = []\n",
        "for i in range(24):\n",
        "  p0 = gen_pob_0(4,10000)\n",
        "  sol, feval = alg_evol(p0, 50, f, False, 0.08, 100)\n",
        "  ind = np.argmax(feval)\n",
        "  lm.append(max(feval))\n",
        "  lp.append(sol[ind])\n",
        "\n",
        "print(max(lm))\n",
        "ind = np.argmax(lm)\n",
        "print(lp[ind])\n",
        "\n",
        "print(f([0,1,0,0]))"
      ],
      "metadata": {
        "colab": {
          "base_uri": "https://localhost:8080/"
        },
        "id": "LmeDQtM_-XFs",
        "outputId": "02eb394d-bbd3-41e8-8cd4-ccb0c6d8fff5"
      },
      "execution_count": 31,
      "outputs": [
        {
          "output_type": "stream",
          "name": "stdout",
          "text": [
            "23.034096132695147\n",
            "[4.278753560900232e-06, 0.9998668864619727, 0.0, 0.00012883478446639625]\n",
            "23.035835728614725\n"
          ]
        }
      ]
    }
  ],
  "metadata": {
    "kernelspec": {
      "display_name": "Python 3",
      "language": "python",
      "name": "python3"
    },
    "language_info": {
      "codemirror_mode": {
        "name": "ipython",
        "version": 3
      },
      "file_extension": ".py",
      "mimetype": "text/x-python",
      "name": "python",
      "nbconvert_exporter": "python",
      "pygments_lexer": "ipython3",
      "version": "3.7.3"
    },
    "colab": {
      "provenance": [],
      "collapsed_sections": [
        "tNFA0mUk08j-"
      ],
      "include_colab_link": true
    }
  },
  "nbformat": 4,
  "nbformat_minor": 0
}