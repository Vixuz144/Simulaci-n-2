{
  "nbformat": 4,
  "nbformat_minor": 0,
  "metadata": {
    "colab": {
      "provenance": [],
      "toc_visible": true,
      "authorship_tag": "ABX9TyMluQTHzC3LkC2tog6VyXCq",
      "include_colab_link": true
    },
    "kernelspec": {
      "name": "python3",
      "display_name": "Python 3"
    },
    "language_info": {
      "name": "python"
    }
  },
  "cells": [
    {
      "cell_type": "markdown",
      "metadata": {
        "id": "view-in-github",
        "colab_type": "text"
      },
      "source": [
        "<a href=\"https://colab.research.google.com/github/Vixuz144/Simulaci-n-2/blob/main/SyE.ipynb\" target=\"_parent\"><img src=\"https://colab.research.google.com/assets/colab-badge.svg\" alt=\"Open In Colab\"/></a>"
      ]
    },
    {
      "cell_type": "markdown",
      "source": [
        "El problema de las serpientes y escaleras. Un juego que me atormentó toda mi infancia ya que me acusaban de hacer trampa (al inicio con justa razón y luego, cuando jugaba correctamente, ya nadie quería jugar conmigo). Además de que en cada una de las casas de mis tí@s se jugaba de manera diferente, por lo que cuando iba con algún(a) tí@ me decían que no sabia jugar por no jugar con sus reglas. :'("
      ],
      "metadata": {
        "id": "jGXLvXsSb-5n"
      }
    },
    {
      "cell_type": "markdown",
      "source": [
        "Vamos a considerar el siguiente tablero"
      ],
      "metadata": {
        "id": "K06bQG4tc0y-"
      }
    },
    {
      "cell_type": "markdown",
      "source": [
        "![imagen_2024-05-01_171848082.png](data:image/png;base64,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)"
      ],
      "metadata": {
        "id": "5MrFP9N4dQfF"
      }
    },
    {
      "cell_type": "markdown",
      "source": [
        "#***Solución Analítica***"
      ],
      "metadata": {
        "id": "TfKjKPDBfBoG"
      }
    },
    {
      "cell_type": "markdown",
      "source": [
        "Por lo que para la solución analítica primero consideremos que se va ajugar con un dado equilibrado de 6 caras. Los valores numéricos (puntos) del dado representa la cantidad de casillas que el jugador va a avanzar en el tablero. Para iniciar el juego se coloca la ficha del jugador fuera del tablero y para ganar se tiene que llegar hasta la última casilla, en este caso la casilla 20.\n"
      ],
      "metadata": {
        "id": "iGuFRNfhdbH-"
      }
    },
    {
      "cell_type": "markdown",
      "source": [
        "De las $20$ casillas no se puede permanecer en $4$ casillas (3, 13 15, 17) ya que al caer en estas automaticamente subes (por una escalera) o bajas (por una serpiente). Por ello hay $20 - 4 = 16$ casillas en las que puedes permanecer hasta el siguiente turno.\n",
        "\n",
        "Al analizar el estado inicial, el turno cero $(t_0)$ se tiene la siguiente función de probabilidad para el dado:\n",
        "\n",
        "$$ f(x) =  \\left\\{ \\begin{array}{cl} \\frac{1}{6} & \\textrm{si } x \\in \\left\\{ 1, 2, 3, 4, 5, 6 \\right\\}\\\\ \\\\ 0 & \\textrm{en otro caso} \\end{array} \\right. $$\n",
        "\n",
        "Y analizando la ultima casilla, en el último turno, se sabe que pudo estar en las casillas 19, 18, 17, 16, 15, 14. Sin embargo no consideramos las serpientes y escaleras. Por lo que al caer en la casilla 17 la serpiente nos baja a la casilla 10. Mientras qeu si se cae en la casilla 15 la escalera nos sube a la casilla 19.\n",
        "\n",
        "Por lo que si nos encontramos en la casilla 20, no podemos haber estado en la casilla 17 ni en la 15, con lo que solo pudo estar en las casillas 19, 18, 16, 14."
      ],
      "metadata": {
        "id": "LVp-ZNKOf1Ds"
      }
    },
    {
      "cell_type": "markdown",
      "source": [
        "Sean:\n",
        "\n",
        "$\\qquad \\quad c_i:$ la probabilidad de estar en la casilla $i = {1, 2, ..., 20}$;\n",
        "\n",
        "$\\qquad \\quad c_{i|j}:$ la probabilidad de estar en la casilla $i = {1, 2, ..., 20}$ dado a que se estuvo en el anterior turno en la casilla $j = {1, 2, ..., 20}$\n",
        "\n",
        "$$⇒ c_{20} = c_{20|19}*c_{19} + c_{20|18}*c_{18} + c_{20|16}*c_{16} + c_{20|14}*c_{14}$$\n",
        "\n",
        "$$ c_{20} = \\frac{1}{4}c_{19} + \\frac{1}{4}c_{18} + \\frac{1}{4}c_{16} + \\frac{1}{4}c_{14} $$\n",
        "\n",
        "\n",
        "Sin ambargo, la expresion anterior esta obviando los valores de las probabilidades condicionales iguales a cero, las cuales son el resto de 11 casillas posibles."
      ],
      "metadata": {
        "id": "PZeuwVH6qNRE"
      }
    },
    {
      "cell_type": "markdown",
      "source": [
        "Ahora, se va a analizar un caso con escaleras, por ejemplo la casilla 19.\n",
        "\n",
        "Para estar en esta casilla, en las anteriores casillas se pudo estar en las casillas 18, 16 o 14 sin considerar la escalera.\n",
        "\n",
        "Al considerar la escalera, seria como considerar aquellas que lleguen a 15, es decir, considerar las casillas 14, 12, 11, 10, 9. De esta manera:\n",
        "\n",
        "$$ c_{19} = c_{19|18}*c_{18} + c_{19|16}*c_{16} + ... + c_{19|1}*c_{1} + c_{19|0}*c_{0} $$\n",
        "\n",
        "$$ c_{19} = \\frac{1}{4}c_{18} + \\frac{1}{4}c_{16} + \\frac{1}{4} c_{14} + \\frac{1}{4 * 5}c_{14} + \\frac{1}{4 * 5}c_{12} + \\frac{1}{4 * 5}c_{11} + \\frac{1}{4 * 5}c_{10} + \\frac{1}{4 * 5}c_{9} $$\n",
        "\n",
        "$$ c_{19} = \\frac{1}{4}c_{18} + \\frac{1}{4}c_{16} + \\frac{1}{4} c_{14} + \\frac{1}{20}c_{14} + \\frac{1}{20}c_{12} + \\frac{1}{20}c_{11} + \\frac{1}{20}c_{10} + \\frac{1}{20}c_{9} $$\n",
        "\n",
        "$$ c_{19} = \\frac{1}{4}c_{18} + \\frac{1}{4}c_{16} + \\frac{6}{20}c_{14} + \\frac{1}{20}c_{12} + \\frac{1}{20}c_{11} + \\frac{1}{20}c_{10} + \\frac{1}{20}c_{9} $$"
      ],
      "metadata": {
        "id": "PTVMPFMAqN13"
      }
    },
    {
      "cell_type": "markdown",
      "source": [
        "Si se continua analizando cada caso con cada casilla, se puede obtener un sistema de ecuaciones. $C = AC$. Donde:\n",
        "\n",
        "$$ A = \\left[ \\begin{array}{} 0 & \\frac{1}{4} & \\frac{1}{4} & \\frac{1}{4} & \\frac{1}{4} & 0 & 0 & 0 & 0 & 0 & 0 & 0 & 0 & 0 & 0 & 0 & 0\\\\\n",
        "0 & 0 & \\frac{1}{4} & \\frac{1}{4} & \\frac{3}{10} & \\frac{1}{20} & \\frac{1}{20} & \\frac{1}{20} & \\frac{1}{20} & 0 & 0 & 0 & 0 & 0 & 0 & 0 & 0\\\\\n",
        "0 & 0 & 0 & \\frac{1}{3} & \\frac{1}{3} & \\frac{1}{3} & 0 & 0 & 0 & 0 & 0 & 0 & 0 & 0 & 0 & 0 & 0\\\\\n",
        "0 & 0 & 0 & 0 & \\frac{1}{4} & \\frac{1}{4} & \\frac{1}{4} & \\frac{1}{4} & 0 & 0 & 0 & 0 & 0 & 0 & 0 & 0 & 0\\\\\n",
        "0 & 0 & 0 & 0 & 0 & \\frac{1}{5} & \\frac{1}{5} & \\frac{1}{5} & \\frac{1}{5} & \\frac{1}{5} & 0 & 0 & 0 & 0 & 0 & 0 & 0\\\\\n",
        "0 & 0 & 0 & 0 & 0 & 0 & \\frac{1}{6} & \\frac{1}{6} & \\frac{1}{6} & \\frac{1}{6} & \\frac{1}{6} & \\frac{1}{6} & 0 & 0 & 0 & 0 & 0\\\\\n",
        "0 & 0 & 0 & 0 & 0 & 0 & 0 & \\frac{1}{7} & \\frac{1}{7} & \\frac{1}{7} & \\frac{1}{7} & \\frac{1}{7} & \\frac{1}{7} & 0 & \\frac{1}{21} & \\frac{1}{21} & \\frac{1}{21}\\\\\n",
        "0 & 0 & \\frac{1}{28} & \\frac{1}{28} & \\frac{1}{28} & \\frac{1}{28} & 0 & 0 & \\frac{1}{7} & \\frac{1}{7} & \\frac{1}{7} & \\frac{1}{7} & \\frac{1}{7} & \\frac{1}{7} & 0 & 0 & 0\\\\\n",
        "0 & 0 & 0 & 0 & 0 & 0 & 0 & 0 & 0 & \\frac{1}{5} & \\frac{1}{5} & \\frac{1}{5} & \\frac{1}{5} & \\frac{1}{5} & 0 & 0 & 0\\\\\n",
        "0 & 0 & 0 & 0 & 0 & 0 & 0 & 0 & 0 & 0 & \\frac{1}{5} & \\frac{1}{5} & \\frac{1}{5} & \\frac{1}{5} & \\frac{1}{5} & 0 & 0\\\\\n",
        "0 & 0 & 0 & 0 & 0 & 0 & 0 & 0 & 0 & 0 & 0 & \\frac{1}{5} & \\frac{1}{5} & \\frac{1}{5} & \\frac{1}{5} & \\frac{1}{5} & 0\\\\\n",
        "0 & 0 & 0 & 0 & 0 & 0 & 0 & 0 & 0 & 0 & 0 & 0 & \\frac{1}{5} & \\frac{1}{5} & \\frac{1}{5} & \\frac{1}{5} & \\frac{1}{5}\\\\\n",
        "0 & 0 & 0 & 0 & 0 & 0 & 0 & 0 & 0 & 0 & 0 & 0 & 0 & \\frac{1}{4} & \\frac{1}{4} & \\frac{1}{4} & \\frac{1}{4}\\\\\n",
        "0 & 0 & 0 & 0 & 0 & \\frac{1}{24} & \\frac{1}{24} & \\frac{1}{24} & \\frac{1}{24} & \\frac{1}{24} & \\frac{1}{24} & 0 & 0 & 0 & \\frac{1}{4} & \\frac{1}{4} & \\frac{1}{4}\\\\\n",
        "0 & 0 & 0 & 0 & 0 & 0 & 0 & 0 & 0 & 0 & 0 & 0 & 0 & 0 & 0 & \\frac{1}{2} & \\frac{1}{2}\\\\\n",
        "0 & 0 & 0 & 0 & 0 & 0 & 0 & 0 & 0 & 0 & 0 & 0 & 0 & 0 & 0 & 0 & 1\\\\\n",
        "0 & 0 & 0 & 0 & 0 & 0 & 0 & 0 & 0 & 0 & 0 & 0 & 0 & 0 & 0 & 0 & 0\\\\ \\end{array} \\right] $$\n",
        "\n",
        "$$ C = \\left[ c_{20} \\quad c_{19} \\quad c_{18} \\quad c_{16} \\quad c_{14} \\quad c_{12} \\quad c_{11} \\quad c_{10} \\quad c_{9} \\quad c_{8} \\quad c_{7} \\quad c_{6} \\quad c_{5} \\quad c_{4} \\quad c_{2} \\quad c_{1} \\quad c_{0} \\right] $$"
      ],
      "metadata": {
        "id": "Z3WixLUJxYjE"
      }
    },
    {
      "cell_type": "code",
      "source": [
        "import numpy.linalg  as la\n",
        "A = [[0, 1/4, 1/4, 1/4, 1/4, 0, 0, 0, 0, 0, 0, 0, 0, 0, 0, 0, 0],\n",
        "     [0, 0, 1/4, 1/4, 3/10, 1/20, 1/20, 1/20, 1/20, 0, 0, 0, 0, 0, 0, 0, 0],\n",
        "     [0, 0, 0, 1/3, 1/3, 1/3, 0, 0, 0, 0, 0, 0, 0, 0, 0, 0, 0],\n",
        "     [0, 0, 0, 0, 1/4, 1/4, 1/4, 1/4, 0, 0, 0, 0, 0, 0, 0, 0, 0],\n",
        "     [0, 0, 0, 0, 0, 1/5, 1/5, 1/5, 1/5, 1/5, 0, 0, 0, 0, 0, 0, 0],\n",
        "     [0, 0, 0, 0, 0, 0, 1/6, 1/6, 1/6, 1/6, 1/6, 1/6, 0, 0, 0, 0, 0],\n",
        "     [0, 0, 0, 0, 0, 0, 0, 1/7, 1/7, 1/7, 1/7, 1/7, 1/7, 0, 1/21, 1/21, 1/21],\n",
        "     [0, 0, 1/28, 1/28, 1/28, 1/28, 0, 0, 1/7, 1/7, 1/7, 1/7, 1/7, 1/7, 0, 0, 0],\n",
        "     [0, 0, 0, 0, 0, 0, 0, 0, 0, 1/5, 1/5, 1/5, 1/5, 1/5, 0, 0, 0],\n",
        "     [0, 0, 0, 0, 0, 0, 0, 0, 0, 0, 1/5, 1/5, 1/5, 1/5, 1/5, 0, 0],\n",
        "     [0, 0, 0, 0, 0, 0, 0, 0, 0, 0, 0, 1/5, 1/5, 1/5, 1/5, 1/5, 0],\n",
        "     [0, 0, 0, 0, 0, 0, 0, 0, 0, 0, 0, 0, 1/5, 1/5, 1/5, 1/5, 1/5],\n",
        "     [0, 0, 0, 0, 0, 0, 0, 0, 0, 0, 0, 0, 0, 1/4, 1/4, 1/4, 1/4],\n",
        "     [0, 0, 0, 0, 0, 1/24, 1/24, 1/24, 1/24, 1/24, 1/24, 0, 0, 0, 1/4, 1/4, 1/4],\n",
        "     [0, 0, 0, 0, 0, 0, 0, 0, 0, 0, 0, 0, 0, 0, 0, 1/2, 1/24],\n",
        "     [0, 0, 0, 0, 0, 0, 0, 0, 0, 0, 0, 0, 0, 0, 0, 0, 1],\n",
        "     [0, 0, 0, 0, 0, 0, 0, 0, 0, 0, 0, 0, 0, 0, 0, 0, 0],\n",
        "     ]\n",
        "eval, evec = la.eig(A)\n",
        "n = len(eval)\n",
        "for i in range(n):\n",
        "  print(eval[i])\n",
        "  print(evec[i],'\\n')\n",
        ""
      ],
      "metadata": {
        "id": "fRnlvSaw9Fj0"
      },
      "execution_count": null,
      "outputs": []
    },
    {
      "cell_type": "code",
      "source": [
        "import numpy as np\n",
        "a = True\n",
        "i = 1\n",
        "\n",
        "# print(np.allclose(np.array([1, 2]), np.array([1, 2])))\n",
        "while a:\n",
        "  aa = la.matrix_power(A, i)\n",
        "  aaa = la.matrix_power(A, i+1)\n",
        "  a = not np.allclose(aa, aaa)\n",
        "  i += 1\n",
        "# print(aa)\n",
        "print(i)\n",
        "eval, evec = la.eig(aa)\n",
        "n = len(eval)\n",
        "for i in range(n):\n",
        "  print(eval[i])\n",
        "  print(evec[i],'\\n')\n",
        ""
      ],
      "metadata": {
        "id": "VxC1_0FLCH8B"
      },
      "execution_count": null,
      "outputs": []
    },
    {
      "cell_type": "code",
      "source": [
        "i = 1\n",
        "a = True\n",
        "c = [0, 0, 0, 0, 0, 0, 0, 0, 0, 0, 0, 1/6, 1/6, 1/6, 1/6, 1/6, 1/6]\n",
        "# while a:\n",
        "#   aa = la.matrix_power(A, i)\n",
        "#   aaa = np.dot(aa, c)\n",
        "#   a = not np.allclose(c, aaa)\n",
        "#   i += 1\n",
        "for i in range(1,50):\n",
        "  aa = la.matrix_power(A, i)\n",
        "  print(np.round(np.dot(aa, c), 5),'\\n')"
      ],
      "metadata": {
        "colab": {
          "base_uri": "https://localhost:8080/"
        },
        "id": "YFr74X-sJ-42",
        "outputId": "dfcba20b-867b-410d-8aa5-bab6e33e8207"
      },
      "execution_count": 85,
      "outputs": [
        {
          "output_type": "stream",
          "name": "stdout",
          "text": [
            "[0.      0.      0.      0.      0.      0.00694 0.00694 0.00694 0.00694\n",
            " 0.00694 0.00694 0.      0.03333 0.075   0.11667 0.2     0.29028] \n",
            "\n",
            "[0.      0.      0.00025 0.00025 0.00025 0.00337 0.00428 0.00527 0.00627\n",
            " 0.00766 0.00904 0.00731 0.00615 0.01349 0.03019 0.08714 0.23228] \n",
            "\n",
            "[0.      0.      0.00019 0.00027 0.00033 0.00094 0.00124 0.00185 0.00254\n",
            " 0.00379 0.00527 0.00652 0.00742 0.00835 0.00992 0.02348 0.09497] \n",
            "\n",
            "[0.000e+00 0.000e+00 7.000e-05 1.300e-04 2.000e-04 6.100e-04 6.400e-04\n",
            " 8.200e-04 1.010e-03 1.520e-03 2.210e-03 2.920e-03 4.070e-03 5.740e-03\n",
            " 7.120e-03 1.132e-02 2.920e-02] \n",
            "\n",
            "[0.000e+00 0.000e+00 3.000e-05 5.000e-05 8.000e-05 3.600e-04 4.100e-04\n",
            " 5.000e-04 5.900e-04 7.900e-04 1.060e-03 1.260e-03 1.740e-03 2.670e-03\n",
            " 3.810e-03 7.070e-03 1.468e-02] \n",
            "\n",
            "[0.00e+00 0.00e+00 2.00e-05 3.00e-05 4.00e-05 1.70e-04 2.00e-04 2.60e-04\n",
            " 3.20e-04 4.40e-04 5.80e-04 6.80e-04 8.70e-04 1.25e-03 1.74e-03 3.49e-03\n",
            " 8.60e-03] \n",
            "\n",
            "[0.00e+00 0.00e+00 1.00e-05 2.00e-05 2.00e-05 8.00e-05 9.00e-05 1.20e-04\n",
            " 1.50e-04 2.20e-04 3.00e-04 3.60e-04 4.70e-04 6.60e-04 8.80e-04 1.66e-03\n",
            " 4.24e-03] \n",
            "\n",
            "[0.00e+00 0.00e+00 0.00e+00 1.00e-05 1.00e-05 4.00e-05 5.00e-05 6.00e-05\n",
            " 8.00e-05 1.10e-04 1.50e-04 1.80e-04 2.40e-04 3.40e-04 4.60e-04 8.60e-04\n",
            " 2.06e-03] \n",
            "\n",
            "[0.00e+00 0.00e+00 0.00e+00 0.00e+00 1.00e-05 2.00e-05 3.00e-05 3.00e-05\n",
            " 4.00e-05 6.00e-05 7.00e-05 9.00e-05 1.20e-04 1.70e-04 2.30e-04 4.40e-04\n",
            " 1.06e-03] \n",
            "\n",
            "[0.0e+00 0.0e+00 0.0e+00 0.0e+00 0.0e+00 1.0e-05 1.0e-05 2.0e-05 2.0e-05\n",
            " 3.0e-05 4.0e-05 5.0e-05 6.0e-05 9.0e-05 1.2e-04 2.2e-04 5.4e-04] \n",
            "\n",
            "[0.0e+00 0.0e+00 0.0e+00 0.0e+00 0.0e+00 1.0e-05 1.0e-05 1.0e-05 1.0e-05\n",
            " 1.0e-05 2.0e-05 2.0e-05 3.0e-05 4.0e-05 6.0e-05 1.1e-04 2.7e-04] \n",
            "\n",
            "[0.0e+00 0.0e+00 0.0e+00 0.0e+00 0.0e+00 0.0e+00 0.0e+00 0.0e+00 1.0e-05\n",
            " 1.0e-05 1.0e-05 1.0e-05 2.0e-05 2.0e-05 3.0e-05 6.0e-05 1.4e-04] \n",
            "\n",
            "[0.e+00 0.e+00 0.e+00 0.e+00 0.e+00 0.e+00 0.e+00 0.e+00 0.e+00 0.e+00\n",
            " 0.e+00 1.e-05 1.e-05 1.e-05 2.e-05 3.e-05 7.e-05] \n",
            "\n",
            "[0.e+00 0.e+00 0.e+00 0.e+00 0.e+00 0.e+00 0.e+00 0.e+00 0.e+00 0.e+00\n",
            " 0.e+00 0.e+00 0.e+00 1.e-05 1.e-05 1.e-05 4.e-05] \n",
            "\n",
            "[0.e+00 0.e+00 0.e+00 0.e+00 0.e+00 0.e+00 0.e+00 0.e+00 0.e+00 0.e+00\n",
            " 0.e+00 0.e+00 0.e+00 0.e+00 0.e+00 1.e-05 2.e-05] \n",
            "\n",
            "[0.e+00 0.e+00 0.e+00 0.e+00 0.e+00 0.e+00 0.e+00 0.e+00 0.e+00 0.e+00\n",
            " 0.e+00 0.e+00 0.e+00 0.e+00 0.e+00 0.e+00 1.e-05] \n",
            "\n",
            "[0. 0. 0. 0. 0. 0. 0. 0. 0. 0. 0. 0. 0. 0. 0. 0. 0.] \n",
            "\n",
            "[0. 0. 0. 0. 0. 0. 0. 0. 0. 0. 0. 0. 0. 0. 0. 0. 0.] \n",
            "\n",
            "[0. 0. 0. 0. 0. 0. 0. 0. 0. 0. 0. 0. 0. 0. 0. 0. 0.] \n",
            "\n",
            "[0. 0. 0. 0. 0. 0. 0. 0. 0. 0. 0. 0. 0. 0. 0. 0. 0.] \n",
            "\n",
            "[0. 0. 0. 0. 0. 0. 0. 0. 0. 0. 0. 0. 0. 0. 0. 0. 0.] \n",
            "\n",
            "[0. 0. 0. 0. 0. 0. 0. 0. 0. 0. 0. 0. 0. 0. 0. 0. 0.] \n",
            "\n",
            "[0. 0. 0. 0. 0. 0. 0. 0. 0. 0. 0. 0. 0. 0. 0. 0. 0.] \n",
            "\n",
            "[0. 0. 0. 0. 0. 0. 0. 0. 0. 0. 0. 0. 0. 0. 0. 0. 0.] \n",
            "\n",
            "[0. 0. 0. 0. 0. 0. 0. 0. 0. 0. 0. 0. 0. 0. 0. 0. 0.] \n",
            "\n",
            "[0. 0. 0. 0. 0. 0. 0. 0. 0. 0. 0. 0. 0. 0. 0. 0. 0.] \n",
            "\n",
            "[0. 0. 0. 0. 0. 0. 0. 0. 0. 0. 0. 0. 0. 0. 0. 0. 0.] \n",
            "\n",
            "[0. 0. 0. 0. 0. 0. 0. 0. 0. 0. 0. 0. 0. 0. 0. 0. 0.] \n",
            "\n",
            "[0. 0. 0. 0. 0. 0. 0. 0. 0. 0. 0. 0. 0. 0. 0. 0. 0.] \n",
            "\n",
            "[0. 0. 0. 0. 0. 0. 0. 0. 0. 0. 0. 0. 0. 0. 0. 0. 0.] \n",
            "\n",
            "[0. 0. 0. 0. 0. 0. 0. 0. 0. 0. 0. 0. 0. 0. 0. 0. 0.] \n",
            "\n",
            "[0. 0. 0. 0. 0. 0. 0. 0. 0. 0. 0. 0. 0. 0. 0. 0. 0.] \n",
            "\n",
            "[0. 0. 0. 0. 0. 0. 0. 0. 0. 0. 0. 0. 0. 0. 0. 0. 0.] \n",
            "\n",
            "[0. 0. 0. 0. 0. 0. 0. 0. 0. 0. 0. 0. 0. 0. 0. 0. 0.] \n",
            "\n",
            "[0. 0. 0. 0. 0. 0. 0. 0. 0. 0. 0. 0. 0. 0. 0. 0. 0.] \n",
            "\n",
            "[0. 0. 0. 0. 0. 0. 0. 0. 0. 0. 0. 0. 0. 0. 0. 0. 0.] \n",
            "\n",
            "[0. 0. 0. 0. 0. 0. 0. 0. 0. 0. 0. 0. 0. 0. 0. 0. 0.] \n",
            "\n",
            "[0. 0. 0. 0. 0. 0. 0. 0. 0. 0. 0. 0. 0. 0. 0. 0. 0.] \n",
            "\n",
            "[0. 0. 0. 0. 0. 0. 0. 0. 0. 0. 0. 0. 0. 0. 0. 0. 0.] \n",
            "\n",
            "[0. 0. 0. 0. 0. 0. 0. 0. 0. 0. 0. 0. 0. 0. 0. 0. 0.] \n",
            "\n",
            "[0. 0. 0. 0. 0. 0. 0. 0. 0. 0. 0. 0. 0. 0. 0. 0. 0.] \n",
            "\n",
            "[0. 0. 0. 0. 0. 0. 0. 0. 0. 0. 0. 0. 0. 0. 0. 0. 0.] \n",
            "\n",
            "[0. 0. 0. 0. 0. 0. 0. 0. 0. 0. 0. 0. 0. 0. 0. 0. 0.] \n",
            "\n",
            "[0. 0. 0. 0. 0. 0. 0. 0. 0. 0. 0. 0. 0. 0. 0. 0. 0.] \n",
            "\n",
            "[0. 0. 0. 0. 0. 0. 0. 0. 0. 0. 0. 0. 0. 0. 0. 0. 0.] \n",
            "\n",
            "[0. 0. 0. 0. 0. 0. 0. 0. 0. 0. 0. 0. 0. 0. 0. 0. 0.] \n",
            "\n",
            "[0. 0. 0. 0. 0. 0. 0. 0. 0. 0. 0. 0. 0. 0. 0. 0. 0.] \n",
            "\n",
            "[0. 0. 0. 0. 0. 0. 0. 0. 0. 0. 0. 0. 0. 0. 0. 0. 0.] \n",
            "\n",
            "[0. 0. 0. 0. 0. 0. 0. 0. 0. 0. 0. 0. 0. 0. 0. 0. 0.] \n",
            "\n"
          ]
        }
      ]
    },
    {
      "cell_type": "markdown",
      "source": [
        "#***Simulación***"
      ],
      "metadata": {
        "id": "OMclxqcANuL_"
      }
    },
    {
      "cell_type": "code",
      "execution_count": 1,
      "metadata": {
        "id": "jklWFShsM9q_"
      },
      "outputs": [],
      "source": [
        "import numpy  as np\n",
        "from random import random, randint\n",
        "from numba import jit\n",
        "import matplotlib.pyplot as plt"
      ]
    },
    {
      "cell_type": "code",
      "source": [
        "# @jit(nopython = True)\n",
        "def tablero(t = 100, d = 6, s = {98:78, 95:75, 93:73, 87:24, 64:60, 62:19, 56:53, 49:11, 48:26, 16:6}, e = {1:38, 4:14, 9:31, 21:42, 28:84, 36:44, 51:67, 71:91, 60:10}):\n",
        "  pos = 0\n",
        "  l = 0\n",
        "  lp = [pos]\n",
        "  ll = [l]\n",
        "  while pos < t:\n",
        "    pos += randint(1,d)\n",
        "    l+=1\n",
        "    lp.append(pos)\n",
        "    ll.append(l)\n",
        "    if pos in s.keys():\n",
        "      pos = s[pos]\n",
        "      lp.append(pos)\n",
        "      ll.append(l)\n",
        "    elif pos in e.keys():\n",
        "      pos = e[pos]\n",
        "      lp.append(pos)\n",
        "      ll.append(l)\n",
        "  return lp, ll, l"
      ],
      "metadata": {
        "id": "1FCnTTd6NPQl"
      },
      "execution_count": 2,
      "outputs": []
    },
    {
      "cell_type": "code",
      "source": [
        "serpientes = {27:1, 21:9, 19:7}\n",
        "escaleras = {3:22, 20:29, 5:8}\n",
        "\n",
        "p, l, n = tablero(30, 6, serpientes, escaleras)\n",
        "print(p)\n",
        "plt.plot(l,p)\n",
        "plt.show()"
      ],
      "metadata": {
        "colab": {
          "base_uri": "https://localhost:8080/",
          "height": 448
        },
        "id": "CIVr_UC5g-GS",
        "outputId": "914bee14-c062-4ff7-9cd3-c1e7e77d9bfc"
      },
      "execution_count": 3,
      "outputs": [
        {
          "output_type": "stream",
          "name": "stdout",
          "text": [
            "[0, 5, 8, 9, 10, 16, 18, 19, 7, 10, 16, 21, 9, 12, 15, 17, 23, 28, 34]\n"
          ]
        },
        {
          "output_type": "display_data",
          "data": {
            "text/plain": [
              "<Figure size 640x480 with 1 Axes>"
            ],
            "image/png": "[encoded data removed]"
          },
          "metadata": {}
        }
      ]
    },
    {
      "cell_type": "code",
      "source": [
        "e = {1:38,\n",
        "     4:14,\n",
        "     9:31,\n",
        "     21:42,\n",
        "     28:84,\n",
        "     36:44,\n",
        "     51:67,\n",
        "     71:91,\n",
        "     60:100}\n",
        "s = {98:78,\n",
        "     95:75,\n",
        "     93:73,\n",
        "     87:24,\n",
        "     64:60,\n",
        "     62:19,\n",
        "     56:53,\n",
        "     49:11,\n",
        "     48:26,\n",
        "     16:6}\n",
        "\n",
        "pos, lanz, n = tablero(s = s, e = e)\n",
        "plt.plot(lanz,pos)\n",
        "plt.show()"
      ],
      "metadata": {
        "colab": {
          "base_uri": "https://localhost:8080/",
          "height": 430
        },
        "id": "E8r6vr-ikvc0",
        "outputId": "5f7c9cd4-746f-4cd0-fdc9-b307b336a2aa"
      },
      "execution_count": 4,
      "outputs": [
        {
          "output_type": "display_data",
          "data": {
            "text/plain": [
              "<Figure size 640x480 with 1 Axes>"
            ],
            "image/png": "[encoded data removed]"
          },
          "metadata": {}
        }
      ]
    },
    {
      "cell_type": "code",
      "source": [
        "# @jit(nopython = True)\n",
        "def rep(t, d, s, e, n = 10**4):\n",
        "  l = []\n",
        "  for i in range(n):\n",
        "    c = tablero(s = s, e = e)[-1]\n",
        "    l.append(c)\n",
        "  return l"
      ],
      "metadata": {
        "id": "KLPir0kFv5HP"
      },
      "execution_count": 86,
      "outputs": []
    },
    {
      "cell_type": "code",
      "source": [
        "for i in range(19):\n",
        "  l = rep(100, 6, s, e, 10**5)\n",
        "  print(np.mean(l))"
      ],
      "metadata": {
        "colab": {
          "base_uri": "https://localhost:8080/"
        },
        "id": "GMza2mMIxYqt",
        "outputId": "d3591daa-95b5-4c3e-d028-c926736beb20"
      },
      "execution_count": 6,
      "outputs": [
        {
          "output_type": "stream",
          "name": "stdout",
          "text": [
            "53.54826\n",
            "53.5932\n",
            "53.70977\n",
            "53.62587\n",
            "53.71769\n",
            "54.00732\n",
            "53.59457\n",
            "53.80668\n",
            "53.6727\n",
            "53.89153\n",
            "53.76199\n",
            "53.62335\n",
            "53.75359\n",
            "53.63118\n",
            "53.77125\n",
            "53.7035\n",
            "53.95563\n",
            "53.65299\n",
            "53.8298\n"
          ]
        }
      ]
    },
    {
      "cell_type": "code",
      "source": [
        "sc = {17:10, 13:4}\n",
        "ec = {15:19, 3:11}\n",
        "\n",
        "for i in range(7):\n",
        "  l = rep(20, 6, sc, ec, 10**6)\n",
        "  print(np.mean(l))"
      ],
      "metadata": {
        "id": "2L7PcxHlyfRy",
        "colab": {
          "base_uri": "https://localhost:8080/"
        },
        "outputId": "955ac2d4-44ad-459a-96ac-fc41ab24f54b"
      },
      "execution_count": 87,
      "outputs": [
        {
          "output_type": "stream",
          "name": "stdout",
          "text": [
            "29.835102\n",
            "29.826971\n",
            "29.833362\n",
            "29.8342\n",
            "29.832409\n",
            "29.837309\n",
            "29.84061\n"
          ]
        }
      ]
    }
  ]
}