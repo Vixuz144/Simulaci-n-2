{
  "cells": [
    {
      "cell_type": "markdown",
      "metadata": {
        "id": "view-in-github",
        "colab_type": "text"
      },
      "source": [
        "<a href=\"https://colab.research.google.com/github/Vixuz144/Simulaci-n-2/blob/main/Copia_de_Variable_exponencial.ipynb\" target=\"_parent\"><img src=\"https://colab.research.google.com/assets/colab-badge.svg\" alt=\"Open In Colab\"/></a>"
      ]
    },
    {
      "cell_type": "markdown",
      "source": [
        "Esta libreta es para ilustrar como generar variables aleatorias con ciertas distribuciones como la exponencial."
      ],
      "metadata": {
        "id": "fdEIeZKufMih"
      },
      "id": "fdEIeZKufMih"
    },
    {
      "cell_type": "code",
      "execution_count": 36,
      "id": "526a8a72",
      "metadata": {
        "id": "526a8a72"
      },
      "outputs": [],
      "source": [
        "import random as rnd\n",
        "import numpy as np\n",
        "import matplotlib.pyplot as plt\n",
        "from numba import jit\n",
        "from scipy.stats import norm"
      ]
    },
    {
      "cell_type": "markdown",
      "source": [
        "A continuación se muestran 10 números aleatorios con distro exponencial con parámetro λ = 0.5"
      ],
      "metadata": {
        "id": "LcZYmwxnfZqm"
      },
      "id": "LcZYmwxnfZqm"
    },
    {
      "cell_type": "code",
      "execution_count": 37,
      "id": "3cc7a018",
      "metadata": {
        "id": "3cc7a018"
      },
      "outputs": [],
      "source": [
        "n=10\n",
        "lamda=0.5\n",
        "L=-1/lamda"
      ]
    },
    {
      "cell_type": "code",
      "execution_count": 38,
      "id": "f9d7220f",
      "metadata": {
        "id": "f9d7220f",
        "outputId": "56407eb6-b7f4-4a00-f530-303111f3f93a",
        "colab": {
          "base_uri": "https://localhost:8080/"
        }
      },
      "outputs": [
        {
          "output_type": "stream",
          "name": "stdout",
          "text": [
            "0.14996915493139434\n",
            "3.2736782166177685\n",
            "0.46251515958537803\n",
            "4.148115760621131\n",
            "0.062900519913499\n",
            "5.179151156588658\n",
            "5.561465860617334\n",
            "0.3642334496673728\n",
            "0.3209165439881023\n",
            "2.2997478890411016\n"
          ]
        }
      ],
      "source": [
        "for i in range(n):\n",
        "    u=rnd.random()\n",
        "    x=L*np.log(u)\n",
        "    print(x)"
      ]
    },
    {
      "cell_type": "code",
      "execution_count": 39,
      "id": "952aaa63",
      "metadata": {
        "id": "952aaa63"
      },
      "outputs": [],
      "source": [
        "@jit(nopython = True)\n",
        "def expo(lamda=1.0,n=10):\n",
        "    L=-1/lamda\n",
        "    lista=[]\n",
        "    for i in range(n):\n",
        "        u=rnd.random()\n",
        "        x=L*np.log(u)\n",
        "        lista.append(x)\n",
        "    return lista"
      ]
    },
    {
      "cell_type": "code",
      "execution_count": 40,
      "id": "6c3273ea",
      "metadata": {
        "id": "6c3273ea"
      },
      "outputs": [],
      "source": [
        "muestra=expo(0.5,50)"
      ]
    },
    {
      "cell_type": "code",
      "execution_count": 41,
      "id": "04963b3a",
      "metadata": {
        "id": "04963b3a"
      },
      "outputs": [],
      "source": [
        "media=np.mean(muestra)"
      ]
    },
    {
      "cell_type": "code",
      "execution_count": 42,
      "id": "c3af2714",
      "metadata": {
        "id": "c3af2714",
        "outputId": "f2afe1cd-04e1-49b3-85ae-6508378299b0",
        "colab": {
          "base_uri": "https://localhost:8080/"
        }
      },
      "outputs": [
        {
          "output_type": "execute_result",
          "data": {
            "text/plain": [
              "2.3227724948205766"
            ]
          },
          "metadata": {},
          "execution_count": 42
        }
      ],
      "source": [
        "np.var(muestra)"
      ]
    },
    {
      "cell_type": "code",
      "execution_count": 43,
      "id": "659af062",
      "metadata": {
        "id": "659af062",
        "outputId": "30880edd-c34b-467c-d163-acb49ea6c4da",
        "colab": {
          "base_uri": "https://localhost:8080/",
          "height": 440
        }
      },
      "outputs": [
        {
          "output_type": "display_data",
          "data": {
            "text/plain": [
              "<Figure size 640x480 with 1 Axes>"
            ],
            "image/png": "[encoded data removed]"
          },
          "metadata": {}
        }
      ],
      "source": [
        "plt.style.use('classic')\n",
        "plt.hist(muestra, bins = 15, color = 'pink', edgecolor = 'red')\n",
        "plt.show()"
      ]
    },
    {
      "cell_type": "code",
      "execution_count": 44,
      "id": "1bf4eb64",
      "metadata": {
        "id": "1bf4eb64"
      },
      "outputs": [],
      "source": [
        "#Para hacer la distribución acumulativa\n",
        "M=np.sort(muestra)"
      ]
    },
    {
      "cell_type": "code",
      "execution_count": 45,
      "id": "acc98ccb",
      "metadata": {
        "id": "acc98ccb"
      },
      "outputs": [],
      "source": [
        "def cdf(muestra):\n",
        "    n=len(muestra)\n",
        "    x=np.sort(muestra)\n",
        "    y=np.arange(0,n)/n\n",
        "    return x,y"
      ]
    },
    {
      "cell_type": "code",
      "execution_count": 46,
      "id": "b2f831af",
      "metadata": {
        "id": "b2f831af"
      },
      "outputs": [],
      "source": [
        "#print(cdf(muestra))"
      ]
    },
    {
      "cell_type": "code",
      "execution_count": 47,
      "id": "faa272c5",
      "metadata": {
        "id": "faa272c5"
      },
      "outputs": [],
      "source": [
        "x_math,y_math= cdf(muestra)"
      ]
    },
    {
      "cell_type": "code",
      "execution_count": 48,
      "id": "d83a6404",
      "metadata": {
        "id": "d83a6404",
        "outputId": "6b75ad9a-3cef-40ad-e230-25c87bd124cf",
        "colab": {
          "base_uri": "https://localhost:8080/",
          "height": 440
        }
      },
      "outputs": [
        {
          "output_type": "display_data",
          "data": {
            "text/plain": [
              "<Figure size 640x480 with 1 Axes>"
            ],
            "image/png": "[encoded data removed]"
          },
          "metadata": {}
        }
      ],
      "source": [
        "plt.step(x_math,y_math)\n",
        "plt.axhline(y=0.5, color='red') #La mediana\n",
        "plt.axvline(x=media,color='green') #La media\n",
        "plt.show()"
      ]
    },
    {
      "cell_type": "markdown",
      "source": [
        "Ahora, se va a obtener números aleatorios con función de densidad de probabilidad:\n",
        "\n",
        "$$ f(x) = \\frac{e^x}{e-1} $$\n",
        "\n",
        "Su función de distribución (cdf) es:\n",
        "$$ F(x) = ∫_{-∞}^x f(s) ds $$\n",
        "$$ F(x) = ∫_0^x \\frac{e^s}{e-1} ds = \\frac{1}{e-1}∫_0^x e^s ds = \\frac{1}{e-1}\\left[ e^x - e^0 \\right] = \\frac{e^x-1}{e-1} $$\n",
        "$$ \\therefore F(x) = \\frac{e^x-1}{e-1} $$\n",
        "\n",
        "Así, su función inversa es:\n",
        "\n",
        "$$F^{-1}(u) = ln(u*(e-1) + 1)$$"
      ],
      "metadata": {
        "id": "LsNyouLmondX"
      },
      "id": "LsNyouLmondX"
    },
    {
      "cell_type": "code",
      "execution_count": 49,
      "id": "1e1d0af3",
      "metadata": {
        "id": "1e1d0af3"
      },
      "outputs": [],
      "source": [
        "@jit(nopython = True)\n",
        "def distro(n):\n",
        "  l = []\n",
        "  for i in range(n):\n",
        "    l.append(np.log(rnd.random() *(np.e-1) + 1))\n",
        "  return l"
      ]
    },
    {
      "cell_type": "code",
      "execution_count": 50,
      "id": "35db7d36",
      "metadata": {
        "id": "35db7d36",
        "colab": {
          "base_uri": "https://localhost:8080/",
          "height": 440
        },
        "outputId": "45fceca7-d2ad-4119-c7e0-bbc9c1771521"
      },
      "outputs": [
        {
          "output_type": "display_data",
          "data": {
            "text/plain": [
              "<Figure size 640x480 with 1 Axes>"
            ],
            "image/png": "[encoded data removed]"
          },
          "metadata": {}
        }
      ],
      "source": [
        "n = 10**5\n",
        "muestra = distro(n)\n",
        "med = np.mean(muestra)\n",
        "var = np.var(muestra, ddof = 1)\n",
        "plt.style.use('dark_background')\n",
        "plt.hist(muestra, density = False, bins = 30, color = 'gray', edgecolor = 'white')\n",
        "plt.show()"
      ]
    },
    {
      "cell_type": "code",
      "execution_count": 51,
      "id": "ccb2ff54",
      "metadata": {
        "id": "ccb2ff54",
        "colab": {
          "base_uri": "https://localhost:8080/",
          "height": 440
        },
        "outputId": "7c564fe6-e4f4-4e10-9029-1f2342c842ea"
      },
      "outputs": [
        {
          "output_type": "display_data",
          "data": {
            "text/plain": [
              "<Figure size 640x480 with 1 Axes>"
            ],
            "image/png": "[encoded data removed]"
          },
          "metadata": {}
        }
      ],
      "source": [
        "plt.plot(np.sort(muestra), np.arange(len(muestra)))\n",
        "plt.axhline(med, color='red') #La mediana\n",
        "plt.axvline(med,color='green')\n",
        "plt.show()"
      ]
    }
  ],
  "metadata": {
    "kernelspec": {
      "display_name": "Python 3 (ipykernel)",
      "language": "python",
      "name": "python3"
    },
    "language_info": {
      "codemirror_mode": {
        "name": "ipython",
        "version": 3
      },
      "file_extension": ".py",
      "mimetype": "text/x-python",
      "name": "python",
      "nbconvert_exporter": "python",
      "pygments_lexer": "ipython3",
      "version": "3.7.3"
    },
    "colab": {
      "provenance": [],
      "include_colab_link": true
    }
  },
  "nbformat": 4,
  "nbformat_minor": 5
}